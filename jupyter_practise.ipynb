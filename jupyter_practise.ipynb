{
 "cells": [
  {
   "cell_type": "code",
   "execution_count": 7,
   "id": "b038a492",
   "metadata": {},
   "outputs": [
    {
     "name": "stdout",
     "output_type": "stream",
     "text": [
      "[5.27, 5.17, 9.87, 29.03]\n"
     ]
    }
   ],
   "source": [
    "exch_rate = 0.88\n",
    "usd_list = [5.99, 5.88, 11.22, 32.99]\n",
    "\n",
    "af_currency = []\n",
    "for list in usd_list:\n",
    "    af_currency.append(round(list * exch_rate,2))\n",
    "print(af_currency)"
   ]
  },
  {
   "cell_type": "code",
   "execution_count": 12,
   "id": "2647da52",
   "metadata": {},
   "outputs": [
    {
     "name": "stdout",
     "output_type": "stream",
     "text": [
      "5.88\n"
     ]
    }
   ],
   "source": [
    "usd_list = [5.99, 5.88, 11.22, 32.99]\n",
    "\n",
    "for usd in usd_list:\n",
    "    usd = usd_list[1] #@drukujemy drugi index w tym przypadku 5.88\n",
    "print(usd)"
   ]
  },
  {
   "cell_type": "code",
   "execution_count": 47,
   "id": "0f206c3a",
   "metadata": {},
   "outputs": [
    {
     "name": "stdout",
     "output_type": "stream",
     "text": [
      "M\n",
      "a\n",
      "v\n",
      "e\n",
      "n\n",
      "Good\n"
     ]
    }
   ],
   "source": [
    "iterable = 'Maven'\n",
    "for item in iterable:\n",
    "    print(item)\n",
    "if item == 'n':\n",
    "    print('Good')"
   ]
  },
  {
   "cell_type": "code",
   "execution_count": 51,
   "id": "7253079f",
   "metadata": {},
   "outputs": [
    {
     "name": "stdout",
     "output_type": "stream",
     "text": [
      "3\n"
     ]
    }
   ],
   "source": [
    "customer_ratings = [ '3 stars', '4 stars', '5 stars', '3 stars', '1 star', '5 stars', '4 stars']\n",
    "\n",
    "rating = int(customer_ratings[0][0])\n",
    "print(rating)"
   ]
  },
  {
   "cell_type": "code",
   "execution_count": 62,
   "id": "d2f9ec2a",
   "metadata": {},
   "outputs": [
    {
     "name": "stdout",
     "output_type": "stream",
     "text": [
      "3.5714285714285716\n",
      "[3, 4, 5, 3, 1, 5, 4]\n"
     ]
    }
   ],
   "source": [
    "empty_list = [] #tworzymy pusta liste aby zapisac dane do niej\n",
    "for rating in customer_ratings:\n",
    "    empty_list.append(int(rating[0])) #wybieramy pierwszy znak w wybranym elemencie listy\n",
    "    avg = (sum(empty_list)/ len(empty_list) )\n",
    "print(avg)\n",
    "print(empty_list)"
   ]
  },
  {
   "cell_type": "code",
   "execution_count": 65,
   "id": "c6d05dc1",
   "metadata": {},
   "outputs": [
    {
     "name": "stdout",
     "output_type": "stream",
     "text": [
      "[5.27, 5.17, 9.87, 29.03]\n"
     ]
    }
   ],
   "source": [
    "exchange_rate = 0.88\n",
    "usd_list = [5.99, 5.88, 11.22, 32.99]\n",
    "euro_list = []\n",
    "\n",
    "for i in range(len(usd_list)):\n",
    "    euro_list.append(round(usd_list[i] * exchange_rate, 2))\n",
    "print(euro_list)"
   ]
  },
  {
   "cell_type": "code",
   "execution_count": 28,
   "id": "eb05edd4",
   "metadata": {},
   "outputs": [
    {
     "name": "stdout",
     "output_type": "stream",
     "text": [
      " The snowboard costs 5.99 euros.\n",
      " The  boots costs 5.88 euros.\n",
      " The helmet costs 11.22 euros.\n",
      " The google costs 32.99 euros.\n"
     ]
    }
   ],
   "source": [
    "usd_list = [5.99, 5.88, 11.22, 32.99]\n",
    "item_list =  ['Snowboard', ' Boots', 'Helmet', 'Google', 'Bindings']\n",
    "\n",
    "for i in range(len(usd_list)):\n",
    "    print(f' The {item_list[i].lower()} costs {usd_list[i]} euros.')\n",
    "    "
   ]
  },
  {
   "cell_type": "code",
   "execution_count": 6,
   "id": "4eddee97",
   "metadata": {},
   "outputs": [
    {
     "name": "stdout",
     "output_type": "stream",
     "text": [
      " Some kind of word 2.99 and another word10\n",
      " Some kind of word 99.99 and another word15\n",
      " Some kind of word 219.99 and another word10\n",
      " Some kind of word 89.99 and another word15\n",
      " Some kind of word 29.99 and another word8\n",
      " Some kind of word 9.99 and another word27\n",
      " item 1: Inventory - 10, Price - $2.99\n",
      " item 2: Inventory - 15, Price - $99.99\n",
      " item 3: Inventory - 10, Price - $219.99\n",
      " item 4: Inventory - 15, Price - $89.99\n",
      " item 5: Inventory - 8, Price - $29.99\n",
      " item 6: Inventory - 27, Price - $9.99\n"
     ]
    }
   ],
   "source": [
    "inventory = [10, 15, 10, 15 , 8 , 27]\n",
    "prices = [2.99, 99.99, 219.99, 89.99, 29.99, 9.99]\n",
    "\n",
    "for i in range(len(inventory)):\n",
    "    print (f' Some kind of word {prices[i]} and another word {inventory[i]}')\n",
    "\n",
    "for index, item in enumerate(inventory):\n",
    "    price = prices[index]\n",
    "    print(f' item {index + 1}: Inventory - {item}, Price - ${price}')"
   ]
  },
  {
   "cell_type": "code",
   "execution_count": 7,
   "id": "cafc034b",
   "metadata": {},
   "outputs": [
    {
     "name": "stdout",
     "output_type": "stream",
     "text": [
      "0\n",
      "1\n",
      "2\n",
      "3\n",
      "4\n",
      "5\n"
     ]
    }
   ],
   "source": [
    "inventory = [10, 15, 10, 15 , 8 , 27]\n",
    "prices = [2.99, 99.99, 219.99, 89.99, 29.99, 9.99]\n",
    "\n",
    "for i in range(len(inventory)):\n",
    "    print(i)\n",
    "\n"
   ]
  },
  {
   "cell_type": "code",
   "execution_count": 11,
   "id": "dee41cd6",
   "metadata": {},
   "outputs": [
    {
     "name": "stdout",
     "output_type": "stream",
     "text": [
      "29.9\n",
      "1499.85\n",
      "2199.9\n",
      "1349.85\n",
      "239.92\n",
      "269.73\n"
     ]
    }
   ],
   "source": [
    "inventory = [10, 15, 10, 15 , 8 , 27]\n",
    "prices = [2.99, 99.99, 219.99, 89.99, 29.99, 9.99]\n",
    "\n",
    "for i in range(len(inventory)):\n",
    "    print(round(inventory[i] * prices[i], 2))"
   ]
  },
  {
   "cell_type": "code",
   "execution_count": 14,
   "id": "c88c771e",
   "metadata": {},
   "outputs": [
    {
     "name": "stdout",
     "output_type": "stream",
     "text": [
      "[29.9, 1499.85, 2199.9, 1349.85, 239.92, 269.73]\n"
     ]
    }
   ],
   "source": [
    "product_values = [] #pusta lista \n",
    "for i in range(len(inventory)): #iterujemy po indeksach liscie inventory, ktora z poleceniem len zwraca calkowita liczbe elementow listy\n",
    "    product_values.append(round(inventory[i] * prices[i], 2)) #dodajemy do pustej listy stworzonej wyzej\n",
    "print(product_values) #drukujemy wynik"
   ]
  },
  {
   "cell_type": "code",
   "execution_count": 15,
   "id": "013f22ba",
   "metadata": {},
   "outputs": [
    {
     "data": {
      "text/plain": [
       "5589.15"
      ]
     },
     "execution_count": 15,
     "metadata": {},
     "output_type": "execute_result"
    }
   ],
   "source": [
    "sum(product_values) #zliaczamy sume"
   ]
  },
  {
   "cell_type": "code",
   "execution_count": 17,
   "id": "1641c8c4",
   "metadata": {},
   "outputs": [
    {
     "name": "stdout",
     "output_type": "stream",
     "text": [
      "0 5.99\n",
      "1 5.88\n",
      "2 11.22\n",
      "3 32.99\n",
      "4 99.99\n"
     ]
    }
   ],
   "source": [
    "euro_list = [5.99, 5.88, 11.22, 32.99, 99.99]\n",
    "item_list =  ['Snowboard', ' Boots', 'Helmet', 'Google', 'Bindings']\n",
    "\n",
    "for index, element in enumerate(euro_list):\n",
    "    print(index, element)"
   ]
  },
  {
   "cell_type": "code",
   "execution_count": 19,
   "id": "b376db5e",
   "metadata": {},
   "outputs": [
    {
     "name": "stdout",
     "output_type": "stream",
     "text": [
      "[29.9, 1399.86, 2199.9, 1349.85, 239.92, 269.73]\n"
     ]
    },
    {
     "data": {
      "text/plain": [
       "5489.16"
      ]
     },
     "execution_count": 19,
     "metadata": {},
     "output_type": "execute_result"
    }
   ],
   "source": [
    "item_names = [ 'Keychain', 'Helmet', 'Snowboard', 'Ski Poles', 'Sweatshit', 'Boots']\n",
    "inventories = [10, 14, 10, 15, 8 , 27]\n",
    "prices = [2.99, 99.99, 219.99, 89.99, 29.99, 9.99]\n",
    "\n",
    "product_values = []\n",
    "\n",
    "for i in range(len(inventories)):\n",
    "    product_values.append(round(inventories[i] * prices[i], 2))\n",
    "print(product_values)\n",
    "\n",
    "sum(product_values)"
   ]
  },
  {
   "cell_type": "code",
   "execution_count": 23,
   "id": "d88ce9ab",
   "metadata": {},
   "outputs": [
    {
     "name": "stdout",
     "output_type": "stream",
     "text": [
      " We have $29.9 wort of Keychain\n",
      " We have $1399.86 wort of Helmet\n",
      " We have $2199.9 wort of Snowboard\n",
      " We have $1349.85 wort of Ski Poles\n",
      " We have $239.92 wort of Sweatshit\n",
      " We have $269.73 wort of Boots\n",
      "[29.9, 1399.86, 2199.9, 1349.85, 239.92, 269.73]\n"
     ]
    },
    {
     "data": {
      "text/plain": [
       "5489.16"
      ]
     },
     "execution_count": 23,
     "metadata": {},
     "output_type": "execute_result"
    }
   ],
   "source": [
    "#enumerate\n",
    "\n",
    "item_names = [ 'Keychain', 'Helmet', 'Snowboard', 'Ski Poles', 'Sweatshit', 'Boots']\n",
    "inventories = [10, 14, 10, 15, 8 , 27]\n",
    "prices = [2.99, 99.99, 219.99, 89.99, 29.99, 9.99]\n",
    "\n",
    "product_values = []\n",
    "\n",
    "for i, inventory in enumerate(inventories):\n",
    "    product_value = round(inventory * prices[i], 2)\n",
    "    product_values.append(product_value) #nie potrzebujemy indexu [i] gdyz jest on zawarty w funkcji enumerate\n",
    "    print(f' We have ${product_value} wort of {item_names[i]}')\n",
    "print(product_values)\n",
    "\n",
    "sum(product_values)"
   ]
  },
  {
   "cell_type": "code",
   "execution_count": 29,
   "id": "14b2ae60",
   "metadata": {
    "scrolled": true
   },
   "outputs": [
    {
     "name": "stdout",
     "output_type": "stream",
     "text": [
      "1\n",
      "2\n",
      "3\n",
      "4\n",
      "5\n",
      "6\n",
      "7\n",
      "8\n",
      "9\n",
      "10\n"
     ]
    }
   ],
   "source": [
    "counter = 0 \n",
    "while counter < 10:\n",
    "    counter += 1\n",
    "    print(counter)"
   ]
  },
  {
   "cell_type": "markdown",
   "id": "c904cc84",
   "metadata": {},
   "source": [
    "# Example number 1"
   ]
  },
  {
   "cell_type": "code",
   "execution_count": 33,
   "id": "d1cfebe3",
   "metadata": {
    "scrolled": true
   },
   "outputs": [
    {
     "name": "stdout",
     "output_type": "stream",
     "text": [
      " At the end of year 1: My balance is $ 840000.0\n",
      " At the end of year 2: My balance is $ 882000.0\n",
      " At the end of year 3: My balance is $ 926100.0\n",
      " At the end of year 4: My balance is $ 972405.0\n",
      " At the end of year 5: My balance is $ 1021025.25\n"
     ]
    }
   ],
   "source": [
    "#starting portfolio balance is 800000\n",
    "stock_portfolio = 800000\n",
    "year_counter = 0\n",
    "\n",
    "while stock_portfolio < 1000000: #calculate annual investment income\n",
    "    investment_income = stock_portfolio * .05  # 5% interest rate\n",
    "    stock_portfolio += investment_income # add income to end of year portfolio balance\n",
    "    year_counter += 1 #add one each year\n",
    "    print(f' At the end of year {year_counter}:' + f' My balance is $ {round(stock_portfolio, 2)}')"
   ]
  },
  {
   "cell_type": "markdown",
   "id": "a272588c",
   "metadata": {},
   "source": [
    "# Example number 2"
   ]
  },
  {
   "cell_type": "code",
   "execution_count": 34,
   "id": "b76e2b92",
   "metadata": {},
   "outputs": [
    {
     "name": "stdout",
     "output_type": "stream",
     "text": [
      " At the end of month 1:  My balance is $4000\n",
      " At the end of month 2:  My balance is $3000\n",
      " At the end of month 3:  My balance is $2000\n",
      " At the end of month 4:  My balance is $1000\n",
      " At the end of month 5:  My balance is $0\n"
     ]
    }
   ],
   "source": [
    "#calculating bank balance until we're out of money\n",
    "bank_balance = 5000\n",
    "month_counter = 0 \n",
    "while bank_balance > 0:\n",
    "    spending = 1000\n",
    "    bank_balance -= spending\n",
    "    month_counter += 1\n",
    "    print(f' At the end of month {month_counter}: ' + f' My balance is ${round(bank_balance, 2)}')"
   ]
  },
  {
   "cell_type": "markdown",
   "id": "4b923d10",
   "metadata": {},
   "source": [
    "# while_loop_demo\n"
   ]
  },
  {
   "cell_type": "code",
   "execution_count": 42,
   "id": "137c400b",
   "metadata": {},
   "outputs": [],
   "source": [
    "customer_ratings = [\n",
    "    '5 stars', '3 stars', '1 star', '4 stars', '7 stars', '4 stars', '5 stars','4 stars', '3 stars', '7 stars','5 stars', '1 star']\n"
   ]
  },
  {
   "cell_type": "code",
   "execution_count": 43,
   "id": "6f8d07a6",
   "metadata": {
    "scrolled": true
   },
   "outputs": [
    {
     "name": "stdout",
     "output_type": "stream",
     "text": [
      "1\n",
      "2\n",
      "['5 stars', '3 stars', '4 stars', '7 stars', '4 stars', '5 stars', '4 stars', '3 stars', '7 stars', '5 stars']\n"
     ]
    }
   ],
   "source": [
    "onestar_counter = 0 \n",
    "\n",
    "while '1 star' in customer_ratings:\n",
    "    customer_ratings.remove('1 star')\n",
    "    onestar_counter += 1\n",
    "    print(onestar_counter)\n",
    "print(customer_ratings)\n",
    "    "
   ]
  },
  {
   "cell_type": "markdown",
   "id": "61523a56",
   "metadata": {},
   "source": [
    "# Demo Nested Loops"
   ]
  },
  {
   "cell_type": "code",
   "execution_count": 44,
   "id": "c43743ec",
   "metadata": {},
   "outputs": [],
   "source": [
    "items = ['skis', 'snowboards', 'googles', 'boots']\n",
    "\n",
    "item_reviews = [['5 stars', '3 stars', '1 star'],\n",
    "['5 stars', '2 stars'],\n",
    "['3 stars', '1 star'],\n",
    "['1 star']]\n",
    "\n"
   ]
  },
  {
   "cell_type": "code",
   "execution_count": 54,
   "id": "aa6836e1",
   "metadata": {},
   "outputs": [
    {
     "name": "stdout",
     "output_type": "stream",
     "text": [
      "[[5, 3, 1], [5, 2], [3, 1], [1]]\n"
     ]
    }
   ],
   "source": [
    "item_reviews_numeric = []\n",
    "for item in item_reviews:\n",
    "    integer_ratings = []\n",
    "    for review in item:\n",
    "        integer_rating = int(review[0])\n",
    "        integer_ratings.append(integer_rating)\n",
    "    item_reviews_numeric.append(integer_ratings)\n",
    "print(item_reviews_numeric)"
   ]
  },
  {
   "cell_type": "code",
   "execution_count": 55,
   "id": "e0612a85",
   "metadata": {
    "scrolled": true
   },
   "outputs": [
    {
     "name": "stdout",
     "output_type": "stream",
     "text": [
      "3.0\n",
      "3.5\n",
      "2.0\n",
      "1.0\n"
     ]
    }
   ],
   "source": [
    "for item in item_reviews_numeric:\n",
    "    print(sum(item)/len(item))\n",
    "    "
   ]
  },
  {
   "cell_type": "markdown",
   "id": "43504249",
   "metadata": {},
   "source": [
    "# Loop Control"
   ]
  },
  {
   "cell_type": "code",
   "execution_count": 56,
   "id": "f798afa6",
   "metadata": {},
   "outputs": [
    {
     "name": "stdout",
     "output_type": "stream",
     "text": [
      "15.99\n",
      "915.98\n",
      "1715.96\n",
      "1833.94\n",
      "1839.92\n",
      "2439.91\n"
     ]
    }
   ],
   "source": [
    "#break\n",
    "subtotals = [ 15.99, 899.99, 799.98, 117.98, 5.98, 599.99, 1799.95, 99.99]\n",
    "revenue = 0\n",
    "\n",
    "for subtotal in subtotals:\n",
    "    revenue += subtotal\n",
    "    print(round(revenue, 2))\n",
    "    if revenue > 2000:\n",
    "        break"
   ]
  },
  {
   "cell_type": "code",
   "execution_count": 58,
   "id": "ee0448a4",
   "metadata": {},
   "outputs": [
    {
     "name": "stdout",
     "output_type": "stream",
     "text": [
      " My balacne is $105 in year 1\n",
      " My balacne is $110 in year 2\n",
      " My balacne is $116 in year 3\n",
      " My balacne is $122 in year 4\n",
      " My balacne is $128 in year 5\n",
      " My balacne is $134 in year 6\n",
      " My balacne is $141 in year 7\n",
      " My balacne is $148 in year 8\n",
      " My balacne is $155 in year 9\n",
      " My balacne is $163 in year 10\n",
      " My balacne is $171 in year 11\n",
      " My balacne is $180 in year 12\n",
      " My balacne is $189 in year 13\n",
      " My balacne is $198 in year 14\n",
      " My balacne is $208 in year 15\n",
      " My balacne is $218 in year 16\n",
      " My balacne is $229 in year 17\n",
      " My balacne is $241 in year 18\n",
      " My balacne is $253 in year 19\n",
      " My balacne is $265 in year 20\n",
      " My balacne is $279 in year 21\n",
      " My balacne is $293 in year 22\n",
      " My balacne is $307 in year 23\n",
      " My balacne is $323 in year 24\n",
      " My balacne is $339 in year 25\n",
      " My balacne is $356 in year 26\n",
      " My balacne is $373 in year 27\n",
      " My balacne is $392 in year 28\n",
      " My balacne is $412 in year 29\n",
      " My balacne is $432 in year 30\n",
      " Guess i need to save more\n"
     ]
    }
   ],
   "source": [
    "#break statement\n",
    "\n",
    "stock_portfolio = 100\n",
    "year_counter = 0 \n",
    "\n",
    "while stock_portfolio < 1000000:\n",
    "    investment_income = stock_portfolio *.05\n",
    "    stock_portfolio += investment_income\n",
    "    year_counter += 1\n",
    "    print(f' My balacne is ${round(stock_portfolio)} in year {year_counter}')\n",
    "    if year_counter >= 30:\n",
    "        print(' Guess i need to save more')\n",
    "        break"
   ]
  },
  {
   "cell_type": "code",
   "execution_count": 64,
   "id": "b5b52ea5",
   "metadata": {},
   "outputs": [
    {
     "name": "stdout",
     "output_type": "stream",
     "text": [
      "['Helmet', 'Snowboard', 'Ski-Poles', 'Sweatshit']\n"
     ]
    }
   ],
   "source": [
    "#continue statement\n",
    "\n",
    "item_list = ['ski-keychain', 'Helmet', 'Snowboard', 'Ski-Poles', 'Sweatshit', 'ski-Boots' ]\n",
    "snowboards = []\n",
    "for item in item_list:\n",
    "    if 'ski' in item:\n",
    "        continue\n",
    "    snowboards.append(item)\n",
    "print(snowboards)"
   ]
  },
  {
   "cell_type": "code",
   "execution_count": 65,
   "id": "fa42c43d",
   "metadata": {},
   "outputs": [],
   "source": [
    "#pass statement\n",
    "item_list = ['ski-keychain', 'Helmet', 'Snowboard', 'Ski-Poles', 'Sweatshit', 'ski-Boots' ]\n",
    "snowboards = []\n",
    "for item in item_list:\n",
    "    if 'ski' in item:\n",
    "        pass\n",
    "    snowboards.append(item)\n",
    "print(snowboards)"
   ]
  },
  {
   "cell_type": "markdown",
   "id": "d0098961",
   "metadata": {},
   "source": [
    "# Try and except"
   ]
  },
  {
   "cell_type": "code",
   "execution_count": 70,
   "id": "1c63b17e",
   "metadata": {},
   "outputs": [
    {
     "name": "stdout",
     "output_type": "stream",
     "text": [
      " i can buy 8.0 of these.\n",
      " i can buy 8.0 of these.\n",
      "The price seems to be missing\n",
      "You can't divded by zero\n",
      " i can buy 4.0 of these.\n",
      "The price seems to be missing\n",
      " i can buy 0.0 of these.\n"
     ]
    }
   ],
   "source": [
    "price_list = [5.99, 5.88, None, 0, 11.22, '32.99', 99.99]\n",
    "for price in price_list:\n",
    "    try:\n",
    "        affordable_quantity = 50// price \n",
    "        print(f' i can buy {affordable_quantity} of these.')\n",
    "    except ZeroDivisionError:\n",
    "        print(\"You can't divded by zero\")\n",
    "    except:\n",
    "        print('The price seems to be missing')\n",
    "    "
   ]
  },
  {
   "cell_type": "markdown",
   "id": "eef4955a",
   "metadata": {},
   "source": [
    "# loop_control_demo"
   ]
  },
  {
   "cell_type": "code",
   "execution_count": 76,
   "id": "7916ebc9",
   "metadata": {},
   "outputs": [
    {
     "name": "stdout",
     "output_type": "stream",
     "text": [
      "Ma\n"
     ]
    }
   ],
   "source": [
    "word = 'Maven'\n",
    "new_word=''\n",
    "\n",
    "for letter in word:\n",
    "    if letter in 'v':\n",
    "        break\n",
    "    new_word += letter\n",
    "print(new_word)"
   ]
  },
  {
   "cell_type": "code",
   "execution_count": 80,
   "id": "8ce745d9",
   "metadata": {
    "scrolled": true
   },
   "outputs": [
    {
     "name": "stdout",
     "output_type": "stream",
     "text": [
      "1\n",
      "5\n",
      "wrong value\n",
      "4\n"
     ]
    }
   ],
   "source": [
    "ratings = [ '1 star', '5 star',  'star 3', '4 star']\n",
    "for rating in ratings:\n",
    "    try:\n",
    "        print(int(rating[0]))\n",
    "    except ValueError:\n",
    "        print(\"wrong value\")"
   ]
  },
  {
   "cell_type": "markdown",
   "id": "eb087579",
   "metadata": {},
   "source": [
    "# List Limitations"
   ]
  },
  {
   "cell_type": "code",
   "execution_count": 84,
   "id": "7ec7637c",
   "metadata": {},
   "outputs": [
    {
     "name": "stdout",
     "output_type": "stream",
     "text": [
      "sold out\n"
     ]
    }
   ],
   "source": [
    "inventory_status = [['skis', 'in stock'], ['snowboard', 'sold out'],['googgles', 'sold out'],['boots', 'in stock']]\n",
    "item_looking_for = 'googgles'\n",
    "for item in inventory_status:\n",
    "    if item[0] == item_looking_for:\n",
    "        print(item[1])"
   ]
  },
  {
   "cell_type": "markdown",
   "id": "e1347e70",
   "metadata": {},
   "source": [
    "# Dictonary basic"
   ]
  },
  {
   "cell_type": "code",
   "execution_count": 86,
   "id": "cbcc8380",
   "metadata": {},
   "outputs": [
    {
     "data": {
      "text/plain": [
       "'in stock'"
      ]
     },
     "execution_count": 86,
     "metadata": {},
     "output_type": "execute_result"
    }
   ],
   "source": [
    "inventory_status = {'skis': 'in stock',\n",
    "                   'snowboard': 'sold out',\n",
    "                   'goggles': 'sold out', 'boots': 'in stock'}\n",
    "inventory_status['skis']"
   ]
  },
  {
   "cell_type": "code",
   "execution_count": 90,
   "id": "dd54eeaa",
   "metadata": {},
   "outputs": [
    {
     "data": {
      "text/plain": [
       "[244.99, 10, 'in stock']"
      ]
     },
     "execution_count": 90,
     "metadata": {},
     "output_type": "execute_result"
    }
   ],
   "source": [
    "inventory_details = {'skis': [244.99, 10, 'in stock'],\n",
    "                   'snowboard': [432.12, 12, 'sold out'],\n",
    "                   'goggles': [542.45, 45, 'sold out'], 'boots': [678.98, 32, 'in stock']}\n",
    "inventory_details['skis']"
   ]
  },
  {
   "cell_type": "code",
   "execution_count": 93,
   "id": "6fa45522",
   "metadata": {},
   "outputs": [
    {
     "data": {
      "text/plain": [
       "10"
      ]
     },
     "execution_count": 93,
     "metadata": {},
     "output_type": "execute_result"
    }
   ],
   "source": [
    "inventory_details['skis'][1]"
   ]
  },
  {
   "cell_type": "markdown",
   "id": "0ff5f23e",
   "metadata": {},
   "source": [
    "# Modyfying dictionaries"
   ]
  },
  {
   "cell_type": "code",
   "execution_count": 96,
   "id": "e8da585b",
   "metadata": {},
   "outputs": [],
   "source": [
    "item_details = {'skis': [244.99, 10, 'in stock'],\n",
    "                   'snowboard': [432.12, 12, 'sold out'],\n",
    "                   'goggles': [542.45, 45, 'sold out'], 'boots': [678.98, 32, 'in stock']}"
   ]
  },
  {
   "cell_type": "code",
   "execution_count": 97,
   "id": "92201305",
   "metadata": {},
   "outputs": [
    {
     "name": "stdout",
     "output_type": "stream",
     "text": [
      "{'skis': [244.99, 10, 'in stock'], 'snowboard': [432.12, 12, 'sold out'], 'goggles': [542.45, 45, 'sold out'], 'boots': [678.98, 32, 'in stock'], 'bindings': [149.99, 4, 'in stock']}\n"
     ]
    }
   ],
   "source": [
    "item_details['bindings'] = [149.99, 4, 'in stock']\n",
    "print(item_details)"
   ]
  },
  {
   "cell_type": "code",
   "execution_count": 98,
   "id": "7130ff01",
   "metadata": {},
   "outputs": [
    {
     "data": {
      "text/plain": [
       "{'skis': [244.99, 10, 'in stock'],\n",
       " 'snowboard': [432.12, 12, 'sold out'],\n",
       " 'goggles': [542.45, 45, 'sold out'],\n",
       " 'boots': [678.98, 32, 'in stock'],\n",
       " 'bindings': [139.99, 0, 'out of stock']}"
      ]
     },
     "execution_count": 98,
     "metadata": {},
     "output_type": "execute_result"
    }
   ],
   "source": [
    "item_details['bindings'] = [139.99, 0, 'out of stock']\n",
    "item_details"
   ]
  },
  {
   "cell_type": "code",
   "execution_count": 99,
   "id": "ef7e78ec",
   "metadata": {},
   "outputs": [
    {
     "name": "stdout",
     "output_type": "stream",
     "text": [
      "{'skis': [244.99, 10, 'in stock'], 'snowboard': [432.12, 12, 'sold out'], 'goggles': [542.45, 45, 'sold out'], 'bindings': [139.99, 0, 'out of stock']}\n"
     ]
    }
   ],
   "source": [
    "del item_details['boots']\n",
    "print(item_details)"
   ]
  },
  {
   "cell_type": "markdown",
   "id": "00509cb0",
   "metadata": {},
   "source": [
    "# dictionary_operations_demo"
   ]
  },
  {
   "cell_type": "code",
   "execution_count": 110,
   "id": "f516a02f",
   "metadata": {},
   "outputs": [],
   "source": [
    "item_prices = {\n",
    "    'skis': 249.99,\n",
    "    'snowboard': 219.99,\n",
    "    'goggles': 99.99,\n",
    "    'boots': [79.99, 89.99]\n",
    "}"
   ]
  },
  {
   "cell_type": "code",
   "execution_count": 101,
   "id": "bcca7b21",
   "metadata": {},
   "outputs": [
    {
     "name": "stdout",
     "output_type": "stream",
     "text": [
      "{'skis': 249.99, 'snowboard': 219.99, 'goggles': 99.99, 'boots': [79.99, 89.99]}\n"
     ]
    }
   ],
   "source": [
    "print(item_prices)"
   ]
  },
  {
   "cell_type": "code",
   "execution_count": 102,
   "id": "ebd307ab",
   "metadata": {},
   "outputs": [
    {
     "name": "stdout",
     "output_type": "stream",
     "text": [
      "249.99\n"
     ]
    }
   ],
   "source": [
    "print(item_prices['skis'])"
   ]
  },
  {
   "cell_type": "code",
   "execution_count": 106,
   "id": "f59d604b",
   "metadata": {},
   "outputs": [
    {
     "name": "stdout",
     "output_type": "stream",
     "text": [
      "89.99\n"
     ]
    }
   ],
   "source": [
    "print(item_prices['boots'][1])"
   ]
  },
  {
   "cell_type": "code",
   "execution_count": 105,
   "id": "b11b4e78",
   "metadata": {},
   "outputs": [
    {
     "ename": "KeyError",
     "evalue": "'hat'",
     "output_type": "error",
     "traceback": [
      "\u001b[0;31m---------------------------------------------------------------------------\u001b[0m",
      "\u001b[0;31mKeyError\u001b[0m                                  Traceback (most recent call last)",
      "Cell \u001b[0;32mIn[105], line 1\u001b[0m\n\u001b[0;32m----> 1\u001b[0m \u001b[38;5;28mprint\u001b[39m(item_prices[\u001b[38;5;124m'\u001b[39m\u001b[38;5;124mhat\u001b[39m\u001b[38;5;124m'\u001b[39m])\n",
      "\u001b[0;31mKeyError\u001b[0m: 'hat'"
     ]
    }
   ],
   "source": [
    "print(item_prices['hat'])"
   ]
  },
  {
   "cell_type": "code",
   "execution_count": 109,
   "id": "04c243eb",
   "metadata": {},
   "outputs": [
    {
     "name": "stdout",
     "output_type": "stream",
     "text": [
      "219.99\n"
     ]
    }
   ],
   "source": [
    "print(item_prices[1])"
   ]
  },
  {
   "cell_type": "code",
   "execution_count": 111,
   "id": "d0b67a0c",
   "metadata": {},
   "outputs": [
    {
     "data": {
      "text/plain": [
       "True"
      ]
     },
     "execution_count": 111,
     "metadata": {},
     "output_type": "execute_result"
    }
   ],
   "source": [
    "'skis' in item_prices"
   ]
  },
  {
   "cell_type": "code",
   "execution_count": 112,
   "id": "0c60552f",
   "metadata": {},
   "outputs": [
    {
     "name": "stdout",
     "output_type": "stream",
     "text": [
      "skis\n",
      "snowboard\n",
      "goggles\n",
      "boots\n"
     ]
    }
   ],
   "source": [
    "for item in item_prices:\n",
    "    print(item)"
   ]
  },
  {
   "cell_type": "code",
   "execution_count": 113,
   "id": "944251b2",
   "metadata": {},
   "outputs": [
    {
     "name": "stdout",
     "output_type": "stream",
     "text": [
      "{'skis': 274.99, 'snowboard': 219.99, 'goggles': 99.99, 'boots': [79.99, 89.99]}\n"
     ]
    }
   ],
   "source": [
    "item_prices['skis'] = round(item_prices['skis'] * 1.1, 2)\n",
    "print(item_prices)"
   ]
  },
  {
   "cell_type": "code",
   "execution_count": 114,
   "id": "83127192",
   "metadata": {},
   "outputs": [],
   "source": [
    "item_prices['hat'] = 14.99"
   ]
  },
  {
   "cell_type": "code",
   "execution_count": 115,
   "id": "b44c3a68",
   "metadata": {},
   "outputs": [
    {
     "name": "stdout",
     "output_type": "stream",
     "text": [
      "{'skis': 274.99, 'snowboard': 219.99, 'goggles': 99.99, 'boots': [79.99, 89.99], 'hat': 14.99}\n"
     ]
    }
   ],
   "source": [
    "print(item_prices)"
   ]
  },
  {
   "cell_type": "code",
   "execution_count": 116,
   "id": "39aea994",
   "metadata": {},
   "outputs": [],
   "source": [
    "new_items = ['coffee', 'helmet']\n",
    "new_prices = [5.99, 99.99]"
   ]
  },
  {
   "cell_type": "code",
   "execution_count": 117,
   "id": "37e7a897",
   "metadata": {},
   "outputs": [
    {
     "name": "stdout",
     "output_type": "stream",
     "text": [
      "{'skis': 274.99, 'snowboard': 219.99, 'goggles': 99.99, 'boots': [79.99, 89.99], 'hat': 14.99, 'coffee': 5.99, 'helmet': 99.99}\n"
     ]
    }
   ],
   "source": [
    "for i, item in enumerate(new_items):\n",
    "    item_prices[item] = new_prices[i]\n",
    "print(item_prices)"
   ]
  },
  {
   "cell_type": "code",
   "execution_count": 118,
   "id": "4e2b9e91",
   "metadata": {},
   "outputs": [],
   "source": [
    "del item_prices['coffee']"
   ]
  },
  {
   "cell_type": "code",
   "execution_count": 119,
   "id": "3021a0fb",
   "metadata": {},
   "outputs": [
    {
     "name": "stdout",
     "output_type": "stream",
     "text": [
      "{'skis': 274.99, 'snowboard': 219.99, 'goggles': 99.99, 'boots': [79.99, 89.99], 'hat': 14.99, 'helmet': 99.99}\n"
     ]
    }
   ],
   "source": [
    "print(item_prices)"
   ]
  },
  {
   "cell_type": "code",
   "execution_count": 120,
   "id": "f6716ec5",
   "metadata": {},
   "outputs": [],
   "source": [
    "del item_prices['boots'][1]"
   ]
  },
  {
   "cell_type": "code",
   "execution_count": 121,
   "id": "7689b2bc",
   "metadata": {},
   "outputs": [
    {
     "name": "stdout",
     "output_type": "stream",
     "text": [
      "{'skis': 274.99, 'snowboard': 219.99, 'goggles': 99.99, 'boots': [79.99], 'hat': 14.99, 'helmet': 99.99}\n"
     ]
    }
   ],
   "source": [
    "print(item_prices)"
   ]
  },
  {
   "cell_type": "code",
   "execution_count": 123,
   "id": "e325a80b",
   "metadata": {},
   "outputs": [],
   "source": [
    "item_prices['boots'][0] = 79.99"
   ]
  },
  {
   "cell_type": "code",
   "execution_count": 124,
   "id": "fc8bfaf1",
   "metadata": {},
   "outputs": [
    {
     "name": "stdout",
     "output_type": "stream",
     "text": [
      "{'skis': 274.99, 'snowboard': 219.99, 'goggles': 99.99, 'boots': [79.99], 'hat': 14.99, 'helmet': 99.99}\n"
     ]
    }
   ],
   "source": [
    "print(item_prices)\n"
   ]
  },
  {
   "cell_type": "code",
   "execution_count": 126,
   "id": "38ea13ed",
   "metadata": {},
   "outputs": [],
   "source": [
    "item_prices['boots'][0] = 89.99"
   ]
  },
  {
   "cell_type": "code",
   "execution_count": 127,
   "id": "2f745f4a",
   "metadata": {},
   "outputs": [
    {
     "name": "stdout",
     "output_type": "stream",
     "text": [
      "{'skis': 274.99, 'snowboard': 219.99, 'goggles': 99.99, 'boots': [89.99], 'hat': 14.99, 'helmet': 99.99}\n"
     ]
    }
   ],
   "source": [
    "print(item_prices)\n",
    "\n"
   ]
  },
  {
   "cell_type": "markdown",
   "id": "05fb6dc5",
   "metadata": {},
   "source": [
    "# Keys & Values Methods"
   ]
  },
  {
   "cell_type": "code",
   "execution_count": 129,
   "id": "7b605d9a",
   "metadata": {},
   "outputs": [
    {
     "name": "stdout",
     "output_type": "stream",
     "text": [
      "dict_keys(['skis', 'snowboard', 'goggles', 'boots'])\n"
     ]
    }
   ],
   "source": [
    "#.keys()\n",
    "item_details = {'skis': [244.99, 10, 'in stock'],\n",
    "                   'snowboard': [432.12, 12, 'sold out'],\n",
    "                   'goggles': [542.45, 45, 'sold out'], 'boots': [678.98, 32, 'in stock']}\n",
    "print(item_details.keys())"
   ]
  },
  {
   "cell_type": "code",
   "execution_count": 130,
   "id": "9ed9e145",
   "metadata": {},
   "outputs": [
    {
     "name": "stdout",
     "output_type": "stream",
     "text": [
      "skis\n",
      "snowboard\n",
      "goggles\n",
      "boots\n"
     ]
    }
   ],
   "source": [
    "for item in item_details.keys():\n",
    "    print(item)"
   ]
  },
  {
   "cell_type": "code",
   "execution_count": 131,
   "id": "738d86ed",
   "metadata": {},
   "outputs": [
    {
     "name": "stdout",
     "output_type": "stream",
     "text": [
      "['skis', 'snowboard', 'goggles', 'boots']\n"
     ]
    }
   ],
   "source": [
    "key_list = list(item_details.keys())\n",
    "print(key_list)"
   ]
  },
  {
   "cell_type": "code",
   "execution_count": 133,
   "id": "a80d76e1",
   "metadata": {},
   "outputs": [
    {
     "name": "stdout",
     "output_type": "stream",
     "text": [
      "dict_values([[244.99, 10, 'in stock'], [432.12, 12, 'sold out'], [542.45, 45, 'sold out'], [678.98, 32, 'in stock']])\n"
     ]
    }
   ],
   "source": [
    "#.values()\n",
    "item_details = {'skis': [244.99, 10, 'in stock'],\n",
    "                   'snowboard': [432.12, 12, 'sold out'],\n",
    "                   'goggles': [542.45, 45, 'sold out'], 'boots': [678.98, 32, 'in stock']}\n",
    "print(item_details.values())"
   ]
  },
  {
   "cell_type": "code",
   "execution_count": 137,
   "id": "0e93ee38",
   "metadata": {},
   "outputs": [
    {
     "name": "stdout",
     "output_type": "stream",
     "text": [
      "[244.99, 432.12, 542.45, 678.98]\n"
     ]
    }
   ],
   "source": [
    "price_list = []\n",
    "for attribute in item_details.values():\n",
    "    price_list.append(attribute[0])\n",
    "print(price_list)"
   ]
  },
  {
   "cell_type": "code",
   "execution_count": 140,
   "id": "2d390dec",
   "metadata": {},
   "outputs": [
    {
     "name": "stdout",
     "output_type": "stream",
     "text": [
      "dict_items([('skis', [244.99, 10]), ('snowboard', [432.12, 12]), ('goggles', [542.45, 45]), ('boots', [678.98, 32])])\n"
     ]
    }
   ],
   "source": [
    "#.items()\n",
    "item_details = {'skis': [244.99, 10,],\n",
    "                   'snowboard': [432.12, 12],\n",
    "                   'goggles': [542.45, 45], 'boots': [678.98, 32]}\n",
    "print(item_details.items())"
   ]
  },
  {
   "cell_type": "code",
   "execution_count": 141,
   "id": "75b94728",
   "metadata": {},
   "outputs": [
    {
     "name": "stdout",
     "output_type": "stream",
     "text": [
      " The skis costs 244.99.\n",
      " The snowboard costs 432.12.\n",
      " The goggles costs 542.45.\n",
      " The boots costs 678.98.\n"
     ]
    }
   ],
   "source": [
    "for key, value in item_details.items():\n",
    "    print(f' The {key} costs {value[0]}.')"
   ]
  },
  {
   "cell_type": "code",
   "execution_count": 145,
   "id": "63fd04fc",
   "metadata": {},
   "outputs": [
    {
     "name": "stdout",
     "output_type": "stream",
     "text": [
      "[678.98, 32, 'in stock']\n"
     ]
    }
   ],
   "source": [
    "#.get()\n",
    "item_details = {'skis': [244.99, 10, 'in stock'],\n",
    "                   'snowboard': [432.12, 12, 'sold out'],\n",
    "                   'goggles': [542.45, 45, 'sold out'], 'boots': [678.98, 32, 'in stock']}\n",
    "print(item_details.get('boots'))"
   ]
  },
  {
   "cell_type": "code",
   "execution_count": 147,
   "id": "56906c6b",
   "metadata": {},
   "outputs": [
    {
     "name": "stdout",
     "output_type": "stream",
     "text": [
      "Sorry we don't carry that item.\n"
     ]
    }
   ],
   "source": [
    "print(item_details.get('bindings', \"Sorry we don't carry that item.\"))"
   ]
  },
  {
   "cell_type": "code",
   "execution_count": 148,
   "id": "a2450694",
   "metadata": {},
   "outputs": [
    {
     "name": "stdout",
     "output_type": "stream",
     "text": [
      "{'skis': [244.99, 10, 'in stock'], 'snowboard': [432.12, 12, 'sold out'], 'goggles': [542.45, 45, 'sold out'], 'boots': [678.98, 32, 'in stock'], 'bindings': [234.23, 11, 'out of stock']}\n"
     ]
    }
   ],
   "source": [
    "#.update()\n",
    "item_details = {'skis': [244.99, 10, 'in stock'],\n",
    "                   'snowboard': [432.12, 12, 'sold out'],\n",
    "                   'goggles': [542.45, 45, 'sold out'], 'boots': [678.98, 32, 'in stock']}\n",
    "item_details.update({'bindings':[234.23, 11, 'out of stock']})\n",
    "print(item_details)"
   ]
  },
  {
   "cell_type": "code",
   "execution_count": 149,
   "id": "422d3f57",
   "metadata": {},
   "outputs": [
    {
     "name": "stdout",
     "output_type": "stream",
     "text": [
      "{'skis': [244.99, 10, 'in stock'], 'snowboard': [432.12, 12, 'sold out'], 'goggles': [542.45, 45, 'sold out'], 'boots': [678.98, 32, 'in stock'], 'bindings': [234.23, 11, 'out of stock'], 'scarf': [19.99, 100, 'in stock'], 'snowpants': 'N/A'}\n"
     ]
    }
   ],
   "source": [
    "new_items = {'scarf': [19.99, 100, 'in stock'], 'snowpants': 'N/A'}\n",
    "item_details.update(new_items)\n",
    "print(item_details)"
   ]
  },
  {
   "cell_type": "markdown",
   "id": "95575671",
   "metadata": {},
   "source": [
    "# dictionary_methods_demo"
   ]
  },
  {
   "cell_type": "code",
   "execution_count": 150,
   "id": "04a2ef36",
   "metadata": {},
   "outputs": [],
   "source": [
    "customer_sales = {\n",
    "    'C00001': [224.22, 89.99],\n",
    "    'C00004': [34.77],\n",
    "    'C00014': [44.99, 89.99, 67.99],\n",
    "    'C00015': [34.99, 19.99, 47.99]\n",
    "    \n",
    "}"
   ]
  },
  {
   "cell_type": "code",
   "execution_count": 151,
   "id": "7ca00976",
   "metadata": {},
   "outputs": [
    {
     "name": "stdout",
     "output_type": "stream",
     "text": [
      "{'C00001': [224.22, 89.99], 'C00004': [34.77], 'C00014': [44.99, 89.99, 67.99], 'C00015': [34.99, 19.99, 47.99]}\n"
     ]
    }
   ],
   "source": [
    "print(customer_sales)"
   ]
  },
  {
   "cell_type": "code",
   "execution_count": 152,
   "id": "39e8034d",
   "metadata": {},
   "outputs": [
    {
     "name": "stdout",
     "output_type": "stream",
     "text": [
      "dict_keys(['C00001', 'C00004', 'C00014', 'C00015'])\n"
     ]
    }
   ],
   "source": [
    "print(customer_sales.keys())"
   ]
  },
  {
   "cell_type": "code",
   "execution_count": 154,
   "id": "0ff62dab",
   "metadata": {},
   "outputs": [],
   "source": [
    "customer_ids = list(customer_sales.keys())"
   ]
  },
  {
   "cell_type": "code",
   "execution_count": 155,
   "id": "b7abcc06",
   "metadata": {},
   "outputs": [
    {
     "name": "stdout",
     "output_type": "stream",
     "text": [
      "['C00001', 'C00004', 'C00014', 'C00015']\n"
     ]
    }
   ],
   "source": [
    "print(customer_ids)"
   ]
  },
  {
   "cell_type": "code",
   "execution_count": 159,
   "id": "641e7d71",
   "metadata": {},
   "outputs": [
    {
     "name": "stdout",
     "output_type": "stream",
     "text": [
      "[[224.22, 89.99], [34.77], [44.99, 89.99, 67.99], [34.99, 19.99, 47.99]]\n"
     ]
    }
   ],
   "source": [
    "print(list(customer_sales.values()))"
   ]
  },
  {
   "cell_type": "code",
   "execution_count": 176,
   "id": "27cdae03",
   "metadata": {},
   "outputs": [
    {
     "name": "stdout",
     "output_type": "stream",
     "text": [
      "[224.22, 89.99]\n",
      "[34.77]\n",
      "[44.99, 89.99, 67.99]\n",
      "[34.99, 19.99, 47.99]\n",
      "[105.44]\n",
      "[28.99]\n"
     ]
    }
   ],
   "source": [
    "for sales in customer_sales.values():\n",
    "    print(sales)"
   ]
  },
  {
   "cell_type": "code",
   "execution_count": 178,
   "id": "e7fee889",
   "metadata": {},
   "outputs": [
    {
     "name": "stdout",
     "output_type": "stream",
     "text": [
      "{'C00001': [224.22, 89.99], 'C00004': [34.77], 'C00014': [44.99, 89.99, 67.99], 'C00015': [34.99, 19.99, 47.99], 'C00005': [105.44], 'C00022': [28.99]}\n"
     ]
    }
   ],
   "source": [
    "total_sales = {}\n",
    "for customer_id, sales in customer_sales.items():\n",
    "    total_sales[customer_id] = (sales)\n",
    "print(total_sales)"
   ]
  },
  {
   "cell_type": "code",
   "execution_count": 174,
   "id": "fa0cdb0d",
   "metadata": {},
   "outputs": [
    {
     "name": "stdout",
     "output_type": "stream",
     "text": [
      "[224.22, 89.99]\n",
      "No longer VIP\n",
      "[44.99, 89.99, 67.99]\n"
     ]
    }
   ],
   "source": [
    "vip_customers = ['C00001', 'C00003', 'C00014' ]\n",
    "for customer in vip_customers:\n",
    "    print(customer_sales.get(customer, 'No longer VIP'))"
   ]
  },
  {
   "cell_type": "code",
   "execution_count": 175,
   "id": "d54f5640",
   "metadata": {},
   "outputs": [
    {
     "name": "stdout",
     "output_type": "stream",
     "text": [
      "{'C00001': [224.22, 89.99], 'C00004': [34.77], 'C00014': [44.99, 89.99, 67.99], 'C00015': [34.99, 19.99, 47.99], 'C00005': [105.44], 'C00022': [28.99]}\n"
     ]
    }
   ],
   "source": [
    "new_customers = {'C00005': [105.44], 'C00022': [28.99] }\n",
    "customer_sales.update(new_customers)\n",
    "\n",
    "print(customer_sales)"
   ]
  },
  {
   "cell_type": "markdown",
   "id": "fe1f94bf",
   "metadata": {},
   "source": [
    "# exercises repeat"
   ]
  },
  {
   "cell_type": "code",
   "execution_count": 201,
   "id": "95af81e3",
   "metadata": {},
   "outputs": [],
   "source": [
    "item_dict = {\n",
    "    10001: ('Coffee', 5.99, 'beverage', ['250mL']),\n",
    "    10002: ('Beanie', 9.99, 'clothing', ['Child', 'Adult']),\n",
    "    10003: ('Gloves', 19.99, 'clothing', ['Child', 'Adult']),\n",
    "    10004: ('Sweatshirt', 24.99, 'clothing', ['XS', 'S', 'M', 'L', 'XL', 'XXL']),\n",
    "    10005: ('Helmet', 99.99, 'safety', ['Child', 'Adult']),\n",
    "    10006: ('Snow Pants', 79.99, 'clothing', ['XS', 'S', 'M', 'L', 'XL', 'XXL']),\n",
    "    10007: ('Coat', 119.99, 'clothing', ['S', 'M', 'L']),\n",
    "    10008: ('Ski Poles', 99.99, 'hardware', ['S', 'M', 'L']),\n",
    "    10009: ('Ski Boots', 199.99, 'hardware', [5, 6, 7, 8, 9, 10, 11])\n",
    "}"
   ]
  },
  {
   "cell_type": "code",
   "execution_count": 182,
   "id": "9d927915",
   "metadata": {},
   "outputs": [
    {
     "name": "stdout",
     "output_type": "stream",
     "text": [
      "{10001: 1, 10002: 2, 10003: 2, 10004: 6, 10005: 2, 10006: 6, 10007: 3, 10008: 3, 10009: 7}\n"
     ]
    }
   ],
   "source": [
    "size_counts = {}\n",
    "\n",
    "for key, value in item_dict.items():\n",
    "    size_counts[key] = len(value[3])\n",
    "print(size_counts)"
   ]
  },
  {
   "cell_type": "code",
   "execution_count": 191,
   "id": "97a468de",
   "metadata": {},
   "outputs": [
    {
     "name": "stdout",
     "output_type": "stream",
     "text": [
      "{10001: ('Coffee', 5.99, 'beverage', ['250mL']), 10002: ('Beanie', 9.99, 'clothing', ['Child', 'Adult']), 10003: ('Gloves', 19.99, 'clothing', ['Child', 'Adult']), 10004: ('Sweatshirt', 24.99, 'clothing', ['XS', 'S', 'M', 'L', 'XL', 'XXL']), 10005: ('Helmet', 99.99, 'safety', ['Child', 'Adult']), 10006: ('Snow Pants', 79.99, 'clothing', ['XS', 'S', 'M', 'L', 'XL', 'XXL']), 10007: ('Coat', 119.99, 'clothing', ['S', 'M', 'L']), 10008: ('Ski Poles', 99.99, 'hardware', ['S', 'M', 'L']), 10009: ('Ski Boots', 199.99, 'hardware', [5, 6, 7, 8, 9, 10, 11]), '10010': [333], '10013': [444], '10033': [898], '11111': 399, '11234': 8}\n"
     ]
    }
   ],
   "source": [
    "\n",
    "new_item_dict = {'11111': 399, '11234': 8, '10033': [898]}\n",
    "item_dict.update(new_item_dict)\n",
    "print(item_dict)\n",
    "\n"
   ]
  },
  {
   "cell_type": "code",
   "execution_count": 207,
   "id": "8e6f92c7",
   "metadata": {},
   "outputs": [
    {
     "name": "stdout",
     "output_type": "stream",
     "text": [
      "[5.27, 8.79, 17.59, 21.99, 87.99, 70.39, 105.59, 87.99, 175.99]\n"
     ]
    }
   ],
   "source": [
    "exchange_rate = .88 #definujemy zmienna o podanej wartosci\n",
    "euro_prices = [] #definujemy pusta liste\n",
    "for value in item_dict.values(): #rozpoczynamy petle for, ktora iteruje przez wartosc slownika item_dict.\n",
    "    euro_prices.append(round(value[1] * exchange_rate, 2)) #w wewntarz petli dla kazdej wartosci z item_dict obliczamy cene w euro\n",
    "print(euro_prices) #wypisujemy liste zawierajaca zaktualizowane ceny o kurs wymiany euro\n",
    "    \n"
   ]
  },
  {
   "cell_type": "markdown",
   "id": "b66feb99",
   "metadata": {},
   "source": [
    "# Zip function"
   ]
  },
  {
   "cell_type": "code",
   "execution_count": 211,
   "id": "e7699bf2",
   "metadata": {},
   "outputs": [
    {
     "data": {
      "text/plain": [
       "<zip at 0x109b1ffc0>"
      ]
     },
     "execution_count": 211,
     "metadata": {},
     "output_type": "execute_result"
    }
   ],
   "source": [
    "item_list = ['skis', 'snowboard', 'goggles', 'boots']\n",
    "price_list = [249.99, 219.99, 99.99, 79.99]\n",
    "inventory = [10, 0, 0, 7]\n",
    "zip(price_list, inventory)"
   ]
  },
  {
   "cell_type": "code",
   "execution_count": 212,
   "id": "f3b7f383",
   "metadata": {},
   "outputs": [
    {
     "name": "stdout",
     "output_type": "stream",
     "text": [
      "[(249.99, 10), (219.99, 0), (99.99, 0), (79.99, 7)]\n"
     ]
    }
   ],
   "source": [
    "item_attributes = list(zip(price_list, inventory))\n",
    "\n",
    "print(item_attributes)"
   ]
  },
  {
   "cell_type": "code",
   "execution_count": 213,
   "id": "1286a7f4",
   "metadata": {},
   "outputs": [
    {
     "data": {
      "text/plain": [
       "[('skis', 249.99, 10),\n",
       " ('snowboard', 219.99, 0),\n",
       " ('goggles', 99.99, 0),\n",
       " ('boots', 79.99, 7)]"
      ]
     },
     "execution_count": 213,
     "metadata": {},
     "output_type": "execute_result"
    }
   ],
   "source": [
    "list(zip(item_list, price_list, inventory))"
   ]
  },
  {
   "cell_type": "code",
   "execution_count": 214,
   "id": "2851ebf5",
   "metadata": {},
   "outputs": [
    {
     "name": "stdout",
     "output_type": "stream",
     "text": [
      "{'skis': [249.99, 10, 'in stock'], 'snowboard': [222.99, 0, 'sold out'], 'goggles': [99.99, 0, 'sold out'], 'boots': [79.99, 7, ' in stock']}\n"
     ]
    }
   ],
   "source": [
    "item_details = [[249.99, 10, 'in stock'],\n",
    "               [222.99, 0, 'sold out'],\n",
    "               [99.99, 0, 'sold out'],\n",
    "               [79.99, 7, ' in stock']]\n",
    "item_names = ['skis', 'snowboard', 'goggles', 'boots']\n",
    "item_dict = dict(zip(item_names, item_details))\n",
    "print(item_dict)\n"
   ]
  },
  {
   "cell_type": "code",
   "execution_count": 216,
   "id": "1772c572",
   "metadata": {},
   "outputs": [
    {
     "ename": "ValueError",
     "evalue": "dictionary update sequence element #0 has length 3; 2 is required",
     "output_type": "error",
     "traceback": [
      "\u001b[0;31m---------------------------------------------------------------------------\u001b[0m",
      "\u001b[0;31mValueError\u001b[0m                                Traceback (most recent call last)",
      "Cell \u001b[0;32mIn[216], line 1\u001b[0m\n\u001b[0;32m----> 1\u001b[0m \u001b[38;5;28mdict\u001b[39m(\u001b[38;5;28mzip\u001b[39m(item_list, price_list, inventory))\n",
      "\u001b[0;31mValueError\u001b[0m: dictionary update sequence element #0 has length 3; 2 is required"
     ]
    }
   ],
   "source": [
    "dict(zip(item_list, price_list, inventory)) #mozemy dodac jedynie dwa argumenty do zip function kiedy tworzymy dictionary"
   ]
  },
  {
   "cell_type": "code",
   "execution_count": 217,
   "id": "901fc022",
   "metadata": {},
   "outputs": [
    {
     "name": "stdout",
     "output_type": "stream",
     "text": [
      "{'skis': (249.99, 10), 'snowboard': (219.99, 0), 'goggles': (99.99, 0), 'boots': (79.99, 7)}\n"
     ]
    }
   ],
   "source": [
    "item_dict = dict(zip(item_list, zip(price_list, inventory)))\n",
    "print(item_dict)"
   ]
  },
  {
   "cell_type": "code",
   "execution_count": null,
   "id": "3160faff",
   "metadata": {},
   "outputs": [],
   "source": []
  }
 ],
 "metadata": {
  "kernelspec": {
   "display_name": "Python 3 (ipykernel)",
   "language": "python",
   "name": "python3"
  },
  "language_info": {
   "codemirror_mode": {
    "name": "ipython",
    "version": 3
   },
   "file_extension": ".py",
   "mimetype": "text/x-python",
   "name": "python",
   "nbconvert_exporter": "python",
   "pygments_lexer": "ipython3",
   "version": "3.11.3"
  }
 },
 "nbformat": 4,
 "nbformat_minor": 5
}
