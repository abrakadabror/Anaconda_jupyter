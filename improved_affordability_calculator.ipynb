{
 "cells": [
  {
   "cell_type": "markdown",
   "id": "f119d43f",
   "metadata": {},
   "source": [
    "### Improved Affordability Calculator.\n",
    "\n",
    "We need to make sure our affordability calculator can handle many data types without stopping - our data is VERY messy. We need to make the following changes to the code below:\n",
    "\n",
    "\n",
    "* Make sure it converts the string in the list below into a float. Print a warning that this was string data. Then process as usual.\n",
    "\n",
    "* Also, have the loop skip any instances of None data type.\n",
    "\n",
    "* Then, remove the generic except statement to avoid processing errors.\n",
    "\n",
    "* Finally, change the hard coded value 50 into a variable so we can change this value based on each customer's budget."
   ]
  },
  {
   "cell_type": "code",
   "execution_count": 21,
   "id": "fcfa2a1a",
   "metadata": {},
   "outputs": [
    {
     "name": "stdout",
     "output_type": "stream",
     "text": [
      "podaj budzet: 50\n",
      "I can buy 8.0 of these.\n",
      "Skipped\n",
      "I can buy 2.0 of these.\n",
      "I can buy 2.0 of these.\n",
      "Thats not a number\n",
      "I can buy 0.0 of these.\n",
      "I can buy 0.0 of these.\n",
      "[5.99, None, 19.99, 24.99, 0, '74.99', 99.99]\n"
     ]
    }
   ],
   "source": [
    "price_list = [5.99, None, 19.99, 24.99, 0, '74.99', 99.99]\n",
    "price_float_list = []\n",
    "budget = int(input(\"podaj budzet: \"))\n",
    "# loop to calculate how many of each item I can buy\n",
    "for price in price_list:\n",
    "    price_float_list.append(price)\n",
    "    if price is None:\n",
    "        print(\"Skipped\")\n",
    "        continue\n",
    "    try: \n",
    "        price_list = float(price)\n",
    "    except ValueError:\n",
    "        print(f'Invalid price{price}')\n",
    "    try:\n",
    "        affordable_quantity = budget//float(price)  # My budget is 50 dollars\n",
    "        print(f\"I can buy {affordable_quantity} of these.\")\n",
    "    except ZeroDivisionError:\n",
    "        print('Thats not a number')\n",
    "    except:\n",
    "        print('Some error occured while calculating the quantity.')\n",
    "print(price_float_list)"
   ]
  },
  {
   "cell_type": "code",
   "execution_count": null,
   "id": "17723806",
   "metadata": {},
   "outputs": [],
   "source": []
  }
 ],
 "metadata": {
  "kernelspec": {
   "display_name": "Python 3 (ipykernel)",
   "language": "python",
   "name": "python3"
  },
  "language_info": {
   "codemirror_mode": {
    "name": "ipython",
    "version": 3
   },
   "file_extension": ".py",
   "mimetype": "text/x-python",
   "name": "python",
   "nbconvert_exporter": "python",
   "pygments_lexer": "ipython3",
   "version": "3.11.3"
  }
 },
 "nbformat": 4,
 "nbformat_minor": 5
}
