{
 "cells": [
  {
   "cell_type": "markdown",
   "id": "21913ac1",
   "metadata": {},
   "source": [
    "### New European Dictionary\n",
    "\n",
    "Hi There, We have an new structure for our European data - a nested dictionary. \n",
    "\n",
    "Can you help me retieve some information?\n",
    "\n",
    "Run the top two cells to create the data."
   ]
  },
  {
   "cell_type": "code",
   "execution_count": 8,
   "id": "092fa462",
   "metadata": {},
   "outputs": [],
   "source": [
    "item_ids = [\n",
    "    10001, 10002, 10003, 10004, 10005, \n",
    "    10006, 10007, 10008, 10009\n",
    "]\n",
    "\n",
    "item_names = [\n",
    "    \"Coffee\", \"Beanie\", \"Gloves\", \"Sweatshirt\", \"Helmet\",\n",
    "    \"Snow Pants\", \"Coat\", \"Ski Poles\", \"Ski Boots\"\n",
    "]\n",
    "\n",
    "euro_prices = [\n",
    "    5.27, 8.79, 17.59, 21.99, 87.99, \n",
    "    70.39, 105.59, 87.99, 175.99\n",
    "]\n",
    "\n",
    "item_category = [\n",
    "    \"beverage\", \"clothing\", \"clothing\", \"clothing\", \"safety\",\n",
    "    \"clothing\", \"clothing\", \"hardware\", \"hardware\",\n",
    "]\n",
    "\n",
    "sizes = [\n",
    "    [\"250mL\"],\n",
    "    [\"Child\", \"Adult\"],\n",
    "    [\"Child\", \"Adult\"],\n",
    "    [\"XS\", \"S\", \"M\", \"L\", \"XL\", \"XXL\"],\n",
    "    [\"Child\", \"Adult\"],\n",
    "    [\"XS\", \"S\", \"M\", \"L\", \"XL\", \"XXL\"],\n",
    "    [\"S\", \"M\", \"L\"],\n",
    "    [\"S\", \"M\", \"L\"],\n",
    "    [5, 6, 7, 8, 9, 10, 11],\n",
    "    [\"S\", \"M\", \"L\"],\n",
    "    [5, 6, 7, 8, 9, 10, 11],\n",
    "    [\"NA\"],\n",
    "    [\"S\", \"M\", \"L\", \"Powder\"],\n",
    "]"
   ]
  },
  {
   "cell_type": "code",
   "execution_count": 58,
   "id": "a4e7cdc3",
   "metadata": {},
   "outputs": [
    {
     "data": {
      "text/plain": [
       "{10001: {'name': 'Coffee',\n",
       "  'price': 5.27,\n",
       "  'category': 'beverage',\n",
       "  'sizes': ['250mL']},\n",
       " 10002: {'name': 'Beanie',\n",
       "  'price': 8.79,\n",
       "  'category': 'clothing',\n",
       "  'sizes': ['Child', 'Adult']},\n",
       " 10003: {'name': 'Gloves',\n",
       "  'price': 17.59,\n",
       "  'category': 'clothing',\n",
       "  'sizes': ['Child', 'Adult']},\n",
       " 10004: {'name': 'Sweatshirt',\n",
       "  'price': 21.99,\n",
       "  'category': 'clothing',\n",
       "  'sizes': ['XS', 'S', 'M', 'L', 'XL', 'XXL']},\n",
       " 10005: {'name': 'Helmet',\n",
       "  'price': 87.99,\n",
       "  'category': 'safety',\n",
       "  'sizes': ['Child', 'Adult']},\n",
       " 10006: {'name': 'Snow Pants',\n",
       "  'price': 70.39,\n",
       "  'category': 'clothing',\n",
       "  'sizes': ['XS', 'S', 'M', 'L', 'XL', 'XXL']},\n",
       " 10007: {'name': 'Coat',\n",
       "  'price': 105.59,\n",
       "  'category': 'clothing',\n",
       "  'sizes': ['S', 'M', 'L']},\n",
       " 10008: {'name': 'Ski Poles',\n",
       "  'price': 87.99,\n",
       "  'category': 'hardware',\n",
       "  'sizes': ['S', 'M', 'L']},\n",
       " 10009: {'name': 'Ski Boots',\n",
       "  'price': 175.99,\n",
       "  'category': 'hardware',\n",
       "  'sizes': [5, 6, 7, 8, 9, 10, 11]}}"
      ]
     },
     "execution_count": 58,
     "metadata": {},
     "output_type": "execute_result"
    }
   ],
   "source": [
    "# Note: this is a dictionary comprension - we will learn this syntax in the next section\n",
    "\n",
    "euro_data = {\n",
    "    item_id: {\"name\": name, \"price\": price, \"category\": category, \"sizes\": sizes}\n",
    "    for item_id, name, price, category, sizes in zip(\n",
    "        item_ids, item_names, euro_prices, item_category, sizes\n",
    "    )\n",
    "}\n",
    "\n",
    "euro_data"
   ]
  },
  {
   "cell_type": "markdown",
   "id": "3511a1cb",
   "metadata": {},
   "source": [
    "### Lookup Data\n",
    "\n",
    "Can you check the price for item 10009? I want to make sure we loaded the data correctly."
   ]
  },
  {
   "cell_type": "code",
   "execution_count": 60,
   "id": "952ed07f",
   "metadata": {},
   "outputs": [
    {
     "name": "stdout",
     "output_type": "stream",
     "text": [
      "175.99\n"
     ]
    }
   ],
   "source": [
    "print(euro_data[10009]['price'])"
   ]
  },
  {
   "cell_type": "markdown",
   "id": "7d56ebd8",
   "metadata": {},
   "source": [
    "### European Sizes\n",
    "\n",
    "Now can you change the size for the boots (item 10009) to European shoe sizing? \n",
    "\n",
    "The European sizes are in a list below."
   ]
  },
  {
   "cell_type": "markdown",
   "id": "8065c5c9",
   "metadata": {},
   "source": []
  },
  {
   "cell_type": "code",
   "execution_count": 62,
   "id": "8205811e",
   "metadata": {},
   "outputs": [
    {
     "name": "stdout",
     "output_type": "stream",
     "text": [
      "[37, 38, 39.5, 40.5, 41.5, 43.5, 44.5, 46.5]\n"
     ]
    }
   ],
   "source": [
    "boot_sizes = [37, 38, 39.5, 40.5, 41.5, 43.5, 44.5, 46.5]\n",
    "euro_data[10009]['sizes'] = boot_sizes\n",
    "print(euro_data[10009]['sizes'])\n",
    "  \n",
    "    \n",
    "\n"
   ]
  },
  {
   "cell_type": "markdown",
   "id": "ca419637",
   "metadata": {},
   "source": [
    "### Size Dictionary\n",
    "\n",
    "Thanks for you help. The last thing I need is a dictionary with item names as keys, and sizes (keep them in a list) as the values."
   ]
  },
  {
   "cell_type": "code",
   "execution_count": 64,
   "id": "9f3fadc7",
   "metadata": {},
   "outputs": [
    {
     "name": "stdout",
     "output_type": "stream",
     "text": [
      "{'Coffee': ['250mL'], 'Beanie': ['Child', 'Adult'], 'Gloves': ['Child', 'Adult'], 'Sweatshirt': ['XS', 'S', 'M', 'L', 'XL', 'XXL'], 'Helmet': ['Child', 'Adult'], 'Snow Pants': ['XS', 'S', 'M', 'L', 'XL', 'XXL'], 'Coat': ['S', 'M', 'L'], 'Ski Poles': ['S', 'M', 'L'], 'Ski Boots': [37, 38, 39.5, 40.5, 41.5, 43.5, 44.5, 46.5]}\n"
     ]
    }
   ],
   "source": [
    "product_sizes = {}\n",
    "for product_det in euro_data.values():\n",
    "    product_sizes[product_det['name']] = product_det['sizes']\n",
    "    \n",
    "print(product_sizes)"
   ]
  },
  {
   "cell_type": "code",
   "execution_count": null,
   "id": "82c3171b",
   "metadata": {},
   "outputs": [],
   "source": []
  }
 ],
 "metadata": {
  "kernelspec": {
   "display_name": "Python 3 (ipykernel)",
   "language": "python",
   "name": "python3"
  },
  "language_info": {
   "codemirror_mode": {
    "name": "ipython",
    "version": 3
   },
   "file_extension": ".py",
   "mimetype": "text/x-python",
   "name": "python",
   "nbconvert_exporter": "python",
   "pygments_lexer": "ipython3",
   "version": "3.11.3"
  }
 },
 "nbformat": 4,
 "nbformat_minor": 5
}
