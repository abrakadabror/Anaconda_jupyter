{
 "cells": [
  {
   "cell_type": "code",
   "execution_count": 7,
   "id": "b038a492",
   "metadata": {},
   "outputs": [
    {
     "name": "stdout",
     "output_type": "stream",
     "text": [
      "[5.27, 5.17, 9.87, 29.03]\n"
     ]
    }
   ],
   "source": [
    "exch_rate = 0.88\n",
    "usd_list = [5.99, 5.88, 11.22, 32.99]\n",
    "\n",
    "af_currency = []\n",
    "for list in usd_list:\n",
    "    af_currency.append(round(list * exch_rate,2))\n",
    "print(af_currency)"
   ]
  },
  {
   "cell_type": "code",
   "execution_count": 12,
   "id": "2647da52",
   "metadata": {},
   "outputs": [
    {
     "name": "stdout",
     "output_type": "stream",
     "text": [
      "5.88\n"
     ]
    }
   ],
   "source": [
    "usd_list = [5.99, 5.88, 11.22, 32.99]\n",
    "\n",
    "for usd in usd_list:\n",
    "    usd = usd_list[1] #@drukujemy drugi index w tym przypadku 5.88\n",
    "print(usd)"
   ]
  },
  {
   "cell_type": "code",
   "execution_count": 47,
   "id": "0f206c3a",
   "metadata": {},
   "outputs": [
    {
     "name": "stdout",
     "output_type": "stream",
     "text": [
      "M\n",
      "a\n",
      "v\n",
      "e\n",
      "n\n",
      "Good\n"
     ]
    }
   ],
   "source": [
    "iterable = 'Maven'\n",
    "for item in iterable:\n",
    "    print(item)\n",
    "if item == 'n':\n",
    "    print('Good')"
   ]
  },
  {
   "cell_type": "code",
   "execution_count": 51,
   "id": "7253079f",
   "metadata": {},
   "outputs": [
    {
     "name": "stdout",
     "output_type": "stream",
     "text": [
      "3\n"
     ]
    }
   ],
   "source": [
    "customer_ratings = [ '3 stars', '4 stars', '5 stars', '3 stars', '1 star', '5 stars', '4 stars']\n",
    "\n",
    "rating = int(customer_ratings[0][0])\n",
    "print(rating)"
   ]
  },
  {
   "cell_type": "code",
   "execution_count": 62,
   "id": "d2f9ec2a",
   "metadata": {},
   "outputs": [
    {
     "name": "stdout",
     "output_type": "stream",
     "text": [
      "3.5714285714285716\n",
      "[3, 4, 5, 3, 1, 5, 4]\n"
     ]
    }
   ],
   "source": [
    "empty_list = [] #tworzymy pusta liste aby zapisac dane do niej\n",
    "for rating in customer_ratings:\n",
    "    empty_list.append(int(rating[0])) #wybieramy pierwszy znak w wybranym elemencie listy\n",
    "    avg = (sum(empty_list)/ len(empty_list) )\n",
    "print(avg)\n",
    "print(empty_list)"
   ]
  },
  {
   "cell_type": "code",
   "execution_count": 65,
   "id": "c6d05dc1",
   "metadata": {},
   "outputs": [
    {
     "name": "stdout",
     "output_type": "stream",
     "text": [
      "[5.27, 5.17, 9.87, 29.03]\n"
     ]
    }
   ],
   "source": [
    "exchange_rate = 0.88\n",
    "usd_list = [5.99, 5.88, 11.22, 32.99]\n",
    "euro_list = []\n",
    "\n",
    "for i in range(len(usd_list)):\n",
    "    euro_list.append(round(usd_list[i] * exchange_rate, 2))\n",
    "print(euro_list)"
   ]
  },
  {
   "cell_type": "code",
   "execution_count": 28,
   "id": "eb05edd4",
   "metadata": {},
   "outputs": [
    {
     "name": "stdout",
     "output_type": "stream",
     "text": [
      " The snowboard costs 5.99 euros.\n",
      " The  boots costs 5.88 euros.\n",
      " The helmet costs 11.22 euros.\n",
      " The google costs 32.99 euros.\n"
     ]
    }
   ],
   "source": [
    "usd_list = [5.99, 5.88, 11.22, 32.99]\n",
    "item_list =  ['Snowboard', ' Boots', 'Helmet', 'Google', 'Bindings']\n",
    "\n",
    "for i in range(len(usd_list)):\n",
    "    print(f' The {item_list[i].lower()} costs {usd_list[i]} euros.')\n",
    "    "
   ]
  },
  {
   "cell_type": "code",
   "execution_count": 6,
   "id": "4eddee97",
   "metadata": {},
   "outputs": [
    {
     "name": "stdout",
     "output_type": "stream",
     "text": [
      " Some kind of word 2.99 and another word10\n",
      " Some kind of word 99.99 and another word15\n",
      " Some kind of word 219.99 and another word10\n",
      " Some kind of word 89.99 and another word15\n",
      " Some kind of word 29.99 and another word8\n",
      " Some kind of word 9.99 and another word27\n",
      " item 1: Inventory - 10, Price - $2.99\n",
      " item 2: Inventory - 15, Price - $99.99\n",
      " item 3: Inventory - 10, Price - $219.99\n",
      " item 4: Inventory - 15, Price - $89.99\n",
      " item 5: Inventory - 8, Price - $29.99\n",
      " item 6: Inventory - 27, Price - $9.99\n"
     ]
    }
   ],
   "source": [
    "inventory = [10, 15, 10, 15 , 8 , 27]\n",
    "prices = [2.99, 99.99, 219.99, 89.99, 29.99, 9.99]\n",
    "\n",
    "for i in range(len(inventory)):\n",
    "    print (f' Some kind of word {prices[i]} and another word {inventory[i]}')\n",
    "\n",
    "for index, item in enumerate(inventory):\n",
    "    price = prices[index]\n",
    "    print(f' item {index + 1}: Inventory - {item}, Price - ${price}')"
   ]
  },
  {
   "cell_type": "code",
   "execution_count": 7,
   "id": "cafc034b",
   "metadata": {},
   "outputs": [
    {
     "name": "stdout",
     "output_type": "stream",
     "text": [
      "0\n",
      "1\n",
      "2\n",
      "3\n",
      "4\n",
      "5\n"
     ]
    }
   ],
   "source": [
    "inventory = [10, 15, 10, 15 , 8 , 27]\n",
    "prices = [2.99, 99.99, 219.99, 89.99, 29.99, 9.99]\n",
    "\n",
    "for i in range(len(inventory)):\n",
    "    print(i)\n",
    "\n"
   ]
  },
  {
   "cell_type": "code",
   "execution_count": 11,
   "id": "dee41cd6",
   "metadata": {},
   "outputs": [
    {
     "name": "stdout",
     "output_type": "stream",
     "text": [
      "29.9\n",
      "1499.85\n",
      "2199.9\n",
      "1349.85\n",
      "239.92\n",
      "269.73\n"
     ]
    }
   ],
   "source": [
    "inventory = [10, 15, 10, 15 , 8 , 27]\n",
    "prices = [2.99, 99.99, 219.99, 89.99, 29.99, 9.99]\n",
    "\n",
    "for i in range(len(inventory)):\n",
    "    print(round(inventory[i] * prices[i], 2))"
   ]
  },
  {
   "cell_type": "code",
   "execution_count": 14,
   "id": "c88c771e",
   "metadata": {},
   "outputs": [
    {
     "name": "stdout",
     "output_type": "stream",
     "text": [
      "[29.9, 1499.85, 2199.9, 1349.85, 239.92, 269.73]\n"
     ]
    }
   ],
   "source": [
    "product_values = [] #pusta lista \n",
    "for i in range(len(inventory)): #iterujemy po indeksach liscie inventory, ktora z poleceniem len zwraca calkowita liczbe elementow listy\n",
    "    product_values.append(round(inventory[i] * prices[i], 2)) #dodajemy do pustej listy stworzonej wyzej\n",
    "print(product_values) #drukujemy wynik"
   ]
  },
  {
   "cell_type": "code",
   "execution_count": 15,
   "id": "013f22ba",
   "metadata": {},
   "outputs": [
    {
     "data": {
      "text/plain": [
       "5589.15"
      ]
     },
     "execution_count": 15,
     "metadata": {},
     "output_type": "execute_result"
    }
   ],
   "source": [
    "sum(product_values) #zliaczamy sume"
   ]
  },
  {
   "cell_type": "code",
   "execution_count": 17,
   "id": "1641c8c4",
   "metadata": {},
   "outputs": [
    {
     "name": "stdout",
     "output_type": "stream",
     "text": [
      "0 5.99\n",
      "1 5.88\n",
      "2 11.22\n",
      "3 32.99\n",
      "4 99.99\n"
     ]
    }
   ],
   "source": [
    "euro_list = [5.99, 5.88, 11.22, 32.99, 99.99]\n",
    "item_list =  ['Snowboard', ' Boots', 'Helmet', 'Google', 'Bindings']\n",
    "\n",
    "for index, element in enumerate(euro_list):\n",
    "    print(index, element)"
   ]
  },
  {
   "cell_type": "code",
   "execution_count": 19,
   "id": "b376db5e",
   "metadata": {},
   "outputs": [
    {
     "name": "stdout",
     "output_type": "stream",
     "text": [
      "[29.9, 1399.86, 2199.9, 1349.85, 239.92, 269.73]\n"
     ]
    },
    {
     "data": {
      "text/plain": [
       "5489.16"
      ]
     },
     "execution_count": 19,
     "metadata": {},
     "output_type": "execute_result"
    }
   ],
   "source": [
    "item_names = [ 'Keychain', 'Helmet', 'Snowboard', 'Ski Poles', 'Sweatshit', 'Boots']\n",
    "inventories = [10, 14, 10, 15, 8 , 27]\n",
    "prices = [2.99, 99.99, 219.99, 89.99, 29.99, 9.99]\n",
    "\n",
    "product_values = []\n",
    "\n",
    "for i in range(len(inventories)):\n",
    "    product_values.append(round(inventories[i] * prices[i], 2))\n",
    "print(product_values)\n",
    "\n",
    "sum(product_values)"
   ]
  },
  {
   "cell_type": "code",
   "execution_count": 23,
   "id": "d88ce9ab",
   "metadata": {},
   "outputs": [
    {
     "name": "stdout",
     "output_type": "stream",
     "text": [
      " We have $29.9 wort of Keychain\n",
      " We have $1399.86 wort of Helmet\n",
      " We have $2199.9 wort of Snowboard\n",
      " We have $1349.85 wort of Ski Poles\n",
      " We have $239.92 wort of Sweatshit\n",
      " We have $269.73 wort of Boots\n",
      "[29.9, 1399.86, 2199.9, 1349.85, 239.92, 269.73]\n"
     ]
    },
    {
     "data": {
      "text/plain": [
       "5489.16"
      ]
     },
     "execution_count": 23,
     "metadata": {},
     "output_type": "execute_result"
    }
   ],
   "source": [
    "#enumerate\n",
    "\n",
    "item_names = [ 'Keychain', 'Helmet', 'Snowboard', 'Ski Poles', 'Sweatshit', 'Boots']\n",
    "inventories = [10, 14, 10, 15, 8 , 27]\n",
    "prices = [2.99, 99.99, 219.99, 89.99, 29.99, 9.99]\n",
    "\n",
    "product_values = []\n",
    "\n",
    "for i, inventory in enumerate(inventories):\n",
    "    product_value = round(inventory * prices[i], 2)\n",
    "    product_values.append(product_value) #nie potrzebujemy indexu [i] gdyz jest on zawarty w funkcji enumerate\n",
    "    print(f' We have ${product_value} wort of {item_names[i]}')\n",
    "print(product_values)\n",
    "\n",
    "sum(product_values)"
   ]
  },
  {
   "cell_type": "code",
   "execution_count": 29,
   "id": "14b2ae60",
   "metadata": {
    "scrolled": true
   },
   "outputs": [
    {
     "name": "stdout",
     "output_type": "stream",
     "text": [
      "1\n",
      "2\n",
      "3\n",
      "4\n",
      "5\n",
      "6\n",
      "7\n",
      "8\n",
      "9\n",
      "10\n"
     ]
    }
   ],
   "source": [
    "counter = 0 \n",
    "while counter < 10:\n",
    "    counter += 1\n",
    "    print(counter)"
   ]
  },
  {
   "cell_type": "markdown",
   "id": "65a0fb1e",
   "metadata": {},
   "source": [
    "# Example number 1"
   ]
  },
  {
   "cell_type": "code",
   "execution_count": 33,
   "id": "998742ff",
   "metadata": {
    "scrolled": true
   },
   "outputs": [
    {
     "name": "stdout",
     "output_type": "stream",
     "text": [
      " At the end of year 1: My balance is $ 840000.0\n",
      " At the end of year 2: My balance is $ 882000.0\n",
      " At the end of year 3: My balance is $ 926100.0\n",
      " At the end of year 4: My balance is $ 972405.0\n",
      " At the end of year 5: My balance is $ 1021025.25\n"
     ]
    }
   ],
   "source": [
    "#starting portfolio balance is 800000\n",
    "stock_portfolio = 800000\n",
    "year_counter = 0\n",
    "\n",
    "while stock_portfolio < 1000000: #calculate annual investment income\n",
    "    investment_income = stock_portfolio * .05  # 5% interest rate\n",
    "    stock_portfolio += investment_income # add income to end of year portfolio balance\n",
    "    year_counter += 1 #add one each year\n",
    "    print(f' At the end of year {year_counter}:' + f' My balance is $ {round(stock_portfolio, 2)}')"
   ]
  },
  {
   "cell_type": "markdown",
   "id": "0e770937",
   "metadata": {},
   "source": [
    "# Example number 2"
   ]
  },
  {
   "cell_type": "code",
   "execution_count": 34,
   "id": "df818c61",
   "metadata": {},
   "outputs": [
    {
     "name": "stdout",
     "output_type": "stream",
     "text": [
      " At the end of month 1:  My balance is $4000\n",
      " At the end of month 2:  My balance is $3000\n",
      " At the end of month 3:  My balance is $2000\n",
      " At the end of month 4:  My balance is $1000\n",
      " At the end of month 5:  My balance is $0\n"
     ]
    }
   ],
   "source": [
    "#calculating bank balance until we're out of money\n",
    "bank_balance = 5000\n",
    "month_counter = 0 \n",
    "while bank_balance > 0:\n",
    "    spending = 1000\n",
    "    bank_balance -= spending\n",
    "    month_counter += 1\n",
    "    print(f' At the end of month {month_counter}: ' + f' My balance is ${round(bank_balance, 2)}')"
   ]
  },
  {
   "cell_type": "markdown",
   "id": "73f8b29d",
   "metadata": {},
   "source": [
    "# while_loop_demo\n"
   ]
  },
  {
   "cell_type": "code",
   "execution_count": 42,
   "id": "d21e4065",
   "metadata": {},
   "outputs": [],
   "source": [
    "customer_ratings = [\n",
    "    '5 stars', '3 stars', '1 star', '4 stars', '7 stars', '4 stars', '5 stars','4 stars', '3 stars', '7 stars','5 stars', '1 star']\n"
   ]
  },
  {
   "cell_type": "code",
   "execution_count": 43,
   "id": "dcbae123",
   "metadata": {
    "scrolled": true
   },
   "outputs": [
    {
     "name": "stdout",
     "output_type": "stream",
     "text": [
      "1\n",
      "2\n",
      "['5 stars', '3 stars', '4 stars', '7 stars', '4 stars', '5 stars', '4 stars', '3 stars', '7 stars', '5 stars']\n"
     ]
    }
   ],
   "source": [
    "onestar_counter = 0 \n",
    "\n",
    "while '1 star' in customer_ratings:\n",
    "    customer_ratings.remove('1 star')\n",
    "    onestar_counter += 1\n",
    "    print(onestar_counter)\n",
    "print(customer_ratings)\n",
    "    "
   ]
  },
  {
   "cell_type": "markdown",
   "id": "9d05965e",
   "metadata": {},
   "source": [
    "# Demo Nested Loops"
   ]
  },
  {
   "cell_type": "code",
   "execution_count": 44,
   "id": "8b25f5cd",
   "metadata": {},
   "outputs": [],
   "source": [
    "items = ['skis', 'snowboards', 'googles', 'boots']\n",
    "\n",
    "item_reviews = [['5 stars', '3 stars', '1 star'],\n",
    "['5 stars', '2 stars'],\n",
    "['3 stars', '1 star'],\n",
    "['1 star']]\n",
    "\n"
   ]
  },
  {
   "cell_type": "code",
   "execution_count": 54,
   "id": "91e51b93",
   "metadata": {},
   "outputs": [
    {
     "name": "stdout",
     "output_type": "stream",
     "text": [
      "[[5, 3, 1], [5, 2], [3, 1], [1]]\n"
     ]
    }
   ],
   "source": [
    "item_reviews_numeric = []\n",
    "for item in item_reviews:\n",
    "    integer_ratings = []\n",
    "    for review in item:\n",
    "        integer_rating = int(review[0])\n",
    "        integer_ratings.append(integer_rating)\n",
    "    item_reviews_numeric.append(integer_ratings)\n",
    "print(item_reviews_numeric)"
   ]
  },
  {
   "cell_type": "code",
   "execution_count": 55,
   "id": "3154c0a7",
   "metadata": {
    "scrolled": true
   },
   "outputs": [
    {
     "name": "stdout",
     "output_type": "stream",
     "text": [
      "3.0\n",
      "3.5\n",
      "2.0\n",
      "1.0\n"
     ]
    }
   ],
   "source": [
    "for item in item_reviews_numeric:\n",
    "    print(sum(item)/len(item))\n",
    "    "
   ]
  },
  {
   "cell_type": "markdown",
   "id": "ced26f82",
   "metadata": {},
   "source": [
    "# Loop Control"
   ]
  },
  {
   "cell_type": "code",
   "execution_count": 56,
   "id": "0851d49a",
   "metadata": {},
   "outputs": [
    {
     "name": "stdout",
     "output_type": "stream",
     "text": [
      "15.99\n",
      "915.98\n",
      "1715.96\n",
      "1833.94\n",
      "1839.92\n",
      "2439.91\n"
     ]
    }
   ],
   "source": [
    "#break\n",
    "subtotals = [ 15.99, 899.99, 799.98, 117.98, 5.98, 599.99, 1799.95, 99.99]\n",
    "revenue = 0\n",
    "\n",
    "for subtotal in subtotals:\n",
    "    revenue += subtotal\n",
    "    print(round(revenue, 2))\n",
    "    if revenue > 2000:\n",
    "        break"
   ]
  },
  {
   "cell_type": "code",
   "execution_count": 58,
   "id": "dac51b59",
   "metadata": {},
   "outputs": [
    {
     "name": "stdout",
     "output_type": "stream",
     "text": [
      " My balacne is $105 in year 1\n",
      " My balacne is $110 in year 2\n",
      " My balacne is $116 in year 3\n",
      " My balacne is $122 in year 4\n",
      " My balacne is $128 in year 5\n",
      " My balacne is $134 in year 6\n",
      " My balacne is $141 in year 7\n",
      " My balacne is $148 in year 8\n",
      " My balacne is $155 in year 9\n",
      " My balacne is $163 in year 10\n",
      " My balacne is $171 in year 11\n",
      " My balacne is $180 in year 12\n",
      " My balacne is $189 in year 13\n",
      " My balacne is $198 in year 14\n",
      " My balacne is $208 in year 15\n",
      " My balacne is $218 in year 16\n",
      " My balacne is $229 in year 17\n",
      " My balacne is $241 in year 18\n",
      " My balacne is $253 in year 19\n",
      " My balacne is $265 in year 20\n",
      " My balacne is $279 in year 21\n",
      " My balacne is $293 in year 22\n",
      " My balacne is $307 in year 23\n",
      " My balacne is $323 in year 24\n",
      " My balacne is $339 in year 25\n",
      " My balacne is $356 in year 26\n",
      " My balacne is $373 in year 27\n",
      " My balacne is $392 in year 28\n",
      " My balacne is $412 in year 29\n",
      " My balacne is $432 in year 30\n",
      " Guess i need to save more\n"
     ]
    }
   ],
   "source": [
    "#break statement\n",
    "\n",
    "stock_portfolio = 100\n",
    "year_counter = 0 \n",
    "\n",
    "while stock_portfolio < 1000000:\n",
    "    investment_income = stock_portfolio *.05\n",
    "    stock_portfolio += investment_income\n",
    "    year_counter += 1\n",
    "    print(f' My balacne is ${round(stock_portfolio)} in year {year_counter}')\n",
    "    if year_counter >= 30:\n",
    "        print(' Guess i need to save more')\n",
    "        break"
   ]
  },
  {
   "cell_type": "code",
   "execution_count": 64,
   "id": "1f7b5e7d",
   "metadata": {},
   "outputs": [
    {
     "name": "stdout",
     "output_type": "stream",
     "text": [
      "['Helmet', 'Snowboard', 'Ski-Poles', 'Sweatshit']\n"
     ]
    }
   ],
   "source": [
    "#continue statement\n",
    "\n",
    "item_list = ['ski-keychain', 'Helmet', 'Snowboard', 'Ski-Poles', 'Sweatshit', 'ski-Boots' ]\n",
    "snowboards = []\n",
    "for item in item_list:\n",
    "    if 'ski' in item:\n",
    "        continue\n",
    "    snowboards.append(item)\n",
    "print(snowboards)"
   ]
  },
  {
   "cell_type": "code",
   "execution_count": 65,
   "id": "78e24319",
   "metadata": {},
   "outputs": [],
   "source": [
    "#pass statement\n",
    "item_list = ['ski-keychain', 'Helmet', 'Snowboard', 'Ski-Poles', 'Sweatshit', 'ski-Boots' ]\n",
    "snowboards = []\n",
    "for item in item_list:\n",
    "    if 'ski' in item:\n",
    "        pass\n",
    "    snowboards.append(item)\n",
    "print(snowboards)"
   ]
  },
  {
   "cell_type": "markdown",
   "id": "af51ed5f",
   "metadata": {},
   "source": [
    "# Try and except"
   ]
  },
  {
   "cell_type": "code",
   "execution_count": 70,
   "id": "1ee23598",
   "metadata": {},
   "outputs": [
    {
     "name": "stdout",
     "output_type": "stream",
     "text": [
      " i can buy 8.0 of these.\n",
      " i can buy 8.0 of these.\n",
      "The price seems to be missing\n",
      "You can't divded by zero\n",
      " i can buy 4.0 of these.\n",
      "The price seems to be missing\n",
      " i can buy 0.0 of these.\n"
     ]
    }
   ],
   "source": [
    "price_list = [5.99, 5.88, None, 0, 11.22, '32.99', 99.99]\n",
    "for price in price_list:\n",
    "    try:\n",
    "        affordable_quantity = 50// price \n",
    "        print(f' i can buy {affordable_quantity} of these.')\n",
    "    except ZeroDivisionError:\n",
    "        print(\"You can't divded by zero\")\n",
    "    except:\n",
    "        print('The price seems to be missing')\n",
    "    "
   ]
  },
  {
   "cell_type": "markdown",
   "id": "62539e65",
   "metadata": {},
   "source": [
    "# loop_control_demo"
   ]
  },
  {
   "cell_type": "code",
   "execution_count": 76,
   "id": "b6074d7f",
   "metadata": {},
   "outputs": [
    {
     "name": "stdout",
     "output_type": "stream",
     "text": [
      "Ma\n"
     ]
    }
   ],
   "source": [
    "word = 'Maven'\n",
    "new_word=''\n",
    "\n",
    "for letter in word:\n",
    "    if letter in 'v':\n",
    "        break\n",
    "    new_word += letter\n",
    "print(new_word)"
   ]
  },
  {
   "cell_type": "code",
   "execution_count": 80,
   "id": "513a833a",
   "metadata": {
    "scrolled": true
   },
   "outputs": [
    {
     "name": "stdout",
     "output_type": "stream",
     "text": [
      "1\n",
      "5\n",
      "wrong value\n",
      "4\n"
     ]
    }
   ],
   "source": [
    "ratings = [ '1 star', '5 star',  'star 3', '4 star']\n",
    "for rating in ratings:\n",
    "    try:\n",
    "        print(int(rating[0]))\n",
    "    except ValueError:\n",
    "        print(\"wrong value\")"
   ]
  },
  {
   "cell_type": "markdown",
   "id": "b1587653",
   "metadata": {},
   "source": [
    "# List Limitations"
   ]
  },
  {
   "cell_type": "code",
   "execution_count": 84,
   "id": "92d44a5b",
   "metadata": {},
   "outputs": [
    {
     "name": "stdout",
     "output_type": "stream",
     "text": [
      "sold out\n"
     ]
    }
   ],
   "source": [
    "inventory_status = [['skis', 'in stock'], ['snowboard', 'sold out'],['googgles', 'sold out'],['boots', 'in stock']]\n",
    "item_looking_for = 'googgles'\n",
    "for item in inventory_status:\n",
    "    if item[0] == item_looking_for:\n",
    "        print(item[1])"
   ]
  },
  {
   "cell_type": "markdown",
   "id": "4ccd00e9",
   "metadata": {},
   "source": [
    "# Dictonary basic"
   ]
  },
  {
   "cell_type": "code",
   "execution_count": 86,
   "id": "9e6116cb",
   "metadata": {},
   "outputs": [
    {
     "data": {
      "text/plain": [
       "'in stock'"
      ]
     },
     "execution_count": 86,
     "metadata": {},
     "output_type": "execute_result"
    }
   ],
   "source": [
    "inventory_status = {'skis': 'in stock',\n",
    "                   'snowboard': 'sold out',\n",
    "                   'goggles': 'sold out', 'boots': 'in stock'}\n",
    "inventory_status['skis']"
   ]
  },
  {
   "cell_type": "code",
   "execution_count": 90,
   "id": "ac58dfb6",
   "metadata": {},
   "outputs": [
    {
     "data": {
      "text/plain": [
       "[244.99, 10, 'in stock']"
      ]
     },
     "execution_count": 90,
     "metadata": {},
     "output_type": "execute_result"
    }
   ],
   "source": [
    "inventory_details = {'skis': [244.99, 10, 'in stock'],\n",
    "                   'snowboard': [432.12, 12, 'sold out'],\n",
    "                   'goggles': [542.45, 45, 'sold out'], 'boots': [678.98, 32, 'in stock']}\n",
    "inventory_details['skis']"
   ]
  },
  {
   "cell_type": "code",
   "execution_count": 93,
   "id": "b0924a50",
   "metadata": {},
   "outputs": [
    {
     "data": {
      "text/plain": [
       "10"
      ]
     },
     "execution_count": 93,
     "metadata": {},
     "output_type": "execute_result"
    }
   ],
   "source": [
    "inventory_details['skis'][1]"
   ]
  },
  {
   "cell_type": "markdown",
   "id": "ff33bc74",
   "metadata": {},
   "source": [
    "# Modyfying dictionaries"
   ]
  },
  {
   "cell_type": "code",
   "execution_count": 96,
   "id": "61031e6f",
   "metadata": {},
   "outputs": [],
   "source": [
    "item_details = {'skis': [244.99, 10, 'in stock'],\n",
    "                   'snowboard': [432.12, 12, 'sold out'],\n",
    "                   'goggles': [542.45, 45, 'sold out'], 'boots': [678.98, 32, 'in stock']}"
   ]
  },
  {
   "cell_type": "code",
   "execution_count": 97,
   "id": "6133c95d",
   "metadata": {},
   "outputs": [
    {
     "name": "stdout",
     "output_type": "stream",
     "text": [
      "{'skis': [244.99, 10, 'in stock'], 'snowboard': [432.12, 12, 'sold out'], 'goggles': [542.45, 45, 'sold out'], 'boots': [678.98, 32, 'in stock'], 'bindings': [149.99, 4, 'in stock']}\n"
     ]
    }
   ],
   "source": [
    "item_details['bindings'] = [149.99, 4, 'in stock']\n",
    "print(item_details)"
   ]
  },
  {
   "cell_type": "code",
   "execution_count": 98,
   "id": "d8b52106",
   "metadata": {},
   "outputs": [
    {
     "data": {
      "text/plain": [
       "{'skis': [244.99, 10, 'in stock'],\n",
       " 'snowboard': [432.12, 12, 'sold out'],\n",
       " 'goggles': [542.45, 45, 'sold out'],\n",
       " 'boots': [678.98, 32, 'in stock'],\n",
       " 'bindings': [139.99, 0, 'out of stock']}"
      ]
     },
     "execution_count": 98,
     "metadata": {},
     "output_type": "execute_result"
    }
   ],
   "source": [
    "item_details['bindings'] = [139.99, 0, 'out of stock']\n",
    "item_details"
   ]
  },
  {
   "cell_type": "code",
   "execution_count": 99,
   "id": "2878b42b",
   "metadata": {},
   "outputs": [
    {
     "name": "stdout",
     "output_type": "stream",
     "text": [
      "{'skis': [244.99, 10, 'in stock'], 'snowboard': [432.12, 12, 'sold out'], 'goggles': [542.45, 45, 'sold out'], 'bindings': [139.99, 0, 'out of stock']}\n"
     ]
    }
   ],
   "source": [
    "del item_details['boots']\n",
    "print(item_details)"
   ]
  },
  {
   "cell_type": "markdown",
   "id": "c77e8482",
   "metadata": {},
   "source": [
    "# dictionary_operations_demo"
   ]
  },
  {
   "cell_type": "code",
   "execution_count": null,
   "id": "43d6699c",
   "metadata": {},
   "outputs": [],
   "source": [
    "item_prices = {\n",
    "    's'\n",
    "}"
   ]
  }
 ],
 "metadata": {
  "kernelspec": {
   "display_name": "Python 3 (ipykernel)",
   "language": "python",
   "name": "python3"
  },
  "language_info": {
   "codemirror_mode": {
    "name": "ipython",
    "version": 3
   },
   "file_extension": ".py",
   "mimetype": "text/x-python",
   "name": "python",
   "nbconvert_exporter": "python",
   "pygments_lexer": "ipython3",
   "version": "3.11.3"
  }
 },
 "nbformat": 4,
 "nbformat_minor": 5
}
