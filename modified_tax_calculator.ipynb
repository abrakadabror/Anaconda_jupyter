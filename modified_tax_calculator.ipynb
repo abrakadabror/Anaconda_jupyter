{
 "cells": [
  {
   "cell_type": "markdown",
   "id": "489b9d5b",
   "metadata": {},
   "source": [
    "### Modified Tax Calculator\n",
    "\n",
    "Since the tax calculator we made was primarily for our Stowe employees, let's modify the tax calculator below to have a default tax rate of 6%. \n",
    "\n",
    "Also, we want the output of the function to return a list containing the subtotal, tax, and totals."
   ]
  },
  {
   "cell_type": "code",
   "execution_count": 7,
   "id": "4105f94b",
   "metadata": {},
   "outputs": [
    {
     "name": "stdout",
     "output_type": "stream",
     "text": [
      "Overwriting tax_calculator.py\n"
     ]
    }
   ],
   "source": [
    "%%writefile tax_calculator.py\n",
    "\n",
    "def tax_calculator(subtotal, sales_tax = .06):\n",
    "    tax = round(subtotal * sales_tax, 2)\n",
    "    return(subtotal, tax, total)\n",
    "    "
   ]
  },
  {
   "cell_type": "code",
   "execution_count": 8,
   "id": "2784deb1",
   "metadata": {},
   "outputs": [
    {
     "ename": "NameError",
     "evalue": "name 'tax_calculator' is not defined",
     "output_type": "error",
     "traceback": [
      "\u001b[0;31m---------------------------------------------------------------------------\u001b[0m",
      "\u001b[0;31mNameError\u001b[0m                                 Traceback (most recent call last)",
      "Cell \u001b[0;32mIn[8], line 1\u001b[0m\n\u001b[0;32m----> 1\u001b[0m tax_calculator(\u001b[38;5;241m100\u001b[39m, \u001b[38;5;241m.06\u001b[39m)\n",
      "\u001b[0;31mNameError\u001b[0m: name 'tax_calculator' is not defined"
     ]
    }
   ],
   "source": [
    "tax_calculator(100, .06)"
   ]
  },
  {
   "cell_type": "code",
   "execution_count": null,
   "id": "7455026b",
   "metadata": {},
   "outputs": [],
   "source": []
  }
 ],
 "metadata": {
  "kernelspec": {
   "display_name": "Python 3 (ipykernel)",
   "language": "python",
   "name": "python3"
  },
  "language_info": {
   "codemirror_mode": {
    "name": "ipython",
    "version": 3
   },
   "file_extension": ".py",
   "mimetype": "text/x-python",
   "name": "python",
   "nbconvert_exporter": "python",
   "pygments_lexer": "ipython3",
   "version": "3.11.3"
  }
 },
 "nbformat": 4,
 "nbformat_minor": 5
}
