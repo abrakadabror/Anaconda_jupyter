{
 "cells": [
  {
   "cell_type": "markdown",
   "id": "d5858f7d",
   "metadata": {},
   "source": [
    "### Applying Sales Tax\n",
    "\n",
    "Last weekend our system went down and we didn't have a calculator on site, so we told customers we'd charge them for tax later. \n",
    "\n",
    "The transactions are below."
   ]
  },
  {
   "cell_type": "code",
   "execution_count": 1,
   "id": "ecf7bfd9",
   "metadata": {},
   "outputs": [],
   "source": [
    "subtotals = [15.98, 899.97, 799.97, 117.96, 5.99, 599.99, 24.99, 1799.94, 99.99]"
   ]
  },
  {
   "cell_type": "markdown",
   "id": "e30ee503",
   "metadata": {},
   "source": [
    "Can you apply sales tax to all of the transactions?\n",
    "\n",
    "The tax rate is 8%. \n",
    "\n",
    "Once we've calculated the taxes, we'll need to add them to their subtotals and calculate the the total invoice value.\n",
    "\n",
    "Your code should produce two lists.\n",
    "\n",
    "* `taxes`:The first should be a list of the tax amounts on each transaction, rounded to the nearest .01.\n",
    "\n",
    "* `totals`: The second should be a list where each element is subtotal[i] + tax[i]"
   ]
  },
  {
   "cell_type": "code",
   "execution_count": 36,
   "id": "70a25441",
   "metadata": {},
   "outputs": [
    {
     "name": "stdout",
     "output_type": "stream",
     "text": [
      "[1.28, 72.0, 64.0, 9.44, 0.48, 48.0, 2.0, 144.0, 8.0]\n",
      "[1.28, 72.0, 64.0, 9.44, 0.48, 48.0, 2.0, 144.0, 8.0, 1.28, 72.0, 64.0, 9.44, 0.48, 48.0, 2.0, 144.0, 8.0]\n",
      "[1.28, 72.0, 64.0, 9.44, 0.48, 48.0, 2.0, 144.0, 8.0, 1.28, 72.0, 64.0, 9.44, 0.48, 48.0, 2.0, 144.0, 8.0, 1.28, 72.0, 64.0, 9.44, 0.48, 48.0, 2.0, 144.0, 8.0]\n"
     ]
    }
   ],
   "source": [
    "subtotals = [15.98, 899.97, 799.97, 117.96, 5.99, 599.99, 24.99, 1799.94, 99.99]\n",
    "taxes = []\n",
    "totals = []\n",
    "\n",
    "\n",
    "for subtotal in subtotals:\n",
    "    taxes.append(round(subtotal * .08, 2))\n",
    "print(taxes)\n",
    "    \n",
    "for index, subtotal in enumerate(subtotals):\n",
    "    tax = round(subtotal * .08, 2)\n",
    "    taxes.append(tax)\n",
    "print(taxes)\n",
    "for i in range(len(subtotals)):\n",
    "    tax = round(subtotals[i] * .08, 2)\n",
    "    taxes.append(tax)\n",
    "print(taxes)\n"
   ]
  },
  {
   "cell_type": "code",
   "execution_count": null,
   "id": "b95bef54",
   "metadata": {},
   "outputs": [],
   "source": []
  }
 ],
 "metadata": {
  "kernelspec": {
   "display_name": "Python 3 (ipykernel)",
   "language": "python",
   "name": "python3"
  },
  "language_info": {
   "codemirror_mode": {
    "name": "ipython",
    "version": 3
   },
   "file_extension": ".py",
   "mimetype": "text/x-python",
   "name": "python",
   "nbconvert_exporter": "python",
   "pygments_lexer": "ipython3",
   "version": "3.11.3"
  }
 },
 "nbformat": 4,
 "nbformat_minor": 5
}
