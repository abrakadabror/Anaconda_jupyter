{
 "cells": [
  {
   "cell_type": "markdown",
   "id": "260aa780",
   "metadata": {},
   "source": [
    "#### Tax Calculator\n",
    "\n",
    "Write a function that takes a subtotal and a tax rate and returns the total invoice amount.\n",
    "\n",
    "* Tax is equal to subtotal multiplied by the tax rate.\n",
    "* The total is equal to subtotal plus tax."
   ]
  },
  {
   "cell_type": "code",
   "execution_count": 1,
   "id": "6ddc3a19",
   "metadata": {},
   "outputs": [],
   "source": [
    "def tax_calculator(subtotal, tax): #tworzymy funkcje o nazwie tax_calculator (podajemy nazwy argumentow)\n",
    "    total =  subtotal + (subtotal * tax) # tworzymy zmienna total, która jest rowna agrumentowi subtotal plus addition subtotal multipled by tax(rate)\n",
    "    return total \n",
    "    "
   ]
  },
  {
   "cell_type": "code",
   "execution_count": 3,
   "id": "bb359f4b",
   "metadata": {},
   "outputs": [
    {
     "data": {
      "text/plain": [
       "51.0"
      ]
     },
     "execution_count": 3,
     "metadata": {},
     "output_type": "execute_result"
    }
   ],
   "source": [
    "tax_calculator(50, .02) #wywolujemy funkcje i podajemy wartosc argumentu subtotal = 50 i tax = .02"
   ]
  },
  {
   "cell_type": "code",
   "execution_count": null,
   "id": "f90239be",
   "metadata": {},
   "outputs": [],
   "source": []
  }
 ],
 "metadata": {
  "kernelspec": {
   "display_name": "Python 3 (ipykernel)",
   "language": "python",
   "name": "python3"
  },
  "language_info": {
   "codemirror_mode": {
    "name": "ipython",
    "version": 3
   },
   "file_extension": ".py",
   "mimetype": "text/x-python",
   "name": "python",
   "nbconvert_exporter": "python",
   "pygments_lexer": "ipython3",
   "version": "3.11.3"
  }
 },
 "nbformat": 4,
 "nbformat_minor": 5
}
