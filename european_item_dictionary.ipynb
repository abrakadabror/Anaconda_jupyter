{
 "cells": [
  {
   "cell_type": "markdown",
   "id": "d360f120",
   "metadata": {},
   "source": [
    "### European Item Dictionary\n",
    "\n",
    "Hi there, we need to create a European price dictionary. \n",
    "\n",
    "The data is stored in the lists below. Run the cell below to create the lists you need."
   ]
  },
  {
   "cell_type": "code",
   "execution_count": 3,
   "id": "88f975ab",
   "metadata": {},
   "outputs": [],
   "source": [
    "# Data for dictionary \n",
    "\n",
    "item_ids = [\n",
    "    10001, 10002, 10003, 10004, 10005, \n",
    "    10006, 10007, 10008, 10009\n",
    "]\n",
    "\n",
    "item_names = [\n",
    "    \"Coffee\", \"Beanie\", \"Gloves\", \"Sweatshirt\", \"Helmet\",\n",
    "    \"Snow Pants\", \"Coat\", \"Ski Poles\", \"Ski Boots\"\n",
    "]\n",
    "\n",
    "euro_prices = [\n",
    "    5.27, 8.79, 17.59, 21.99, 87.99, \n",
    "    70.39, 105.59, 87.99, 175.99\n",
    "]\n",
    "\n",
    "item_category = [\n",
    "    \"beverage\", \"clothing\", \"clothing\", \"clothing\", \"safety\",\n",
    "    \"clothing\", \"clothing\", \"hardware\", \"hardware\",\n",
    "]\n",
    "\n",
    "sizes = [\n",
    "    [\"250mL\"],\n",
    "    [\"Child\", \"Adult\"],\n",
    "    [\"Child\", \"Adult\"],\n",
    "    [\"XS\", \"S\", \"M\", \"L\", \"XL\", \"XXL\"],\n",
    "    [\"Child\", \"Adult\"],\n",
    "    [\"XS\", \"S\", \"M\", \"L\", \"XL\", \"XXL\"],\n",
    "    [\"S\", \"M\", \"L\"],\n",
    "    [\"S\", \"M\", \"L\"],\n",
    "    [5, 6, 7, 8, 9, 10, 11],\n",
    "]"
   ]
  },
  {
   "cell_type": "markdown",
   "id": "ce801438",
   "metadata": {},
   "source": [
    "Create a dictionary with the `item_ids` as keys and the rest of the data the values. \n",
    "\n",
    "We want the values to be in the order of `item_names`,`euro_prices`, `item_category`, `sizes`."
   ]
  },
  {
   "cell_type": "code",
   "execution_count": 37,
   "id": "f6c11831",
   "metadata": {},
   "outputs": [
    {
     "name": "stdout",
     "output_type": "stream",
     "text": [
      "{10001: ('Coffee', 5.27, 'beverage', ['250mL']), 10002: ('Beanie', 8.79, 'clothing', ['Child', 'Adult']), 10003: ('Gloves', 17.59, 'clothing', ['Child', 'Adult']), 10004: ('Sweatshirt', 21.99, 'clothing', ['XS', 'S', 'M', 'L', 'XL', 'XXL']), 10005: ('Helmet', 87.99, 'safety', ['Child', 'Adult']), 10006: ('Snow Pants', 70.39, 'clothing', ['XS', 'S', 'M', 'L', 'XL', 'XXL']), 10007: ('Coat', 105.59, 'clothing', ['S', 'M', 'L']), 10008: ('Ski Poles', 87.99, 'hardware', ['S', 'M', 'L']), 10009: ('Ski Boots', 175.99, 'hardware', [5, 6, 7, 8, 9, 10, 11])}\n"
     ]
    }
   ],
   "source": [
    "euro_dict = dict(zip(item_ids, zip(item_names, euro_prices, item_category, sizes)))\n",
    "print(euro_dict)"
   ]
  },
  {
   "cell_type": "code",
   "execution_count": 54,
   "id": "32da09b5",
   "metadata": {},
   "outputs": [
    {
     "name": "stdout",
     "output_type": "stream",
     "text": [
      "10001 : Coffee 5.27 beverage ['250mL']\n",
      "10002 : Beanie 8.79 clothing ['Child', 'Adult']\n",
      "10003 : Gloves 17.59 clothing ['Child', 'Adult']\n",
      "10004 : Sweatshirt 21.99 clothing ['XS', 'S', 'M', 'L', 'XL', 'XXL']\n",
      "10005 : Helmet 87.99 safety ['Child', 'Adult']\n",
      "10006 : Snow Pants 70.39 clothing ['XS', 'S', 'M', 'L', 'XL', 'XXL']\n",
      "10007 : Coat 105.59 clothing ['S', 'M', 'L']\n",
      "10008 : Ski Poles 87.99 hardware ['S', 'M', 'L']\n",
      "10009 : Ski Boots 175.99 hardware [5, 6, 7, 8, 9, 10, 11]\n",
      "{10001: ('Coffee', 5.27, 'beverage', ['250mL']), 10002: ('Beanie', 8.79, 'clothing', ['Child', 'Adult']), 10003: ('Gloves', 17.59, 'clothing', ['Child', 'Adult']), 10004: ('Sweatshirt', 21.99, 'clothing', ['XS', 'S', 'M', 'L', 'XL', 'XXL']), 10005: ('Helmet', 87.99, 'safety', ['Child', 'Adult']), 10006: ('Snow Pants', 70.39, 'clothing', ['XS', 'S', 'M', 'L', 'XL', 'XXL']), 10007: ('Coat', 105.59, 'clothing', ['S', 'M', 'L']), 10008: ('Ski Poles', 87.99, 'hardware', ['S', 'M', 'L']), 10009: ('Ski Boots', 175.99, 'hardware', [5, 6, 7, 8, 9, 10, 11])}\n"
     ]
    }
   ],
   "source": [
    "product_dict = {}\n",
    "\n",
    "for item_id, item_name, euro_price, category, size in zip(item_ids, item_names, euro_prices, item_category, sizes):\n",
    "    print(item_id,':', item_name, euro_price, category, size)\n",
    "    product_dict[item_id] = item_name[0:]\n",
    "    product_dict[item_id] = item_name, euro_price, category, size\n",
    "print(product_dict)"
   ]
  },
  {
   "cell_type": "markdown",
   "id": "f46441af",
   "metadata": {},
   "source": [
    "# nested dictionaries"
   ]
  },
  {
   "cell_type": "code",
   "execution_count": 56,
   "id": "32ca8bfa",
   "metadata": {},
   "outputs": [
    {
     "name": "stdout",
     "output_type": "stream",
     "text": [
      "{2019: {'skis': [249.99, 10, 'in stock'], 'snowboard': [219.99, 0, 'sold out']}, 2020: {'skis': [259.99, 10, 'in stock'], 'snowboard': [229.99, 0, 'sold out']}, 2021: {'skis': [289.99, 10, 'in stock'], 'snowboard': [239.99, 0, 'sold out']}}\n"
     ]
    }
   ],
   "source": [
    "item_history = { \n",
    "2019: {'skis': [249.99, 10 , 'in stock'], 'snowboard': [219.99, 0, 'sold out']},\n",
    "2020: {'skis': [259.99, 10 , 'in stock'], 'snowboard': [229.99, 0, 'sold out']},\n",
    "2021: {'skis': [289.99, 10 , 'in stock'], 'snowboard': [239.99, 0, 'sold out']},}\n",
    "\n",
    "print(item_history)"
   ]
  },
  {
   "cell_type": "code",
   "execution_count": 57,
   "id": "e03da322",
   "metadata": {},
   "outputs": [
    {
     "name": "stdout",
     "output_type": "stream",
     "text": [
      "{'skis': [259.99, 10, 'in stock'], 'snowboard': [229.99, 0, 'sold out']}\n"
     ]
    }
   ],
   "source": [
    "print(item_history[2020])"
   ]
  },
  {
   "cell_type": "code",
   "execution_count": 62,
   "id": "959619e1",
   "metadata": {},
   "outputs": [
    {
     "name": "stdout",
     "output_type": "stream",
     "text": [
      "[259.99, 10, 'in stock']\n"
     ]
    }
   ],
   "source": [
    "print(item_history[2020]['skis'])"
   ]
  },
  {
   "cell_type": "code",
   "execution_count": null,
   "id": "c0eab49f",
   "metadata": {},
   "outputs": [],
   "source": []
  }
 ],
 "metadata": {
  "kernelspec": {
   "display_name": "Python 3 (ipykernel)",
   "language": "python",
   "name": "python3"
  },
  "language_info": {
   "codemirror_mode": {
    "name": "ipython",
    "version": 3
   },
   "file_extension": ".py",
   "mimetype": "text/x-python",
   "name": "python",
   "nbconvert_exporter": "python",
   "pygments_lexer": "ipython3",
   "version": "3.11.3"
  }
 },
 "nbformat": 4,
 "nbformat_minor": 5
}
