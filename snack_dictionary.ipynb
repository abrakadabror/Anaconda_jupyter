{
 "cells": [
  {
   "cell_type": "markdown",
   "id": "6d74af00",
   "metadata": {},
   "source": [
    " "
   ]
  },
  {
   "cell_type": "code",
   "execution_count": 1,
   "id": "5a5784f0",
   "metadata": {},
   "outputs": [],
   "source": [
    "snacks = {\n",
    "    'Sally': 'Popcorn',\n",
    "    'Ricard': 'Chocolate Ice Cream',\n",
    "    'Stuart': 'Apple Pie',\n",
    "    'Jerry': 'Raisins',\n",
    "    'Sierra': 'Peanut Butter Cookies'\n",
    "}"
   ]
  },
  {
   "cell_type": "markdown",
   "id": "4a543a30",
   "metadata": {},
   "source": [
    "Can you lookup Stuart's favorite snack?"
   ]
  },
  {
   "cell_type": "code",
   "execution_count": 3,
   "id": "36f6342a",
   "metadata": {},
   "outputs": [
    {
     "name": "stdout",
     "output_type": "stream",
     "text": [
      "Apple Pie\n"
     ]
    }
   ],
   "source": [
    "print(snacks['Stuart'])"
   ]
  },
  {
   "cell_type": "markdown",
   "id": "e984e2be",
   "metadata": {},
   "source": [
    "Cool, that's one of my favorites too!\n",
    "\n",
    "Can you make the following changes do the dictionary?\n",
    "\n",
    "* Add me - 'Alfie', and my favorite snack, 'Cheese and Crackers'.\n",
    "* Change Jerry's favorite snack to 'Fig Bars'\n",
    "* Finally, remove Sierra, she never worked here, not sure how she got on the list."
   ]
  },
  {
   "cell_type": "code",
   "execution_count": 4,
   "id": "cad0e213",
   "metadata": {},
   "outputs": [],
   "source": [
    "snacks['Alfie'] = 'Cheese and Crackers'"
   ]
  },
  {
   "cell_type": "code",
   "execution_count": 5,
   "id": "5dae2f25",
   "metadata": {},
   "outputs": [
    {
     "name": "stdout",
     "output_type": "stream",
     "text": [
      "{'Sally': 'Popcorn', 'Ricard': 'Chocolate Ice Cream', 'Stuart': 'Apple Pie', 'Jerry': 'Raisins', 'Sierra': 'Peanut Butter Cookies', 'Alfie': 'Cheese and Crackers'}\n"
     ]
    }
   ],
   "source": [
    "print(snacks)"
   ]
  },
  {
   "cell_type": "code",
   "execution_count": 6,
   "id": "e68d5cdc",
   "metadata": {},
   "outputs": [],
   "source": [
    "snacks['Jerry'] = 'Fig Bars'"
   ]
  },
  {
   "cell_type": "code",
   "execution_count": 7,
   "id": "06def31a",
   "metadata": {},
   "outputs": [
    {
     "name": "stdout",
     "output_type": "stream",
     "text": [
      "{'Sally': 'Popcorn', 'Ricard': 'Chocolate Ice Cream', 'Stuart': 'Apple Pie', 'Jerry': 'Fig Bars', 'Sierra': 'Peanut Butter Cookies', 'Alfie': 'Cheese and Crackers'}\n"
     ]
    }
   ],
   "source": [
    "print(snacks)\n"
   ]
  },
  {
   "cell_type": "code",
   "execution_count": 8,
   "id": "b84c8774",
   "metadata": {},
   "outputs": [],
   "source": [
    "del snacks['Sierra']"
   ]
  },
  {
   "cell_type": "code",
   "execution_count": 9,
   "id": "763b3d44",
   "metadata": {},
   "outputs": [
    {
     "name": "stdout",
     "output_type": "stream",
     "text": [
      "{'Sally': 'Popcorn', 'Ricard': 'Chocolate Ice Cream', 'Stuart': 'Apple Pie', 'Jerry': 'Fig Bars', 'Alfie': 'Cheese and Crackers'}\n"
     ]
    }
   ],
   "source": [
    "print(snacks)"
   ]
  },
  {
   "cell_type": "code",
   "execution_count": null,
   "id": "436cd69b",
   "metadata": {},
   "outputs": [],
   "source": []
  }
 ],
 "metadata": {
  "kernelspec": {
   "display_name": "Python 3 (ipykernel)",
   "language": "python",
   "name": "python3"
  },
  "language_info": {
   "codemirror_mode": {
    "name": "ipython",
    "version": 3
   },
   "file_extension": ".py",
   "mimetype": "text/x-python",
   "name": "python",
   "nbconvert_exporter": "python",
   "pygments_lexer": "ipython3",
   "version": "3.11.3"
  }
 },
 "nbformat": 4,
 "nbformat_minor": 5
}
