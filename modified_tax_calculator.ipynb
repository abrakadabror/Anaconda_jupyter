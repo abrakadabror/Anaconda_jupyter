{
 "cells": [
  {
   "cell_type": "markdown",
   "id": "489b9d5b",
   "metadata": {},
   "source": [
    "### Modified Tax Calculator\n",
    "\n",
    "Since the tax calculator we made was primarily for our Stowe employees, let's modify the tax calculator below to have a default tax rate of 6%. \n",
    "\n",
    "Also, we want the output of the function to return a list containing the subtotal, tax, and totals."
   ]
  },
  {
   "cell_type": "code",
   "execution_count": 5,
   "id": "4105f94b",
   "metadata": {},
   "outputs": [],
   "source": [
    "def tax_calculator(subtotal, tax, totals):\n",
    "    totals = subtotal * tax\n",
    "    return totals\n",
    "    "
   ]
  },
  {
   "cell_type": "code",
   "execution_count": 6,
   "id": "2784deb1",
   "metadata": {},
   "outputs": [
    {
     "data": {
      "text/plain": [
       "6.0"
      ]
     },
     "execution_count": 6,
     "metadata": {},
     "output_type": "execute_result"
    }
   ],
   "source": [
    "tax_calculator(100, .06)"
   ]
  },
  {
   "cell_type": "code",
   "execution_count": 11,
   "id": "4ad5087c",
   "metadata": {},
   "outputs": [
    {
     "data": {
      "text/plain": [
       "6.0"
      ]
     },
     "execution_count": 11,
     "metadata": {},
     "output_type": "execute_result"
    }
   ],
   "source": [
    "tax_calculator(100, .06)"
   ]
  },
  {
   "cell_type": "code",
   "execution_count": null,
   "id": "9ae34db1",
   "metadata": {},
   "outputs": [],
   "source": []
  }
 ],
 "metadata": {
  "kernelspec": {
   "display_name": "Python 3 (ipykernel)",
   "language": "python",
   "name": "python3"
  },
  "language_info": {
   "codemirror_mode": {
    "name": "ipython",
    "version": 3
   },
   "file_extension": ".py",
   "mimetype": "text/x-python",
   "name": "python",
   "nbconvert_exporter": "python",
   "pygments_lexer": "ipython3",
   "version": "3.11.3"
  }
 },
 "nbformat": 4,
 "nbformat_minor": 5
}
