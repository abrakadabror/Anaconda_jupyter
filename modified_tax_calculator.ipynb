{
 "cells": [
  {
   "cell_type": "markdown",
   "id": "489b9d5b",
   "metadata": {},
   "source": [
    "### Modified Tax Calculator\n",
    "\n",
    "Since the tax calculator we made was primarily for our Stowe employees, let's modify the tax calculator below to have a default tax rate of 6%. \n",
    "\n",
    "Also, we want the output of the function to return a list containing the subtotal, tax, and totals."
   ]
  },
  {
   "cell_type": "code",
   "execution_count": 32,
   "id": "4105f94b",
   "metadata": {},
   "outputs": [],
   "source": [
    "def tax_calculator(subtotal, sales_tax = .06):\n",
    "    tax = round(subtotal * sales_tax, 2)\n",
    "    totals = round(subtotal + tax, 2)\n",
    "    return [subtotal, tax, totals]\n",
    "    "
   ]
  },
  {
   "cell_type": "code",
   "execution_count": 31,
   "id": "2784deb1",
   "metadata": {},
   "outputs": [
    {
     "data": {
      "text/plain": [
       "[120, 7.2, 127.2]"
      ]
     },
     "execution_count": 31,
     "metadata": {},
     "output_type": "execute_result"
    }
   ],
   "source": [
    "tax_calculator(120)"
   ]
  },
  {
   "cell_type": "code",
   "execution_count": 40,
   "id": "d1e2f0dc",
   "metadata": {},
   "outputs": [],
   "source": [
    "def tax_calculator_01(total, vat_tax = .23):\n",
    "    vat_tax = round(total * vat_tax, 2)\n",
    "    total_01 = vat_tax + total\n",
    "    if total_01 == 123:\n",
    "        print('wygrales spory Vat')\n",
    "    return [total, vat_tax]"
   ]
  },
  {
   "cell_type": "code",
   "execution_count": 41,
   "id": "89939707",
   "metadata": {},
   "outputs": [
    {
     "name": "stdout",
     "output_type": "stream",
     "text": [
      "wygrales spory Vat\n"
     ]
    },
    {
     "data": {
      "text/plain": [
       "[100, 23.0]"
      ]
     },
     "execution_count": 41,
     "metadata": {},
     "output_type": "execute_result"
    }
   ],
   "source": [
    "tax_calculator_01(100)"
   ]
  },
  {
   "cell_type": "code",
   "execution_count": null,
   "id": "9179bf90",
   "metadata": {},
   "outputs": [],
   "source": []
  }
 ],
 "metadata": {
  "kernelspec": {
   "display_name": "Python 3 (ipykernel)",
   "language": "python",
   "name": "python3"
  },
  "language_info": {
   "codemirror_mode": {
    "name": "ipython",
    "version": 3
   },
   "file_extension": ".py",
   "mimetype": "text/x-python",
   "name": "python",
   "nbconvert_exporter": "python",
   "pygments_lexer": "ipython3",
   "version": "3.11.3"
  }
 },
 "nbformat": 4,
 "nbformat_minor": 5
}
