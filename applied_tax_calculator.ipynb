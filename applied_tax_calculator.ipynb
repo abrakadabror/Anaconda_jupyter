{
 "cells": [
  {
   "cell_type": "markdown",
   "id": "2bef0f2c",
   "metadata": {},
   "source": [
    "### Using the tax calculator!\n",
    "\n",
    "Now that we have a working tax calculator, we need to put it to work.\n",
    "\n",
    "First, import the tax calculator."
   ]
  },
  {
   "cell_type": "code",
   "execution_count": 14,
   "id": "5cdf1639",
   "metadata": {},
   "outputs": [],
   "source": [
    "from tax_calculator import tax_calculator"
   ]
  },
  {
   "cell_type": "markdown",
   "id": "91c81e4f",
   "metadata": {},
   "source": [
    "#### Processing Transactions\n",
    "\n",
    "Apply the tax calculator to the list of subtotals below.\n",
    "\n",
    "We want to store all of the results in a single list, so each list returned from the tax calculator should be a list stored in a list called `full_transactions`. Use the default tax rate for each transaction."
   ]
  },
  {
   "cell_type": "code",
   "execution_count": 15,
   "id": "0f62dbc2",
   "metadata": {},
   "outputs": [
    {
     "ename": "TypeError",
     "evalue": "can't multiply sequence by non-int of type 'float'",
     "output_type": "error",
     "traceback": [
      "\u001b[0;31m---------------------------------------------------------------------------\u001b[0m",
      "\u001b[0;31mTypeError\u001b[0m                                 Traceback (most recent call last)",
      "Cell \u001b[0;32mIn[15], line 4\u001b[0m\n\u001b[1;32m      2\u001b[0m full_transactions \u001b[38;5;241m=\u001b[39m []\n\u001b[1;32m      3\u001b[0m \u001b[38;5;28;01mfor\u001b[39;00m subtotal \u001b[38;5;129;01min\u001b[39;00m subtotals:\n\u001b[0;32m----> 4\u001b[0m     full_transactions\u001b[38;5;241m.\u001b[39mappend(subtotal \u001b[38;5;241m*\u001b[39m tax_calculator(subtotal))\n\u001b[1;32m      5\u001b[0m full_transactions\n",
      "\u001b[0;31mTypeError\u001b[0m: can't multiply sequence by non-int of type 'float'"
     ]
    }
   ],
   "source": [
    "subtotals = [15.98, 899.97, 799.97, 117.96, 5.99, 599.99]\n",
    "full_transactions = []\n",
    "for subtotal in subtotals:\n",
    "    full_transactions.append(subtotal * tax_calculator(subtotal))\n",
    "full_transactions"
   ]
  },
  {
   "cell_type": "markdown",
   "id": "0dc14f79",
   "metadata": {},
   "source": [
    "#### Transaction Dictionary\n",
    "\n",
    "Great! Now that you've done that, combine the transactions with the customer_ids below into a dictionary.\n",
    "\n",
    "We want the customer_ids as keys, and the transactions as values."
   ]
  },
  {
   "cell_type": "code",
   "execution_count": 5,
   "id": "ddd6f879",
   "metadata": {},
   "outputs": [
    {
     "data": {
      "text/plain": [
       "{'C00004': [15.98, 0.96, 16.94],\n",
       " 'C00007': [899.97, 54.0, 953.97],\n",
       " 'C00015': [799.97, 48.0, 847.97],\n",
       " 'C00016': [117.96, 7.08, 125.04],\n",
       " 'C00020': [5.99, 0.36, 6.35],\n",
       " 'C00010': [599.99, 36.0, 635.99]}"
      ]
     },
     "execution_count": 5,
     "metadata": {},
     "output_type": "execute_result"
    }
   ],
   "source": [
    "customer_ids = ['C00004', 'C00007', 'C00015', 'C00016', 'C00020', 'C00010']\n",
    "\n",
    "\n",
    "customer_dict"
   ]
  },
  {
   "cell_type": "code",
   "execution_count": null,
   "id": "5f8ca9b3",
   "metadata": {},
   "outputs": [],
   "source": []
  }
 ],
 "metadata": {
  "kernelspec": {
   "display_name": "Python 3 (ipykernel)",
   "language": "python",
   "name": "python3"
  },
  "language_info": {
   "codemirror_mode": {
    "name": "ipython",
    "version": 3
   },
   "file_extension": ".py",
   "mimetype": "text/x-python",
   "name": "python",
   "nbconvert_exporter": "python",
   "pygments_lexer": "ipython3",
   "version": "3.11.3"
  }
 },
 "nbformat": 4,
 "nbformat_minor": 5
}
