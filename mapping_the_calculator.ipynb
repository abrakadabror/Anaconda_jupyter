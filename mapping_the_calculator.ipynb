{
 "cells": [
  {
   "cell_type": "markdown",
   "id": "f2dfb940",
   "metadata": {},
   "source": [
    "### Mapping the tax calculator\n",
    "\n",
    "Now that we've successfully got our tax calculator working, can you apply it to the subtotals below?\n",
    "\n",
    "Should be quick! Thanks!\n",
    "\n",
    "P.S. Don't use a loop!"
   ]
  },
  {
   "cell_type": "code",
   "execution_count": 2,
   "id": "420bf3a9",
   "metadata": {},
   "outputs": [],
   "source": [
    "subtotals = [1799.94, 99.99, 254.95, 29.98, 99.99]"
   ]
  },
  {
   "cell_type": "code",
   "execution_count": 5,
   "id": "87aa0545",
   "metadata": {},
   "outputs": [],
   "source": [
    "from tax_calculator import tax_calculator\n",
    "\n"
   ]
  },
  {
   "cell_type": "code",
   "execution_count": 7,
   "id": "0a007f35",
   "metadata": {},
   "outputs": [
    {
     "data": {
      "text/plain": [
       "[(1799.94, 108.0, 1907.94),\n",
       " (99.99, 6.0, 105.99),\n",
       " (254.95, 15.3, 270.25),\n",
       " (29.98, 1.8, 31.78),\n",
       " (99.99, 6.0, 105.99)]"
      ]
     },
     "execution_count": 7,
     "metadata": {},
     "output_type": "execute_result"
    }
   ],
   "source": [
    "list(map(tax_calculator, subtotals))"
   ]
  },
  {
   "cell_type": "code",
   "execution_count": 12,
   "id": "e2b5a6f2",
   "metadata": {},
   "outputs": [
    {
     "name": "stdout",
     "output_type": "stream",
     "text": [
      "[1799.94, 99.99, 254.95, 29.98, 99.99]\n"
     ]
    }
   ],
   "source": [
    "empty_list = []\n",
    "for sub in subtotals:\n",
    "    empty_list.append(sub)\n",
    "print(empty_list)\n",
    "    "
   ]
  },
  {
   "cell_type": "code",
   "execution_count": null,
   "id": "d8ec669a",
   "metadata": {},
   "outputs": [],
   "source": []
  }
 ],
 "metadata": {
  "kernelspec": {
   "display_name": "Python 3 (ipykernel)",
   "language": "python",
   "name": "python3"
  },
  "language_info": {
   "codemirror_mode": {
    "name": "ipython",
    "version": 3
   },
   "file_extension": ".py",
   "mimetype": "text/x-python",
   "name": "python",
   "nbconvert_exporter": "python",
   "pygments_lexer": "ipython3",
   "version": "3.11.3"
  }
 },
 "nbformat": 4,
 "nbformat_minor": 5
}
