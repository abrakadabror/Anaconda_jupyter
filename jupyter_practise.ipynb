{
 "cells": [
  {
   "cell_type": "code",
   "execution_count": 7,
   "id": "b038a492",
   "metadata": {},
   "outputs": [
    {
     "name": "stdout",
     "output_type": "stream",
     "text": [
      "[5.27, 5.17, 9.87, 29.03]\n"
     ]
    }
   ],
   "source": [
    "exch_rate = 0.88\n",
    "usd_list = [5.99, 5.88, 11.22, 32.99]\n",
    "\n",
    "af_currency = []\n",
    "for list in usd_list:\n",
    "    af_currency.append(round(list * exch_rate,2))\n",
    "print(af_currency)"
   ]
  },
  {
   "cell_type": "code",
   "execution_count": 12,
   "id": "2647da52",
   "metadata": {},
   "outputs": [
    {
     "name": "stdout",
     "output_type": "stream",
     "text": [
      "5.88\n"
     ]
    }
   ],
   "source": [
    "usd_list = [5.99, 5.88, 11.22, 32.99]\n",
    "\n",
    "for usd in usd_list:\n",
    "    usd = usd_list[1] #@drukujemy drugi index w tym przypadku 5.88\n",
    "print(usd)"
   ]
  },
  {
   "cell_type": "code",
   "execution_count": 47,
   "id": "0f206c3a",
   "metadata": {},
   "outputs": [
    {
     "name": "stdout",
     "output_type": "stream",
     "text": [
      "M\n",
      "a\n",
      "v\n",
      "e\n",
      "n\n",
      "Good\n"
     ]
    }
   ],
   "source": [
    "iterable = 'Maven'\n",
    "for item in iterable:\n",
    "    print(item)\n",
    "if item == 'n':\n",
    "    print('Good')"
   ]
  },
  {
   "cell_type": "code",
   "execution_count": 51,
   "id": "7253079f",
   "metadata": {},
   "outputs": [
    {
     "name": "stdout",
     "output_type": "stream",
     "text": [
      "3\n"
     ]
    }
   ],
   "source": [
    "customer_ratings = [ '3 stars', '4 stars', '5 stars', '3 stars', '1 star', '5 stars', '4 stars']\n",
    "\n",
    "rating = int(customer_ratings[0][0])\n",
    "print(rating)"
   ]
  },
  {
   "cell_type": "code",
   "execution_count": 62,
   "id": "d2f9ec2a",
   "metadata": {},
   "outputs": [
    {
     "name": "stdout",
     "output_type": "stream",
     "text": [
      "3.5714285714285716\n",
      "[3, 4, 5, 3, 1, 5, 4]\n"
     ]
    }
   ],
   "source": [
    "empty_list = [] #tworzymy pusta liste aby zapisac dane do niej\n",
    "for rating in customer_ratings:\n",
    "    empty_list.append(int(rating[0])) #wybieramy pierwszy znak w wybranym elemencie listy\n",
    "    avg = (sum(empty_list)/ len(empty_list) )\n",
    "print(avg)\n",
    "print(empty_list)"
   ]
  },
  {
   "cell_type": "code",
   "execution_count": 65,
   "id": "c6d05dc1",
   "metadata": {},
   "outputs": [
    {
     "name": "stdout",
     "output_type": "stream",
     "text": [
      "[5.27, 5.17, 9.87, 29.03]\n"
     ]
    }
   ],
   "source": [
    "exchange_rate = 0.88\n",
    "usd_list = [5.99, 5.88, 11.22, 32.99]\n",
    "euro_list = []\n",
    "\n",
    "for i in range(len(usd_list)):\n",
    "    euro_list.append(round(usd_list[i] * exchange_rate, 2))\n",
    "print(euro_list)"
   ]
  },
  {
   "cell_type": "code",
   "execution_count": 28,
   "id": "eb05edd4",
   "metadata": {},
   "outputs": [
    {
     "name": "stdout",
     "output_type": "stream",
     "text": [
      " The snowboard costs 5.99 euros.\n",
      " The  boots costs 5.88 euros.\n",
      " The helmet costs 11.22 euros.\n",
      " The google costs 32.99 euros.\n"
     ]
    }
   ],
   "source": [
    "usd_list = [5.99, 5.88, 11.22, 32.99]\n",
    "item_list =  ['Snowboard', ' Boots', 'Helmet', 'Google', 'Bindings']\n",
    "\n",
    "for i in range(len(usd_list)):\n",
    "    print(f' The {item_list[i].lower()} costs {usd_list[i]} euros.')\n",
    "    "
   ]
  },
  {
   "cell_type": "code",
   "execution_count": 6,
   "id": "4eddee97",
   "metadata": {},
   "outputs": [
    {
     "name": "stdout",
     "output_type": "stream",
     "text": [
      " Some kind of word 2.99 and another word10\n",
      " Some kind of word 99.99 and another word15\n",
      " Some kind of word 219.99 and another word10\n",
      " Some kind of word 89.99 and another word15\n",
      " Some kind of word 29.99 and another word8\n",
      " Some kind of word 9.99 and another word27\n",
      " item 1: Inventory - 10, Price - $2.99\n",
      " item 2: Inventory - 15, Price - $99.99\n",
      " item 3: Inventory - 10, Price - $219.99\n",
      " item 4: Inventory - 15, Price - $89.99\n",
      " item 5: Inventory - 8, Price - $29.99\n",
      " item 6: Inventory - 27, Price - $9.99\n"
     ]
    }
   ],
   "source": [
    "inventory = [10, 15, 10, 15 , 8 , 27]\n",
    "prices = [2.99, 99.99, 219.99, 89.99, 29.99, 9.99]\n",
    "\n",
    "for i in range(len(inventory)):\n",
    "    print (f' Some kind of word {prices[i]} and another word {inventory[i]}')\n",
    "\n",
    "for index, item in enumerate(inventory):\n",
    "    price = prices[index]\n",
    "    print(f' item {index + 1}: Inventory - {item}, Price - ${price}')"
   ]
  },
  {
   "cell_type": "code",
   "execution_count": 7,
   "id": "cafc034b",
   "metadata": {},
   "outputs": [
    {
     "name": "stdout",
     "output_type": "stream",
     "text": [
      "0\n",
      "1\n",
      "2\n",
      "3\n",
      "4\n",
      "5\n"
     ]
    }
   ],
   "source": [
    "inventory = [10, 15, 10, 15 , 8 , 27]\n",
    "prices = [2.99, 99.99, 219.99, 89.99, 29.99, 9.99]\n",
    "\n",
    "for i in range(len(inventory)):\n",
    "    print(i)\n",
    "\n"
   ]
  },
  {
   "cell_type": "code",
   "execution_count": 11,
   "id": "dee41cd6",
   "metadata": {},
   "outputs": [
    {
     "name": "stdout",
     "output_type": "stream",
     "text": [
      "29.9\n",
      "1499.85\n",
      "2199.9\n",
      "1349.85\n",
      "239.92\n",
      "269.73\n"
     ]
    }
   ],
   "source": [
    "inventory = [10, 15, 10, 15 , 8 , 27]\n",
    "prices = [2.99, 99.99, 219.99, 89.99, 29.99, 9.99]\n",
    "\n",
    "for i in range(len(inventory)):\n",
    "    print(round(inventory[i] * prices[i], 2))"
   ]
  },
  {
   "cell_type": "code",
   "execution_count": 14,
   "id": "c88c771e",
   "metadata": {},
   "outputs": [
    {
     "name": "stdout",
     "output_type": "stream",
     "text": [
      "[29.9, 1499.85, 2199.9, 1349.85, 239.92, 269.73]\n"
     ]
    }
   ],
   "source": [
    "product_values = [] #pusta lista \n",
    "for i in range(len(inventory)): #iterujemy po indeksach liscie inventory, ktora z poleceniem len zwraca calkowita liczbe elementow listy\n",
    "    product_values.append(round(inventory[i] * prices[i], 2)) #dodajemy do pustej listy stworzonej wyzej\n",
    "print(product_values) #drukujemy wynik"
   ]
  },
  {
   "cell_type": "code",
   "execution_count": 15,
   "id": "013f22ba",
   "metadata": {},
   "outputs": [
    {
     "data": {
      "text/plain": [
       "5589.15"
      ]
     },
     "execution_count": 15,
     "metadata": {},
     "output_type": "execute_result"
    }
   ],
   "source": [
    "sum(product_values) #zliaczamy sume"
   ]
  },
  {
   "cell_type": "code",
   "execution_count": 17,
   "id": "1641c8c4",
   "metadata": {},
   "outputs": [
    {
     "name": "stdout",
     "output_type": "stream",
     "text": [
      "0 5.99\n",
      "1 5.88\n",
      "2 11.22\n",
      "3 32.99\n",
      "4 99.99\n"
     ]
    }
   ],
   "source": [
    "euro_list = [5.99, 5.88, 11.22, 32.99, 99.99]\n",
    "item_list =  ['Snowboard', ' Boots', 'Helmet', 'Google', 'Bindings']\n",
    "\n",
    "for index, element in enumerate(euro_list):\n",
    "    print(index, element)"
   ]
  },
  {
   "cell_type": "code",
   "execution_count": 19,
   "id": "b376db5e",
   "metadata": {},
   "outputs": [
    {
     "name": "stdout",
     "output_type": "stream",
     "text": [
      "[29.9, 1399.86, 2199.9, 1349.85, 239.92, 269.73]\n"
     ]
    },
    {
     "data": {
      "text/plain": [
       "5489.16"
      ]
     },
     "execution_count": 19,
     "metadata": {},
     "output_type": "execute_result"
    }
   ],
   "source": [
    "item_names = [ 'Keychain', 'Helmet', 'Snowboard', 'Ski Poles', 'Sweatshit', 'Boots']\n",
    "inventories = [10, 14, 10, 15, 8 , 27]\n",
    "prices = [2.99, 99.99, 219.99, 89.99, 29.99, 9.99]\n",
    "\n",
    "product_values = []\n",
    "\n",
    "for i in range(len(inventories)):\n",
    "    product_values.append(round(inventories[i] * prices[i], 2))\n",
    "print(product_values)\n",
    "\n",
    "sum(product_values)"
   ]
  },
  {
   "cell_type": "code",
   "execution_count": 23,
   "id": "d88ce9ab",
   "metadata": {},
   "outputs": [
    {
     "name": "stdout",
     "output_type": "stream",
     "text": [
      " We have $29.9 wort of Keychain\n",
      " We have $1399.86 wort of Helmet\n",
      " We have $2199.9 wort of Snowboard\n",
      " We have $1349.85 wort of Ski Poles\n",
      " We have $239.92 wort of Sweatshit\n",
      " We have $269.73 wort of Boots\n",
      "[29.9, 1399.86, 2199.9, 1349.85, 239.92, 269.73]\n"
     ]
    },
    {
     "data": {
      "text/plain": [
       "5489.16"
      ]
     },
     "execution_count": 23,
     "metadata": {},
     "output_type": "execute_result"
    }
   ],
   "source": [
    "#enumerate\n",
    "\n",
    "item_names = [ 'Keychain', 'Helmet', 'Snowboard', 'Ski Poles', 'Sweatshit', 'Boots']\n",
    "inventories = [10, 14, 10, 15, 8 , 27]\n",
    "prices = [2.99, 99.99, 219.99, 89.99, 29.99, 9.99]\n",
    "\n",
    "product_values = []\n",
    "\n",
    "for i, inventory in enumerate(inventories):\n",
    "    product_value = round(inventory * prices[i], 2)\n",
    "    product_values.append(product_value) #nie potrzebujemy indexu [i] gdyz jest on zawarty w funkcji enumerate\n",
    "    print(f' We have ${product_value} wort of {item_names[i]}')\n",
    "print(product_values)\n",
    "\n",
    "sum(product_values)"
   ]
  },
  {
   "cell_type": "code",
   "execution_count": 29,
   "id": "14b2ae60",
   "metadata": {
    "scrolled": true
   },
   "outputs": [
    {
     "name": "stdout",
     "output_type": "stream",
     "text": [
      "1\n",
      "2\n",
      "3\n",
      "4\n",
      "5\n",
      "6\n",
      "7\n",
      "8\n",
      "9\n",
      "10\n"
     ]
    }
   ],
   "source": [
    "counter = 0 \n",
    "while counter < 10:\n",
    "    counter += 1\n",
    "    print(counter)"
   ]
  },
  {
   "cell_type": "markdown",
   "id": "82ea6e0b",
   "metadata": {},
   "source": [
    "# Example number 1"
   ]
  },
  {
   "cell_type": "code",
   "execution_count": 33,
   "id": "5f55f176",
   "metadata": {
    "scrolled": true
   },
   "outputs": [
    {
     "name": "stdout",
     "output_type": "stream",
     "text": [
      " At the end of year 1: My balance is $ 840000.0\n",
      " At the end of year 2: My balance is $ 882000.0\n",
      " At the end of year 3: My balance is $ 926100.0\n",
      " At the end of year 4: My balance is $ 972405.0\n",
      " At the end of year 5: My balance is $ 1021025.25\n"
     ]
    }
   ],
   "source": [
    "#starting portfolio balance is 800000\n",
    "stock_portfolio = 800000\n",
    "year_counter = 0\n",
    "\n",
    "while stock_portfolio < 1000000: #calculate annual investment income\n",
    "    investment_income = stock_portfolio * .05  # 5% interest rate\n",
    "    stock_portfolio += investment_income # add income to end of year portfolio balance\n",
    "    year_counter += 1 #add one each year\n",
    "    print(f' At the end of year {year_counter}:' + f' My balance is $ {round(stock_portfolio, 2)}')"
   ]
  },
  {
   "cell_type": "markdown",
   "id": "4f1efd2a",
   "metadata": {},
   "source": [
    "# Example number 2"
   ]
  },
  {
   "cell_type": "code",
   "execution_count": 34,
   "id": "9df187b7",
   "metadata": {},
   "outputs": [
    {
     "name": "stdout",
     "output_type": "stream",
     "text": [
      " At the end of month 1:  My balance is $4000\n",
      " At the end of month 2:  My balance is $3000\n",
      " At the end of month 3:  My balance is $2000\n",
      " At the end of month 4:  My balance is $1000\n",
      " At the end of month 5:  My balance is $0\n"
     ]
    }
   ],
   "source": [
    "#calculating bank balance until we're out of money\n",
    "bank_balance = 5000\n",
    "month_counter = 0 \n",
    "while bank_balance > 0:\n",
    "    spending = 1000\n",
    "    bank_balance -= spending\n",
    "    month_counter += 1\n",
    "    print(f' At the end of month {month_counter}: ' + f' My balance is ${round(bank_balance, 2)}')"
   ]
  },
  {
   "cell_type": "markdown",
   "id": "4f20b236",
   "metadata": {},
   "source": [
    "# while_loop_demo\n"
   ]
  },
  {
   "cell_type": "code",
   "execution_count": 42,
   "id": "716b5484",
   "metadata": {},
   "outputs": [],
   "source": [
    "customer_ratings = [\n",
    "    '5 stars', '3 stars', '1 star', '4 stars', '7 stars', '4 stars', '5 stars','4 stars', '3 stars', '7 stars','5 stars', '1 star']\n"
   ]
  },
  {
   "cell_type": "code",
   "execution_count": 43,
   "id": "b7f3bfec",
   "metadata": {
    "scrolled": true
   },
   "outputs": [
    {
     "name": "stdout",
     "output_type": "stream",
     "text": [
      "1\n",
      "2\n",
      "['5 stars', '3 stars', '4 stars', '7 stars', '4 stars', '5 stars', '4 stars', '3 stars', '7 stars', '5 stars']\n"
     ]
    }
   ],
   "source": [
    "onestar_counter = 0 \n",
    "\n",
    "while '1 star' in customer_ratings:\n",
    "    customer_ratings.remove('1 star')\n",
    "    onestar_counter += 1\n",
    "    print(onestar_counter)\n",
    "print(customer_ratings)\n",
    "    "
   ]
  },
  {
   "cell_type": "markdown",
   "id": "010af49f",
   "metadata": {},
   "source": [
    "# Demo Nested Loops"
   ]
  },
  {
   "cell_type": "code",
   "execution_count": 44,
   "id": "c30b1be1",
   "metadata": {},
   "outputs": [],
   "source": [
    "items = ['skis', 'snowboards', 'googles', 'boots']\n",
    "\n",
    "item_reviews = [['5 stars', '3 stars', '1 star'],\n",
    "['5 stars', '2 stars'],\n",
    "['3 stars', '1 star'],\n",
    "['1 star']]\n",
    "\n"
   ]
  },
  {
   "cell_type": "code",
   "execution_count": 54,
   "id": "4bcefa55",
   "metadata": {},
   "outputs": [
    {
     "name": "stdout",
     "output_type": "stream",
     "text": [
      "[[5, 3, 1], [5, 2], [3, 1], [1]]\n"
     ]
    }
   ],
   "source": [
    "item_reviews_numeric = []\n",
    "for item in item_reviews:\n",
    "    integer_ratings = []\n",
    "    for review in item:\n",
    "        integer_rating = int(review[0])\n",
    "        integer_ratings.append(integer_rating)\n",
    "    item_reviews_numeric.append(integer_ratings)\n",
    "print(item_reviews_numeric)"
   ]
  },
  {
   "cell_type": "code",
   "execution_count": 55,
   "id": "0c6a41e3",
   "metadata": {
    "scrolled": true
   },
   "outputs": [
    {
     "name": "stdout",
     "output_type": "stream",
     "text": [
      "3.0\n",
      "3.5\n",
      "2.0\n",
      "1.0\n"
     ]
    }
   ],
   "source": [
    "for item in item_reviews_numeric:\n",
    "    print(sum(item)/len(item))\n",
    "    "
   ]
  },
  {
   "cell_type": "markdown",
   "id": "87ba4e6b",
   "metadata": {},
   "source": [
    "# Loop Control"
   ]
  },
  {
   "cell_type": "code",
   "execution_count": 56,
   "id": "0fc75b42",
   "metadata": {},
   "outputs": [
    {
     "name": "stdout",
     "output_type": "stream",
     "text": [
      "15.99\n",
      "915.98\n",
      "1715.96\n",
      "1833.94\n",
      "1839.92\n",
      "2439.91\n"
     ]
    }
   ],
   "source": [
    "#break\n",
    "subtotals = [ 15.99, 899.99, 799.98, 117.98, 5.98, 599.99, 1799.95, 99.99]\n",
    "revenue = 0\n",
    "\n",
    "for subtotal in subtotals:\n",
    "    revenue += subtotal\n",
    "    print(round(revenue, 2))\n",
    "    if revenue > 2000:\n",
    "        break"
   ]
  },
  {
   "cell_type": "code",
   "execution_count": 58,
   "id": "ecf7e55f",
   "metadata": {},
   "outputs": [
    {
     "name": "stdout",
     "output_type": "stream",
     "text": [
      " My balacne is $105 in year 1\n",
      " My balacne is $110 in year 2\n",
      " My balacne is $116 in year 3\n",
      " My balacne is $122 in year 4\n",
      " My balacne is $128 in year 5\n",
      " My balacne is $134 in year 6\n",
      " My balacne is $141 in year 7\n",
      " My balacne is $148 in year 8\n",
      " My balacne is $155 in year 9\n",
      " My balacne is $163 in year 10\n",
      " My balacne is $171 in year 11\n",
      " My balacne is $180 in year 12\n",
      " My balacne is $189 in year 13\n",
      " My balacne is $198 in year 14\n",
      " My balacne is $208 in year 15\n",
      " My balacne is $218 in year 16\n",
      " My balacne is $229 in year 17\n",
      " My balacne is $241 in year 18\n",
      " My balacne is $253 in year 19\n",
      " My balacne is $265 in year 20\n",
      " My balacne is $279 in year 21\n",
      " My balacne is $293 in year 22\n",
      " My balacne is $307 in year 23\n",
      " My balacne is $323 in year 24\n",
      " My balacne is $339 in year 25\n",
      " My balacne is $356 in year 26\n",
      " My balacne is $373 in year 27\n",
      " My balacne is $392 in year 28\n",
      " My balacne is $412 in year 29\n",
      " My balacne is $432 in year 30\n",
      " Guess i need to save more\n"
     ]
    }
   ],
   "source": [
    "#break statement\n",
    "\n",
    "stock_portfolio = 100\n",
    "year_counter = 0 \n",
    "\n",
    "while stock_portfolio < 1000000:\n",
    "    investment_income = stock_portfolio *.05\n",
    "    stock_portfolio += investment_income\n",
    "    year_counter += 1\n",
    "    print(f' My balacne is ${round(stock_portfolio)} in year {year_counter}')\n",
    "    if year_counter >= 30:\n",
    "        print(' Guess i need to save more')\n",
    "        break"
   ]
  },
  {
   "cell_type": "code",
   "execution_count": 64,
   "id": "971939a0",
   "metadata": {},
   "outputs": [
    {
     "name": "stdout",
     "output_type": "stream",
     "text": [
      "['Helmet', 'Snowboard', 'Ski-Poles', 'Sweatshit']\n"
     ]
    }
   ],
   "source": [
    "#continue statement\n",
    "\n",
    "item_list = ['ski-keychain', 'Helmet', 'Snowboard', 'Ski-Poles', 'Sweatshit', 'ski-Boots' ]\n",
    "snowboards = []\n",
    "for item in item_list:\n",
    "    if 'ski' in item:\n",
    "        continue\n",
    "    snowboards.append(item)\n",
    "print(snowboards)"
   ]
  },
  {
   "cell_type": "code",
   "execution_count": 65,
   "id": "65d11844",
   "metadata": {},
   "outputs": [],
   "source": [
    "#pass statement\n",
    "item_list = ['ski-keychain', 'Helmet', 'Snowboard', 'Ski-Poles', 'Sweatshit', 'ski-Boots' ]\n",
    "snowboards = []\n",
    "for item in item_list:\n",
    "    if 'ski' in item:\n",
    "        pass\n",
    "    snowboards.append(item)\n",
    "print(snowboards)"
   ]
  },
  {
   "cell_type": "markdown",
   "id": "32b4d517",
   "metadata": {},
   "source": [
    "# Try and except"
   ]
  },
  {
   "cell_type": "code",
   "execution_count": 70,
   "id": "23cde7b8",
   "metadata": {},
   "outputs": [
    {
     "name": "stdout",
     "output_type": "stream",
     "text": [
      " i can buy 8.0 of these.\n",
      " i can buy 8.0 of these.\n",
      "The price seems to be missing\n",
      "You can't divded by zero\n",
      " i can buy 4.0 of these.\n",
      "The price seems to be missing\n",
      " i can buy 0.0 of these.\n"
     ]
    }
   ],
   "source": [
    "price_list = [5.99, 5.88, None, 0, 11.22, '32.99', 99.99]\n",
    "for price in price_list:\n",
    "    try:\n",
    "        affordable_quantity = 50// price \n",
    "        print(f' i can buy {affordable_quantity} of these.')\n",
    "    except ZeroDivisionError:\n",
    "        print(\"You can't divded by zero\")\n",
    "    except:\n",
    "        print('The price seems to be missing')\n",
    "    "
   ]
  },
  {
   "cell_type": "markdown",
   "id": "59f8ca33",
   "metadata": {},
   "source": [
    "# loop_control_demo"
   ]
  },
  {
   "cell_type": "code",
   "execution_count": 76,
   "id": "3843b0e8",
   "metadata": {},
   "outputs": [
    {
     "name": "stdout",
     "output_type": "stream",
     "text": [
      "Ma\n"
     ]
    }
   ],
   "source": [
    "word = 'Maven'\n",
    "new_word=''\n",
    "\n",
    "for letter in word:\n",
    "    if letter in 'v':\n",
    "        break\n",
    "    new_word += letter\n",
    "print(new_word)"
   ]
  },
  {
   "cell_type": "code",
   "execution_count": 80,
   "id": "c22f17f3",
   "metadata": {
    "scrolled": true
   },
   "outputs": [
    {
     "name": "stdout",
     "output_type": "stream",
     "text": [
      "1\n",
      "5\n",
      "wrong value\n",
      "4\n"
     ]
    }
   ],
   "source": [
    "ratings = [ '1 star', '5 star',  'star 3', '4 star']\n",
    "for rating in ratings:\n",
    "    try:\n",
    "        print(int(rating[0]))\n",
    "    except ValueError:\n",
    "        print(\"wrong value\")"
   ]
  },
  {
   "cell_type": "markdown",
   "id": "fd78077b",
   "metadata": {},
   "source": [
    "# List Limitations"
   ]
  },
  {
   "cell_type": "code",
   "execution_count": 84,
   "id": "770a1aca",
   "metadata": {},
   "outputs": [
    {
     "name": "stdout",
     "output_type": "stream",
     "text": [
      "sold out\n"
     ]
    }
   ],
   "source": [
    "inventory_status = [['skis', 'in stock'], ['snowboard', 'sold out'],['googgles', 'sold out'],['boots', 'in stock']]\n",
    "item_looking_for = 'googgles'\n",
    "for item in inventory_status:\n",
    "    if item[0] == item_looking_for:\n",
    "        print(item[1])"
   ]
  },
  {
   "cell_type": "markdown",
   "id": "a6a42b5d",
   "metadata": {},
   "source": [
    "# Dictonary basic"
   ]
  },
  {
   "cell_type": "code",
   "execution_count": 86,
   "id": "51058923",
   "metadata": {},
   "outputs": [
    {
     "data": {
      "text/plain": [
       "'in stock'"
      ]
     },
     "execution_count": 86,
     "metadata": {},
     "output_type": "execute_result"
    }
   ],
   "source": [
    "inventory_status = {'skis': 'in stock',\n",
    "                   'snowboard': 'sold out',\n",
    "                   'goggles': 'sold out', 'boots': 'in stock'}\n",
    "inventory_status['skis']"
   ]
  },
  {
   "cell_type": "code",
   "execution_count": 90,
   "id": "dced6efe",
   "metadata": {},
   "outputs": [
    {
     "data": {
      "text/plain": [
       "[244.99, 10, 'in stock']"
      ]
     },
     "execution_count": 90,
     "metadata": {},
     "output_type": "execute_result"
    }
   ],
   "source": [
    "inventory_details = {'skis': [244.99, 10, 'in stock'],\n",
    "                   'snowboard': [432.12, 12, 'sold out'],\n",
    "                   'goggles': [542.45, 45, 'sold out'], 'boots': [678.98, 32, 'in stock']}\n",
    "inventory_details['skis']"
   ]
  },
  {
   "cell_type": "code",
   "execution_count": 93,
   "id": "e70fbcb1",
   "metadata": {},
   "outputs": [
    {
     "data": {
      "text/plain": [
       "10"
      ]
     },
     "execution_count": 93,
     "metadata": {},
     "output_type": "execute_result"
    }
   ],
   "source": [
    "inventory_details['skis'][1]"
   ]
  },
  {
   "cell_type": "markdown",
   "id": "fb43bcff",
   "metadata": {},
   "source": [
    "# Modyfying dictionaries"
   ]
  },
  {
   "cell_type": "code",
   "execution_count": 96,
   "id": "cb2e38b7",
   "metadata": {},
   "outputs": [],
   "source": [
    "item_details = {'skis': [244.99, 10, 'in stock'],\n",
    "                   'snowboard': [432.12, 12, 'sold out'],\n",
    "                   'goggles': [542.45, 45, 'sold out'], 'boots': [678.98, 32, 'in stock']}"
   ]
  },
  {
   "cell_type": "code",
   "execution_count": 97,
   "id": "797904b5",
   "metadata": {},
   "outputs": [
    {
     "name": "stdout",
     "output_type": "stream",
     "text": [
      "{'skis': [244.99, 10, 'in stock'], 'snowboard': [432.12, 12, 'sold out'], 'goggles': [542.45, 45, 'sold out'], 'boots': [678.98, 32, 'in stock'], 'bindings': [149.99, 4, 'in stock']}\n"
     ]
    }
   ],
   "source": [
    "item_details['bindings'] = [149.99, 4, 'in stock']\n",
    "print(item_details)"
   ]
  },
  {
   "cell_type": "code",
   "execution_count": 98,
   "id": "b447d8ea",
   "metadata": {},
   "outputs": [
    {
     "data": {
      "text/plain": [
       "{'skis': [244.99, 10, 'in stock'],\n",
       " 'snowboard': [432.12, 12, 'sold out'],\n",
       " 'goggles': [542.45, 45, 'sold out'],\n",
       " 'boots': [678.98, 32, 'in stock'],\n",
       " 'bindings': [139.99, 0, 'out of stock']}"
      ]
     },
     "execution_count": 98,
     "metadata": {},
     "output_type": "execute_result"
    }
   ],
   "source": [
    "item_details['bindings'] = [139.99, 0, 'out of stock']\n",
    "item_details"
   ]
  },
  {
   "cell_type": "code",
   "execution_count": 99,
   "id": "8a1bb77c",
   "metadata": {},
   "outputs": [
    {
     "name": "stdout",
     "output_type": "stream",
     "text": [
      "{'skis': [244.99, 10, 'in stock'], 'snowboard': [432.12, 12, 'sold out'], 'goggles': [542.45, 45, 'sold out'], 'bindings': [139.99, 0, 'out of stock']}\n"
     ]
    }
   ],
   "source": [
    "del item_details['boots']\n",
    "print(item_details)"
   ]
  },
  {
   "cell_type": "markdown",
   "id": "2f83fec1",
   "metadata": {},
   "source": [
    "# dictionary_operations_demo"
   ]
  },
  {
   "cell_type": "code",
   "execution_count": 110,
   "id": "d40801d8",
   "metadata": {},
   "outputs": [],
   "source": [
    "item_prices = {\n",
    "    'skis': 249.99,\n",
    "    'snowboard': 219.99,\n",
    "    'goggles': 99.99,\n",
    "    'boots': [79.99, 89.99]\n",
    "}"
   ]
  },
  {
   "cell_type": "code",
   "execution_count": 101,
   "id": "6cc2f178",
   "metadata": {},
   "outputs": [
    {
     "name": "stdout",
     "output_type": "stream",
     "text": [
      "{'skis': 249.99, 'snowboard': 219.99, 'goggles': 99.99, 'boots': [79.99, 89.99]}\n"
     ]
    }
   ],
   "source": [
    "print(item_prices)"
   ]
  },
  {
   "cell_type": "code",
   "execution_count": 102,
   "id": "43d59da2",
   "metadata": {},
   "outputs": [
    {
     "name": "stdout",
     "output_type": "stream",
     "text": [
      "249.99\n"
     ]
    }
   ],
   "source": [
    "print(item_prices['skis'])"
   ]
  },
  {
   "cell_type": "code",
   "execution_count": 106,
   "id": "fe24f871",
   "metadata": {},
   "outputs": [
    {
     "name": "stdout",
     "output_type": "stream",
     "text": [
      "89.99\n"
     ]
    }
   ],
   "source": [
    "print(item_prices['boots'][1])"
   ]
  },
  {
   "cell_type": "code",
   "execution_count": 105,
   "id": "9dedb700",
   "metadata": {},
   "outputs": [
    {
     "ename": "KeyError",
     "evalue": "'hat'",
     "output_type": "error",
     "traceback": [
      "\u001b[0;31m---------------------------------------------------------------------------\u001b[0m",
      "\u001b[0;31mKeyError\u001b[0m                                  Traceback (most recent call last)",
      "Cell \u001b[0;32mIn[105], line 1\u001b[0m\n\u001b[0;32m----> 1\u001b[0m \u001b[38;5;28mprint\u001b[39m(item_prices[\u001b[38;5;124m'\u001b[39m\u001b[38;5;124mhat\u001b[39m\u001b[38;5;124m'\u001b[39m])\n",
      "\u001b[0;31mKeyError\u001b[0m: 'hat'"
     ]
    }
   ],
   "source": [
    "print(item_prices['hat'])"
   ]
  },
  {
   "cell_type": "code",
   "execution_count": 109,
   "id": "04e59b51",
   "metadata": {},
   "outputs": [
    {
     "name": "stdout",
     "output_type": "stream",
     "text": [
      "219.99\n"
     ]
    }
   ],
   "source": [
    "print(item_prices[1])"
   ]
  },
  {
   "cell_type": "code",
   "execution_count": 111,
   "id": "ac9a85df",
   "metadata": {},
   "outputs": [
    {
     "data": {
      "text/plain": [
       "True"
      ]
     },
     "execution_count": 111,
     "metadata": {},
     "output_type": "execute_result"
    }
   ],
   "source": [
    "'skis' in item_prices"
   ]
  },
  {
   "cell_type": "code",
   "execution_count": 112,
   "id": "2f8099c0",
   "metadata": {},
   "outputs": [
    {
     "name": "stdout",
     "output_type": "stream",
     "text": [
      "skis\n",
      "snowboard\n",
      "goggles\n",
      "boots\n"
     ]
    }
   ],
   "source": [
    "for item in item_prices:\n",
    "    print(item)"
   ]
  },
  {
   "cell_type": "code",
   "execution_count": 113,
   "id": "5238e6b3",
   "metadata": {},
   "outputs": [
    {
     "name": "stdout",
     "output_type": "stream",
     "text": [
      "{'skis': 274.99, 'snowboard': 219.99, 'goggles': 99.99, 'boots': [79.99, 89.99]}\n"
     ]
    }
   ],
   "source": [
    "item_prices['skis'] = round(item_prices['skis'] * 1.1, 2)\n",
    "print(item_prices)"
   ]
  },
  {
   "cell_type": "code",
   "execution_count": 114,
   "id": "8e18e757",
   "metadata": {},
   "outputs": [],
   "source": [
    "item_prices['hat'] = 14.99"
   ]
  },
  {
   "cell_type": "code",
   "execution_count": 115,
   "id": "60654006",
   "metadata": {},
   "outputs": [
    {
     "name": "stdout",
     "output_type": "stream",
     "text": [
      "{'skis': 274.99, 'snowboard': 219.99, 'goggles': 99.99, 'boots': [79.99, 89.99], 'hat': 14.99}\n"
     ]
    }
   ],
   "source": [
    "print(item_prices)"
   ]
  },
  {
   "cell_type": "code",
   "execution_count": 116,
   "id": "33421c43",
   "metadata": {},
   "outputs": [],
   "source": [
    "new_items = ['coffee', 'helmet']\n",
    "new_prices = [5.99, 99.99]"
   ]
  },
  {
   "cell_type": "code",
   "execution_count": 117,
   "id": "65a6518a",
   "metadata": {},
   "outputs": [
    {
     "name": "stdout",
     "output_type": "stream",
     "text": [
      "{'skis': 274.99, 'snowboard': 219.99, 'goggles': 99.99, 'boots': [79.99, 89.99], 'hat': 14.99, 'coffee': 5.99, 'helmet': 99.99}\n"
     ]
    }
   ],
   "source": [
    "for i, item in enumerate(new_items):\n",
    "    item_prices[item] = new_prices[i]\n",
    "print(item_prices)"
   ]
  },
  {
   "cell_type": "code",
   "execution_count": 118,
   "id": "704c2023",
   "metadata": {},
   "outputs": [],
   "source": [
    "del item_prices['coffee']"
   ]
  },
  {
   "cell_type": "code",
   "execution_count": 119,
   "id": "d61b2acd",
   "metadata": {},
   "outputs": [
    {
     "name": "stdout",
     "output_type": "stream",
     "text": [
      "{'skis': 274.99, 'snowboard': 219.99, 'goggles': 99.99, 'boots': [79.99, 89.99], 'hat': 14.99, 'helmet': 99.99}\n"
     ]
    }
   ],
   "source": [
    "print(item_prices)"
   ]
  },
  {
   "cell_type": "code",
   "execution_count": 120,
   "id": "576f4c14",
   "metadata": {},
   "outputs": [],
   "source": [
    "del item_prices['boots'][1]"
   ]
  },
  {
   "cell_type": "code",
   "execution_count": 121,
   "id": "d528734b",
   "metadata": {},
   "outputs": [
    {
     "name": "stdout",
     "output_type": "stream",
     "text": [
      "{'skis': 274.99, 'snowboard': 219.99, 'goggles': 99.99, 'boots': [79.99], 'hat': 14.99, 'helmet': 99.99}\n"
     ]
    }
   ],
   "source": [
    "print(item_prices)"
   ]
  },
  {
   "cell_type": "code",
   "execution_count": 123,
   "id": "ca098c8d",
   "metadata": {},
   "outputs": [],
   "source": [
    "item_prices['boots'][0] = 79.99"
   ]
  },
  {
   "cell_type": "code",
   "execution_count": 124,
   "id": "6d2616eb",
   "metadata": {},
   "outputs": [
    {
     "name": "stdout",
     "output_type": "stream",
     "text": [
      "{'skis': 274.99, 'snowboard': 219.99, 'goggles': 99.99, 'boots': [79.99], 'hat': 14.99, 'helmet': 99.99}\n"
     ]
    }
   ],
   "source": [
    "print(item_prices)\n"
   ]
  },
  {
   "cell_type": "code",
   "execution_count": 126,
   "id": "226c769f",
   "metadata": {},
   "outputs": [],
   "source": [
    "item_prices['boots'][0] = 89.99"
   ]
  },
  {
   "cell_type": "code",
   "execution_count": 127,
   "id": "792ddcca",
   "metadata": {},
   "outputs": [
    {
     "name": "stdout",
     "output_type": "stream",
     "text": [
      "{'skis': 274.99, 'snowboard': 219.99, 'goggles': 99.99, 'boots': [89.99], 'hat': 14.99, 'helmet': 99.99}\n"
     ]
    }
   ],
   "source": [
    "print(item_prices)\n",
    "\n"
   ]
  },
  {
   "cell_type": "markdown",
   "id": "be54beff",
   "metadata": {},
   "source": [
    "# Keys & Values Methods"
   ]
  },
  {
   "cell_type": "code",
   "execution_count": 129,
   "id": "a630593f",
   "metadata": {},
   "outputs": [
    {
     "name": "stdout",
     "output_type": "stream",
     "text": [
      "dict_keys(['skis', 'snowboard', 'goggles', 'boots'])\n"
     ]
    }
   ],
   "source": [
    "#.keys()\n",
    "item_details = {'skis': [244.99, 10, 'in stock'],\n",
    "                   'snowboard': [432.12, 12, 'sold out'],\n",
    "                   'goggles': [542.45, 45, 'sold out'], 'boots': [678.98, 32, 'in stock']}\n",
    "print(item_details.keys())"
   ]
  },
  {
   "cell_type": "code",
   "execution_count": 130,
   "id": "e4fd6fc8",
   "metadata": {},
   "outputs": [
    {
     "name": "stdout",
     "output_type": "stream",
     "text": [
      "skis\n",
      "snowboard\n",
      "goggles\n",
      "boots\n"
     ]
    }
   ],
   "source": [
    "for item in item_details.keys():\n",
    "    print(item)"
   ]
  },
  {
   "cell_type": "code",
   "execution_count": 131,
   "id": "c9ebb15c",
   "metadata": {},
   "outputs": [
    {
     "name": "stdout",
     "output_type": "stream",
     "text": [
      "['skis', 'snowboard', 'goggles', 'boots']\n"
     ]
    }
   ],
   "source": [
    "key_list = list(item_details.keys())\n",
    "print(key_list)"
   ]
  },
  {
   "cell_type": "code",
   "execution_count": 133,
   "id": "9d68a920",
   "metadata": {},
   "outputs": [
    {
     "name": "stdout",
     "output_type": "stream",
     "text": [
      "dict_values([[244.99, 10, 'in stock'], [432.12, 12, 'sold out'], [542.45, 45, 'sold out'], [678.98, 32, 'in stock']])\n"
     ]
    }
   ],
   "source": [
    "#.values()\n",
    "item_details = {'skis': [244.99, 10, 'in stock'],\n",
    "                   'snowboard': [432.12, 12, 'sold out'],\n",
    "                   'goggles': [542.45, 45, 'sold out'], 'boots': [678.98, 32, 'in stock']}\n",
    "print(item_details.values())"
   ]
  },
  {
   "cell_type": "code",
   "execution_count": 137,
   "id": "c0f3c5c0",
   "metadata": {},
   "outputs": [
    {
     "name": "stdout",
     "output_type": "stream",
     "text": [
      "[244.99, 432.12, 542.45, 678.98]\n"
     ]
    }
   ],
   "source": [
    "price_list = []\n",
    "for attribute in item_details.values():\n",
    "    price_list.append(attribute[0])\n",
    "print(price_list)"
   ]
  },
  {
   "cell_type": "code",
   "execution_count": 140,
   "id": "9a3c2e48",
   "metadata": {},
   "outputs": [
    {
     "name": "stdout",
     "output_type": "stream",
     "text": [
      "dict_items([('skis', [244.99, 10]), ('snowboard', [432.12, 12]), ('goggles', [542.45, 45]), ('boots', [678.98, 32])])\n"
     ]
    }
   ],
   "source": [
    "#.items()\n",
    "item_details = {'skis': [244.99, 10,],\n",
    "                   'snowboard': [432.12, 12],\n",
    "                   'goggles': [542.45, 45], 'boots': [678.98, 32]}\n",
    "print(item_details.items())"
   ]
  },
  {
   "cell_type": "code",
   "execution_count": 141,
   "id": "3cb18492",
   "metadata": {},
   "outputs": [
    {
     "name": "stdout",
     "output_type": "stream",
     "text": [
      " The skis costs 244.99.\n",
      " The snowboard costs 432.12.\n",
      " The goggles costs 542.45.\n",
      " The boots costs 678.98.\n"
     ]
    }
   ],
   "source": [
    "for key, value in item_details.items():\n",
    "    print(f' The {key} costs {value[0]}.')"
   ]
  },
  {
   "cell_type": "code",
   "execution_count": 145,
   "id": "473d589e",
   "metadata": {},
   "outputs": [
    {
     "name": "stdout",
     "output_type": "stream",
     "text": [
      "[678.98, 32, 'in stock']\n"
     ]
    }
   ],
   "source": [
    "#.get()\n",
    "item_details = {'skis': [244.99, 10, 'in stock'],\n",
    "                   'snowboard': [432.12, 12, 'sold out'],\n",
    "                   'goggles': [542.45, 45, 'sold out'], 'boots': [678.98, 32, 'in stock']}\n",
    "print(item_details.get('boots'))"
   ]
  },
  {
   "cell_type": "code",
   "execution_count": 147,
   "id": "bfba92fd",
   "metadata": {},
   "outputs": [
    {
     "name": "stdout",
     "output_type": "stream",
     "text": [
      "Sorry we don't carry that item.\n"
     ]
    }
   ],
   "source": [
    "print(item_details.get('bindings', \"Sorry we don't carry that item.\"))"
   ]
  },
  {
   "cell_type": "code",
   "execution_count": 148,
   "id": "6c738821",
   "metadata": {},
   "outputs": [
    {
     "name": "stdout",
     "output_type": "stream",
     "text": [
      "{'skis': [244.99, 10, 'in stock'], 'snowboard': [432.12, 12, 'sold out'], 'goggles': [542.45, 45, 'sold out'], 'boots': [678.98, 32, 'in stock'], 'bindings': [234.23, 11, 'out of stock']}\n"
     ]
    }
   ],
   "source": [
    "#.update()\n",
    "item_details = {'skis': [244.99, 10, 'in stock'],\n",
    "                   'snowboard': [432.12, 12, 'sold out'],\n",
    "                   'goggles': [542.45, 45, 'sold out'], 'boots': [678.98, 32, 'in stock']}\n",
    "item_details.update({'bindings':[234.23, 11, 'out of stock']})\n",
    "print(item_details)"
   ]
  },
  {
   "cell_type": "code",
   "execution_count": 149,
   "id": "e00564f3",
   "metadata": {},
   "outputs": [
    {
     "name": "stdout",
     "output_type": "stream",
     "text": [
      "{'skis': [244.99, 10, 'in stock'], 'snowboard': [432.12, 12, 'sold out'], 'goggles': [542.45, 45, 'sold out'], 'boots': [678.98, 32, 'in stock'], 'bindings': [234.23, 11, 'out of stock'], 'scarf': [19.99, 100, 'in stock'], 'snowpants': 'N/A'}\n"
     ]
    }
   ],
   "source": [
    "new_items = {'scarf': [19.99, 100, 'in stock'], 'snowpants': 'N/A'}\n",
    "item_details.update(new_items)\n",
    "print(item_details)"
   ]
  },
  {
   "cell_type": "markdown",
   "id": "3d42f7b3",
   "metadata": {},
   "source": [
    "# dictionary_methods_demo"
   ]
  },
  {
   "cell_type": "code",
   "execution_count": 150,
   "id": "e2227a88",
   "metadata": {},
   "outputs": [],
   "source": [
    "customer_sales = {\n",
    "    'C00001': [224.22, 89.99],\n",
    "    'C00004': [34.77],\n",
    "    'C00014': [44.99, 89.99, 67.99],\n",
    "    'C00015': [34.99, 19.99, 47.99]\n",
    "    \n",
    "}"
   ]
  },
  {
   "cell_type": "code",
   "execution_count": 151,
   "id": "ef5cc319",
   "metadata": {},
   "outputs": [
    {
     "name": "stdout",
     "output_type": "stream",
     "text": [
      "{'C00001': [224.22, 89.99], 'C00004': [34.77], 'C00014': [44.99, 89.99, 67.99], 'C00015': [34.99, 19.99, 47.99]}\n"
     ]
    }
   ],
   "source": [
    "print(customer_sales)"
   ]
  },
  {
   "cell_type": "code",
   "execution_count": 152,
   "id": "5811245f",
   "metadata": {},
   "outputs": [
    {
     "name": "stdout",
     "output_type": "stream",
     "text": [
      "dict_keys(['C00001', 'C00004', 'C00014', 'C00015'])\n"
     ]
    }
   ],
   "source": [
    "print(customer_sales.keys())"
   ]
  },
  {
   "cell_type": "code",
   "execution_count": 154,
   "id": "be058446",
   "metadata": {},
   "outputs": [],
   "source": [
    "customer_ids = list(customer_sales.keys())"
   ]
  },
  {
   "cell_type": "code",
   "execution_count": 155,
   "id": "3a576d3f",
   "metadata": {},
   "outputs": [
    {
     "name": "stdout",
     "output_type": "stream",
     "text": [
      "['C00001', 'C00004', 'C00014', 'C00015']\n"
     ]
    }
   ],
   "source": [
    "print(customer_ids)"
   ]
  },
  {
   "cell_type": "code",
   "execution_count": 159,
   "id": "635c7938",
   "metadata": {},
   "outputs": [
    {
     "name": "stdout",
     "output_type": "stream",
     "text": [
      "[[224.22, 89.99], [34.77], [44.99, 89.99, 67.99], [34.99, 19.99, 47.99]]\n"
     ]
    }
   ],
   "source": [
    "print(list(customer_sales.values()))"
   ]
  },
  {
   "cell_type": "code",
   "execution_count": 176,
   "id": "528826da",
   "metadata": {},
   "outputs": [
    {
     "name": "stdout",
     "output_type": "stream",
     "text": [
      "[224.22, 89.99]\n",
      "[34.77]\n",
      "[44.99, 89.99, 67.99]\n",
      "[34.99, 19.99, 47.99]\n",
      "[105.44]\n",
      "[28.99]\n"
     ]
    }
   ],
   "source": [
    "for sales in customer_sales.values():\n",
    "    print(sales)"
   ]
  },
  {
   "cell_type": "code",
   "execution_count": 178,
   "id": "459dfac6",
   "metadata": {},
   "outputs": [
    {
     "name": "stdout",
     "output_type": "stream",
     "text": [
      "{'C00001': [224.22, 89.99], 'C00004': [34.77], 'C00014': [44.99, 89.99, 67.99], 'C00015': [34.99, 19.99, 47.99], 'C00005': [105.44], 'C00022': [28.99]}\n"
     ]
    }
   ],
   "source": [
    "total_sales = {}\n",
    "for customer_id, sales in customer_sales.items():\n",
    "    total_sales[customer_id] = (sales)\n",
    "print(total_sales)"
   ]
  },
  {
   "cell_type": "code",
   "execution_count": 174,
   "id": "9633a525",
   "metadata": {},
   "outputs": [
    {
     "name": "stdout",
     "output_type": "stream",
     "text": [
      "[224.22, 89.99]\n",
      "No longer VIP\n",
      "[44.99, 89.99, 67.99]\n"
     ]
    }
   ],
   "source": [
    "vip_customers = ['C00001', 'C00003', 'C00014' ]\n",
    "for customer in vip_customers:\n",
    "    print(customer_sales.get(customer, 'No longer VIP'))"
   ]
  },
  {
   "cell_type": "code",
   "execution_count": 175,
   "id": "ab58accc",
   "metadata": {},
   "outputs": [
    {
     "name": "stdout",
     "output_type": "stream",
     "text": [
      "{'C00001': [224.22, 89.99], 'C00004': [34.77], 'C00014': [44.99, 89.99, 67.99], 'C00015': [34.99, 19.99, 47.99], 'C00005': [105.44], 'C00022': [28.99]}\n"
     ]
    }
   ],
   "source": [
    "new_customers = {'C00005': [105.44], 'C00022': [28.99] }\n",
    "customer_sales.update(new_customers)\n",
    "\n",
    "print(customer_sales)"
   ]
  },
  {
   "cell_type": "markdown",
   "id": "06f5d3ab",
   "metadata": {},
   "source": [
    "# exercises repeat"
   ]
  },
  {
   "cell_type": "code",
   "execution_count": 201,
   "id": "6875dd25",
   "metadata": {},
   "outputs": [],
   "source": [
    "item_dict = {\n",
    "    10001: ('Coffee', 5.99, 'beverage', ['250mL']),\n",
    "    10002: ('Beanie', 9.99, 'clothing', ['Child', 'Adult']),\n",
    "    10003: ('Gloves', 19.99, 'clothing', ['Child', 'Adult']),\n",
    "    10004: ('Sweatshirt', 24.99, 'clothing', ['XS', 'S', 'M', 'L', 'XL', 'XXL']),\n",
    "    10005: ('Helmet', 99.99, 'safety', ['Child', 'Adult']),\n",
    "    10006: ('Snow Pants', 79.99, 'clothing', ['XS', 'S', 'M', 'L', 'XL', 'XXL']),\n",
    "    10007: ('Coat', 119.99, 'clothing', ['S', 'M', 'L']),\n",
    "    10008: ('Ski Poles', 99.99, 'hardware', ['S', 'M', 'L']),\n",
    "    10009: ('Ski Boots', 199.99, 'hardware', [5, 6, 7, 8, 9, 10, 11])\n",
    "}"
   ]
  },
  {
   "cell_type": "code",
   "execution_count": 182,
   "id": "f0eccd3b",
   "metadata": {},
   "outputs": [
    {
     "name": "stdout",
     "output_type": "stream",
     "text": [
      "{10001: 1, 10002: 2, 10003: 2, 10004: 6, 10005: 2, 10006: 6, 10007: 3, 10008: 3, 10009: 7}\n"
     ]
    }
   ],
   "source": [
    "size_counts = {}\n",
    "\n",
    "for key, value in item_dict.items():\n",
    "    size_counts[key] = len(value[3])\n",
    "print(size_counts)"
   ]
  },
  {
   "cell_type": "code",
   "execution_count": 191,
   "id": "bd20ef54",
   "metadata": {},
   "outputs": [
    {
     "name": "stdout",
     "output_type": "stream",
     "text": [
      "{10001: ('Coffee', 5.99, 'beverage', ['250mL']), 10002: ('Beanie', 9.99, 'clothing', ['Child', 'Adult']), 10003: ('Gloves', 19.99, 'clothing', ['Child', 'Adult']), 10004: ('Sweatshirt', 24.99, 'clothing', ['XS', 'S', 'M', 'L', 'XL', 'XXL']), 10005: ('Helmet', 99.99, 'safety', ['Child', 'Adult']), 10006: ('Snow Pants', 79.99, 'clothing', ['XS', 'S', 'M', 'L', 'XL', 'XXL']), 10007: ('Coat', 119.99, 'clothing', ['S', 'M', 'L']), 10008: ('Ski Poles', 99.99, 'hardware', ['S', 'M', 'L']), 10009: ('Ski Boots', 199.99, 'hardware', [5, 6, 7, 8, 9, 10, 11]), '10010': [333], '10013': [444], '10033': [898], '11111': 399, '11234': 8}\n"
     ]
    }
   ],
   "source": [
    "\n",
    "new_item_dict = {'11111': 399, '11234': 8, '10033': [898]}\n",
    "item_dict.update(new_item_dict)\n",
    "print(item_dict)\n",
    "\n"
   ]
  },
  {
   "cell_type": "code",
   "execution_count": 207,
   "id": "7790b394",
   "metadata": {},
   "outputs": [
    {
     "name": "stdout",
     "output_type": "stream",
     "text": [
      "[5.27, 8.79, 17.59, 21.99, 87.99, 70.39, 105.59, 87.99, 175.99]\n"
     ]
    }
   ],
   "source": [
    "exchange_rate = .88 #definujemy zmienna o podanej wartosci\n",
    "euro_prices = [] #definujemy pusta liste\n",
    "for value in item_dict.values(): #rozpoczynamy petle for, ktora iteruje przez wartosc slownika item_dict.\n",
    "    euro_prices.append(round(value[1] * exchange_rate, 2)) #w wewntarz petli dla kazdej wartosci z item_dict obliczamy cene w euro\n",
    "print(euro_prices) #wypisujemy liste zawierajaca zaktualizowane ceny o kurs wymiany euro\n",
    "    \n"
   ]
  },
  {
   "cell_type": "markdown",
   "id": "2b812c89",
   "metadata": {},
   "source": [
    "# Zip function"
   ]
  },
  {
   "cell_type": "code",
   "execution_count": 211,
   "id": "72d7fb2b",
   "metadata": {},
   "outputs": [
    {
     "data": {
      "text/plain": [
       "<zip at 0x109b1ffc0>"
      ]
     },
     "execution_count": 211,
     "metadata": {},
     "output_type": "execute_result"
    }
   ],
   "source": [
    "item_list = ['skis', 'snowboard', 'goggles', 'boots']\n",
    "price_list = [249.99, 219.99, 99.99, 79.99]\n",
    "inventory = [10, 0, 0, 7]\n",
    "zip(price_list, inventory)"
   ]
  },
  {
   "cell_type": "code",
   "execution_count": 212,
   "id": "07c80acd",
   "metadata": {},
   "outputs": [
    {
     "name": "stdout",
     "output_type": "stream",
     "text": [
      "[(249.99, 10), (219.99, 0), (99.99, 0), (79.99, 7)]\n"
     ]
    }
   ],
   "source": [
    "item_attributes = list(zip(price_list, inventory))\n",
    "\n",
    "print(item_attributes)"
   ]
  },
  {
   "cell_type": "code",
   "execution_count": 213,
   "id": "0c604c8e",
   "metadata": {},
   "outputs": [
    {
     "data": {
      "text/plain": [
       "[('skis', 249.99, 10),\n",
       " ('snowboard', 219.99, 0),\n",
       " ('goggles', 99.99, 0),\n",
       " ('boots', 79.99, 7)]"
      ]
     },
     "execution_count": 213,
     "metadata": {},
     "output_type": "execute_result"
    }
   ],
   "source": [
    "list(zip(item_list, price_list, inventory))"
   ]
  },
  {
   "cell_type": "code",
   "execution_count": 214,
   "id": "ca4d8f18",
   "metadata": {},
   "outputs": [
    {
     "name": "stdout",
     "output_type": "stream",
     "text": [
      "{'skis': [249.99, 10, 'in stock'], 'snowboard': [222.99, 0, 'sold out'], 'goggles': [99.99, 0, 'sold out'], 'boots': [79.99, 7, ' in stock']}\n"
     ]
    }
   ],
   "source": [
    "item_details = [[249.99, 10, 'in stock'],\n",
    "               [222.99, 0, 'sold out'],\n",
    "               [99.99, 0, 'sold out'],\n",
    "               [79.99, 7, ' in stock']]\n",
    "item_names = ['skis', 'snowboard', 'goggles', 'boots']\n",
    "item_dict = dict(zip(item_names, item_details))\n",
    "print(item_dict)\n"
   ]
  },
  {
   "cell_type": "code",
   "execution_count": 216,
   "id": "05c54941",
   "metadata": {},
   "outputs": [
    {
     "ename": "ValueError",
     "evalue": "dictionary update sequence element #0 has length 3; 2 is required",
     "output_type": "error",
     "traceback": [
      "\u001b[0;31m---------------------------------------------------------------------------\u001b[0m",
      "\u001b[0;31mValueError\u001b[0m                                Traceback (most recent call last)",
      "Cell \u001b[0;32mIn[216], line 1\u001b[0m\n\u001b[0;32m----> 1\u001b[0m \u001b[38;5;28mdict\u001b[39m(\u001b[38;5;28mzip\u001b[39m(item_list, price_list, inventory))\n",
      "\u001b[0;31mValueError\u001b[0m: dictionary update sequence element #0 has length 3; 2 is required"
     ]
    }
   ],
   "source": [
    "dict(zip(item_list, price_list, inventory)) #mozemy dodac jedynie dwa argumenty do zip function kiedy tworzymy dictionary"
   ]
  },
  {
   "cell_type": "code",
   "execution_count": 217,
   "id": "4879cd85",
   "metadata": {},
   "outputs": [
    {
     "name": "stdout",
     "output_type": "stream",
     "text": [
      "{'skis': (249.99, 10), 'snowboard': (219.99, 0), 'goggles': (99.99, 0), 'boots': (79.99, 7)}\n"
     ]
    }
   ],
   "source": [
    "item_dict = dict(zip(item_list, zip(price_list, inventory)))\n",
    "print(item_dict)"
   ]
  },
  {
   "cell_type": "markdown",
   "id": "3829f9f6",
   "metadata": {},
   "source": [
    "# nested dictionaries"
   ]
  },
  {
   "cell_type": "code",
   "execution_count": 219,
   "id": "1fcf830e",
   "metadata": {},
   "outputs": [
    {
     "name": "stdout",
     "output_type": "stream",
     "text": [
      "{2019: {'skis': [249.99, 10, 'in stock'], 'snowboard': [219.99, 0, 'sold out']}, 2020: {'skis': [259.99, 10, 'in stock'], 'snowboard': [229.99, 0, 'sold out']}, 2021: {'skis': [289.99, 10, 'in stock'], 'snowboard': [239.99, 0, 'sold out']}}\n"
     ]
    }
   ],
   "source": [
    "item_history = { \n",
    "2019: {'skis': [249.99, 10 , 'in stock'], 'snowboard': [219.99, 0, 'sold out']},\n",
    "2020: {'skis': [259.99, 10 , 'in stock'], 'snowboard': [229.99, 0, 'sold out']},\n",
    "2021: {'skis': [289.99, 10 , 'in stock'], 'snowboard': [239.99, 0, 'sold out']},}\n",
    "\n",
    "print(item_history)"
   ]
  },
  {
   "cell_type": "code",
   "execution_count": 220,
   "id": "07ace76e",
   "metadata": {},
   "outputs": [
    {
     "name": "stdout",
     "output_type": "stream",
     "text": [
      "{'skis': [259.99, 10, 'in stock'], 'snowboard': [229.99, 0, 'sold out']}\n"
     ]
    }
   ],
   "source": [
    "print(item_history[2020])"
   ]
  },
  {
   "cell_type": "code",
   "execution_count": 221,
   "id": "7a5bd12c",
   "metadata": {},
   "outputs": [
    {
     "name": "stdout",
     "output_type": "stream",
     "text": [
      "[259.99, 10, 'in stock']\n"
     ]
    }
   ],
   "source": [
    "print(item_history[2020]['skis'])\n"
   ]
  },
  {
   "cell_type": "markdown",
   "id": "b9093218",
   "metadata": {},
   "source": [
    "# nested dicttionaries_demo"
   ]
  },
  {
   "cell_type": "code",
   "execution_count": 223,
   "id": "2d8d957f",
   "metadata": {},
   "outputs": [],
   "source": [
    "economic_data = {\n",
    "    'India': {\n",
    "        'Delhi': {'population': 241, 'gdp': 220},\n",
    "        'Rajasthan': {'population': 200, 'gdp': 130},\n",
    "    },\n",
    "    'China': {\n",
    "        'India': {\n",
    "            'Peking': {'population': 126, 'gdp': 1960},\n",
    "            'Beijing': {'population': 42, 'gdp': 757},\n",
    "        },\n",
    "    }\n",
    "}\n"
   ]
  },
  {
   "cell_type": "code",
   "execution_count": 227,
   "id": "b7db689a",
   "metadata": {},
   "outputs": [
    {
     "name": "stdout",
     "output_type": "stream",
     "text": [
      "{'Delhi': {'population': 241, 'gdp': 220}, 'Rajasthan': {'population': 200, 'gdp': 130}}\n"
     ]
    }
   ],
   "source": [
    "print(economic_data['India'])\n"
   ]
  },
  {
   "cell_type": "code",
   "execution_count": 229,
   "id": "e8621e50",
   "metadata": {},
   "outputs": [
    {
     "name": "stdout",
     "output_type": "stream",
     "text": [
      "241\n"
     ]
    }
   ],
   "source": [
    "print(economic_data['India']['Delhi']['population'])"
   ]
  },
  {
   "cell_type": "code",
   "execution_count": 234,
   "id": "5a11a27b",
   "metadata": {},
   "outputs": [
    {
     "name": "stdout",
     "output_type": "stream",
     "text": [
      "[241, 200]\n"
     ]
    }
   ],
   "source": [
    "population = []\n",
    "for state in economic_data['India'].values():\n",
    "    population.append(state['population'])\n",
    "print(population)"
   ]
  },
  {
   "cell_type": "markdown",
   "id": "8ec18663",
   "metadata": {},
   "source": [
    "# SET"
   ]
  },
  {
   "cell_type": "code",
   "execution_count": 235,
   "id": "295718e0",
   "metadata": {},
   "outputs": [
    {
     "name": "stdout",
     "output_type": "stream",
     "text": [
      "{'skis', 'snowboard', 'sled'}\n"
     ]
    }
   ],
   "source": [
    "my_set = {'snowboard','snowboard', 'skis', 'snowboard', 'sled'}\n",
    "print(my_set)\n"
   ]
  },
  {
   "cell_type": "code",
   "execution_count": 236,
   "id": "1afa5fb7",
   "metadata": {},
   "outputs": [
    {
     "name": "stdout",
     "output_type": "stream",
     "text": [
      "{'skis', 'snowboard', 'sled'}\n"
     ]
    }
   ],
   "source": [
    "my_set = set(['snowboard','snowboard', 'skis', 'snowboard', 'sled'])\n",
    "print(my_set)\n"
   ]
  },
  {
   "cell_type": "code",
   "execution_count": 237,
   "id": "20837ed7",
   "metadata": {},
   "outputs": [
    {
     "name": "stdout",
     "output_type": "stream",
     "text": [
      "{'skis', 'snowboard', 'sled'}\n"
     ]
    }
   ],
   "source": [
    "print(my_set)"
   ]
  },
  {
   "cell_type": "code",
   "execution_count": 238,
   "id": "cf23c91d",
   "metadata": {},
   "outputs": [
    {
     "data": {
      "text/plain": [
       "True"
      ]
     },
     "execution_count": 238,
     "metadata": {},
     "output_type": "execute_result"
    }
   ],
   "source": [
    "'snowboard' in my_set"
   ]
  },
  {
   "cell_type": "code",
   "execution_count": 239,
   "id": "30bd92d4",
   "metadata": {},
   "outputs": [
    {
     "name": "stdout",
     "output_type": "stream",
     "text": [
      "skis\n",
      "snowboard\n",
      "sled\n"
     ]
    }
   ],
   "source": [
    "for value in my_set:\n",
    "    print(value)"
   ]
  },
  {
   "cell_type": "markdown",
   "id": "09e1b56e",
   "metadata": {},
   "source": [
    "# Sets_demo"
   ]
  },
  {
   "cell_type": "code",
   "execution_count": 245,
   "id": "ed17cbd0",
   "metadata": {},
   "outputs": [
    {
     "name": "stdout",
     "output_type": "stream",
     "text": [
      "[['snowboard', ' helmet', 'boots', 'hat', 'sweater', 'sweater', 'snowboard', ' skis', 'boots', 'hat', 'coffee', 'sweater', ' helmet', 'snowboard', 'boots', 'sweater', 'ski poles']]\n"
     ]
    }
   ],
   "source": [
    "transactions1 = ['snowboard', ' helmet', 'boots', 'hat', 'sweater', 'sweater']\n",
    "transactions2 = ['snowboard', ' skis', 'boots', 'hat', 'coffee', 'sweater']\n",
    "transactions3 = [' helmet', 'snowboard', 'boots',  'sweater', 'ski poles']\n",
    "a_new_list = [transactions1 + transactions2 + transactions3]\n",
    "print(a_new_list)\n"
   ]
  },
  {
   "cell_type": "code",
   "execution_count": 246,
   "id": "3e4e7930",
   "metadata": {},
   "outputs": [
    {
     "data": {
      "text/plain": [
       "{' helmet', 'boots', 'hat', 'snowboard', 'sweater'}"
      ]
     },
     "execution_count": 246,
     "metadata": {},
     "output_type": "execute_result"
    }
   ],
   "source": [
    "set(transactions1)"
   ]
  },
  {
   "cell_type": "code",
   "execution_count": 250,
   "id": "972bcb07",
   "metadata": {},
   "outputs": [
    {
     "name": "stdout",
     "output_type": "stream",
     "text": [
      "True\n"
     ]
    }
   ],
   "source": [
    "value = 'sweater' in transactions1\n",
    "print(value)"
   ]
  },
  {
   "cell_type": "code",
   "execution_count": 265,
   "id": "84b721b1",
   "metadata": {},
   "outputs": [
    {
     "data": {
      "text/plain": [
       "2"
      ]
     },
     "execution_count": 265,
     "metadata": {},
     "output_type": "execute_result"
    }
   ],
   "source": [
    "transactions1.count('sweater') #sprawdzamy ile danych wartosci jest w secie"
   ]
  },
  {
   "cell_type": "code",
   "execution_count": 266,
   "id": "398c7eda",
   "metadata": {},
   "outputs": [
    {
     "data": {
      "text/plain": [
       "5"
      ]
     },
     "execution_count": 266,
     "metadata": {},
     "output_type": "execute_result"
    }
   ],
   "source": [
    "len(set(transactions1))"
   ]
  },
  {
   "cell_type": "code",
   "execution_count": 267,
   "id": "487b0220",
   "metadata": {},
   "outputs": [
    {
     "data": {
      "text/plain": [
       "True"
      ]
     },
     "execution_count": 267,
     "metadata": {},
     "output_type": "execute_result"
    }
   ],
   "source": [
    "'boots' in set(transactions1)"
   ]
  },
  {
   "cell_type": "code",
   "execution_count": 270,
   "id": "90f59db2",
   "metadata": {},
   "outputs": [
    {
     "data": {
      "text/plain": [
       "8"
      ]
     },
     "execution_count": 270,
     "metadata": {},
     "output_type": "execute_result"
    }
   ],
   "source": [
    "len(set(transactions1 + transactions2 + transactions3))\n"
   ]
  },
  {
   "cell_type": "markdown",
   "id": "f366acf8",
   "metadata": {},
   "source": [
    "## Set operations"
   ]
  },
  {
   "cell_type": "code",
   "execution_count": 271,
   "id": "0ddd9cd2",
   "metadata": {},
   "outputs": [],
   "source": [
    "#Union"
   ]
  },
  {
   "cell_type": "code",
   "execution_count": 272,
   "id": "97683f3c",
   "metadata": {},
   "outputs": [
    {
     "data": {
      "text/plain": [
       "{' helmet', ' skis', 'boots', 'coffee', 'hat', 'snowboard', 'sweater'}"
      ]
     },
     "execution_count": 272,
     "metadata": {},
     "output_type": "execute_result"
    }
   ],
   "source": [
    "friday_items = {'snowboard', ' helmet', 'boots', 'hat', 'sweater', 'sweater'}\n",
    "saturday_items = {'snowboard', ' skis', 'boots', 'hat', 'coffee', 'sweater'}\n",
    "\n",
    "friday_items.union(saturday_items)"
   ]
  },
  {
   "cell_type": "code",
   "execution_count": 273,
   "id": "2e973fb0",
   "metadata": {},
   "outputs": [
    {
     "data": {
      "text/plain": [
       "{' helmet', ' skis', 'boots', 'coffee', 'hat', 'snowboard', 'sweater'}"
      ]
     },
     "execution_count": 273,
     "metadata": {},
     "output_type": "execute_result"
    }
   ],
   "source": [
    "sunday_items = {'coffee'}\n",
    "friday_items.union(saturday_items).union(sunday_items)"
   ]
  },
  {
   "cell_type": "code",
   "execution_count": 274,
   "id": "a882521e",
   "metadata": {},
   "outputs": [],
   "source": [
    "#intersection"
   ]
  },
  {
   "cell_type": "code",
   "execution_count": 275,
   "id": "ba247104",
   "metadata": {},
   "outputs": [
    {
     "data": {
      "text/plain": [
       "{'boots', 'hat', 'snowboard', 'sweater'}"
      ]
     },
     "execution_count": 275,
     "metadata": {},
     "output_type": "execute_result"
    }
   ],
   "source": [
    "friday_items = {'snowboard', ' helmet', 'boots', 'hat', 'sweater', 'sweater'}\n",
    "saturday_items = {'snowboard', ' skis', 'boots', 'hat', 'coffee', 'sweater'}\n",
    "friday_items.intersection(saturday_items)"
   ]
  },
  {
   "cell_type": "code",
   "execution_count": 277,
   "id": "e9e1acf4",
   "metadata": {},
   "outputs": [
    {
     "data": {
      "text/plain": [
       "set()"
      ]
     },
     "execution_count": 277,
     "metadata": {},
     "output_type": "execute_result"
    }
   ],
   "source": [
    "sunday_items = {'coffee'}\n",
    "friday_items.intersection(saturday_items).intersection(sunday_items)\n"
   ]
  },
  {
   "cell_type": "code",
   "execution_count": 278,
   "id": "6086e25f",
   "metadata": {},
   "outputs": [],
   "source": [
    "#difference"
   ]
  },
  {
   "cell_type": "code",
   "execution_count": 280,
   "id": "36e2fd61",
   "metadata": {},
   "outputs": [
    {
     "data": {
      "text/plain": [
       "{' helmet'}"
      ]
     },
     "execution_count": 280,
     "metadata": {},
     "output_type": "execute_result"
    }
   ],
   "source": [
    "friday_items = {'snowboard', ' helmet', 'boots', 'hat', 'sweater', 'sweater'}\n",
    "saturday_items = {'snowboard', ' skis', 'boots', 'hat', 'coffee', 'sweater'}\n",
    "friday_items.difference(saturday_items)"
   ]
  },
  {
   "cell_type": "code",
   "execution_count": 281,
   "id": "d3590426",
   "metadata": {},
   "outputs": [
    {
     "data": {
      "text/plain": [
       "{'goggles', 'helmet'}"
      ]
     },
     "execution_count": 281,
     "metadata": {},
     "output_type": "execute_result"
    }
   ],
   "source": [
    "saturday_items - friday_items\n",
    "{'goggles', 'helmet'}"
   ]
  },
  {
   "cell_type": "code",
   "execution_count": 282,
   "id": "a6c81933",
   "metadata": {},
   "outputs": [],
   "source": [
    "#symmetric_difference"
   ]
  },
  {
   "cell_type": "code",
   "execution_count": 284,
   "id": "5715f971",
   "metadata": {
    "scrolled": true
   },
   "outputs": [
    {
     "data": {
      "text/plain": [
       "{' helmet', ' skis', 'coffee'}"
      ]
     },
     "execution_count": 284,
     "metadata": {},
     "output_type": "execute_result"
    }
   ],
   "source": [
    "friday_items = {'snowboard', ' helmet', 'boots', 'hat', 'sweater', 'sweater'}\n",
    "saturday_items = {'snowboard', ' skis', 'boots', 'hat', 'coffee', 'sweater'}\n",
    "\n",
    "friday_items.symmetric_difference(saturday_items)"
   ]
  },
  {
   "cell_type": "code",
   "execution_count": 289,
   "id": "5add48b4",
   "metadata": {},
   "outputs": [],
   "source": [
    "time_list = list(range(1000000))\n",
    "time_set = set(range(1000000))\n",
    "\n"
   ]
  },
  {
   "cell_type": "code",
   "execution_count": 286,
   "id": "8657c373",
   "metadata": {},
   "outputs": [
    {
     "name": "stdout",
     "output_type": "stream",
     "text": [
      "CPU times: user 15 ms, sys: 779 µs, total: 15.7 ms\n",
      "Wall time: 16.1 ms\n"
     ]
    },
    {
     "data": {
      "text/plain": [
       "False"
      ]
     },
     "execution_count": 286,
     "metadata": {},
     "output_type": "execute_result"
    }
   ],
   "source": [
    "%%time\n",
    "1000000 in time_list\n"
   ]
  },
  {
   "cell_type": "code",
   "execution_count": 287,
   "id": "7eabdea4",
   "metadata": {},
   "outputs": [
    {
     "name": "stdout",
     "output_type": "stream",
     "text": [
      "CPU times: user 4 µs, sys: 1e+03 ns, total: 5 µs\n",
      "Wall time: 8.34 µs\n"
     ]
    },
    {
     "data": {
      "text/plain": [
       "False"
      ]
     },
     "execution_count": 287,
     "metadata": {},
     "output_type": "execute_result"
    }
   ],
   "source": [
    "%%time\n",
    "1000000 in time_set"
   ]
  },
  {
   "cell_type": "code",
   "execution_count": 304,
   "id": "42becd4f",
   "metadata": {},
   "outputs": [
    {
     "name": "stdout",
     "output_type": "stream",
     "text": [
      "['helmet']\n"
     ]
    }
   ],
   "source": [
    "shipment_today = ['snowboard', 'helmet', 'boots', 'hat', 'sweater', 'sweater']\n",
    "shipment_yesterday = ['snowboard', 'googles', 'boots', 'hat', 'sweater']\n",
    "\n",
    "unique_today = []\n",
    "for item_t in shipment_today:\n",
    "    if item_t  not in shipment_yesterday:\n",
    "        if item_t not in unique_today:\n",
    "            unique_today.append(item_t)\n",
    "print(unique_today)\n"
   ]
  },
  {
   "cell_type": "code",
   "execution_count": 295,
   "id": "65b4746a",
   "metadata": {},
   "outputs": [
    {
     "name": "stdout",
     "output_type": "stream",
     "text": [
      "CPU times: user 6 µs, sys: 1e+03 ns, total: 7 µs\n",
      "Wall time: 10 µs\n"
     ]
    },
    {
     "data": {
      "text/plain": [
       "['sweater', 'hat', 'snowboard', ' helmet', 'boots']"
      ]
     },
     "execution_count": 295,
     "metadata": {},
     "output_type": "execute_result"
    }
   ],
   "source": [
    "%%time\n",
    "list(set(shipment_today))"
   ]
  },
  {
   "cell_type": "code",
   "execution_count": 299,
   "id": "5ee8e40c",
   "metadata": {},
   "outputs": [
    {
     "name": "stdout",
     "output_type": "stream",
     "text": [
      "['snowboard', ' helmet', 'boots', 'hat', 'sweater']\n",
      "CPU times: user 249 µs, sys: 93 µs, total: 342 µs\n",
      "Wall time: 309 µs\n"
     ]
    }
   ],
   "source": [
    "%%time\n",
    "unique_items = []\n",
    "for item in shipment_today:\n",
    "    if item not in unique_items:\n",
    "        unique_items.append(item)\n",
    "print(unique_items)"
   ]
  },
  {
   "cell_type": "code",
   "execution_count": 305,
   "id": "759cc85c",
   "metadata": {},
   "outputs": [
    {
     "data": {
      "text/plain": [
       "{'helmet'}"
      ]
     },
     "execution_count": 305,
     "metadata": {},
     "output_type": "execute_result"
    }
   ],
   "source": [
    "set(shipment_today).difference(set(shipment_yesterday))"
   ]
  },
  {
   "cell_type": "markdown",
   "id": "78a4f08d",
   "metadata": {},
   "source": [
    "# sets_operation_demo"
   ]
  },
  {
   "cell_type": "code",
   "execution_count": 306,
   "id": "441d4bb9",
   "metadata": {},
   "outputs": [],
   "source": [
    "transaction1 = {'snowboard', ' helmet', 'boots', 'hat', 'sweater', 'sweater'}\n",
    "transaction2 = {'helmet', ' skis', 'boots', 'hat', 'coffee', 'sweater'}\n",
    "transaction3 = {'snowboard', ' skis', 'boots', 'hat', 'coffee', 'skis poles '}"
   ]
  },
  {
   "cell_type": "code",
   "execution_count": 307,
   "id": "edbe5975",
   "metadata": {},
   "outputs": [],
   "source": [
    "transaction1_set = set(transaction1)\n",
    "transaction2_set = set(transaction2)\n",
    "transaction3_set = set(transaction3)"
   ]
  },
  {
   "cell_type": "code",
   "execution_count": 310,
   "id": "cbf68db4",
   "metadata": {},
   "outputs": [
    {
     "name": "stdout",
     "output_type": "stream",
     "text": [
      "{' skis', 'hat', 'sweater', 'snowboard', ' helmet', 'coffee', 'boots', 'skis poles '}\n"
     ]
    }
   ],
   "source": [
    "non_sale_set = transaction1_set.union(transaction3_set)\n",
    "print(non_sale_set)"
   ]
  },
  {
   "cell_type": "code",
   "execution_count": 311,
   "id": "4c9cd98a",
   "metadata": {},
   "outputs": [
    {
     "data": {
      "text/plain": [
       "{' skis', 'boots', 'coffee', 'hat', 'sweater'}"
      ]
     },
     "execution_count": 311,
     "metadata": {},
     "output_type": "execute_result"
    }
   ],
   "source": [
    "transaction2_set.intersection(non_sale_set)"
   ]
  },
  {
   "cell_type": "code",
   "execution_count": 312,
   "id": "efeddfe7",
   "metadata": {},
   "outputs": [
    {
     "data": {
      "text/plain": [
       "{'helmet'}"
      ]
     },
     "execution_count": 312,
     "metadata": {},
     "output_type": "execute_result"
    }
   ],
   "source": [
    "transaction2_set.difference(non_sale_set)"
   ]
  },
  {
   "cell_type": "code",
   "execution_count": 313,
   "id": "3d8bd850",
   "metadata": {},
   "outputs": [
    {
     "data": {
      "text/plain": [
       "{'helmet'}"
      ]
     },
     "execution_count": 313,
     "metadata": {},
     "output_type": "execute_result"
    }
   ],
   "source": [
    "transaction2_set - non_sale_set"
   ]
  },
  {
   "cell_type": "code",
   "execution_count": 318,
   "id": "7d5faa3e",
   "metadata": {},
   "outputs": [
    {
     "data": {
      "text/plain": [
       "{' helmet', 'helmet', 'skis poles ', 'snowboard'}"
      ]
     },
     "execution_count": 318,
     "metadata": {},
     "output_type": "execute_result"
    }
   ],
   "source": [
    "non_sale_set.symmetric_difference(transaction2_set)"
   ]
  },
  {
   "cell_type": "markdown",
   "id": "e055d673",
   "metadata": {},
   "source": [
    "# ASSIGNMENT: Set Operations"
   ]
  },
  {
   "cell_type": "code",
   "execution_count": 317,
   "id": "a9499fa3",
   "metadata": {},
   "outputs": [
    {
     "name": "stdout",
     "output_type": "stream",
     "text": [
      "assignment_setoperations\n"
     ]
    }
   ],
   "source": [
    "vaule_01 = 'ASSIGNMENT: Set Operations'\n",
    "print(vaule_01.lower().replace(' ', '').replace(':','_'))"
   ]
  },
  {
   "cell_type": "markdown",
   "id": "f3ccea70",
   "metadata": {},
   "source": [
    "# # The anatomy of max"
   ]
  },
  {
   "cell_type": "code",
   "execution_count": 319,
   "id": "c3c88176",
   "metadata": {},
   "outputs": [
    {
     "data": {
      "text/plain": [
       "99.99"
      ]
     },
     "execution_count": 319,
     "metadata": {},
     "output_type": "execute_result"
    }
   ],
   "source": [
    "price_list = [5.99, 19.99, 24.99, 0, 74.99, 99.99]\n",
    "max(price_list)"
   ]
  },
  {
   "cell_type": "markdown",
   "id": "b8356ff3",
   "metadata": {},
   "source": [
    "## Defining a function"
   ]
  },
  {
   "cell_type": "code",
   "execution_count": 324,
   "id": "d9e02f39",
   "metadata": {},
   "outputs": [
    {
     "data": {
      "text/plain": [
       "'Hello world!'"
      ]
     },
     "execution_count": 324,
     "metadata": {},
     "output_type": "execute_result"
    }
   ],
   "source": [
    "def concatenator(string1, string2):\n",
    "    combined_string = string1 + ' ' + string2\n",
    "    return combined_string\n",
    "concatenator('Hello', 'world!')"
   ]
  },
  {
   "cell_type": "code",
   "execution_count": 325,
   "id": "e88aaf46",
   "metadata": {},
   "outputs": [],
   "source": [
    "def concatenator(string1, string2):\n",
    "    combined_string = string1 + ' ' + string2"
   ]
  },
  {
   "cell_type": "markdown",
   "id": "76bb5948",
   "metadata": {},
   "source": [
    " ## The docstring"
   ]
  },
  {
   "cell_type": "code",
   "execution_count": 327,
   "id": "bb7e0557",
   "metadata": {},
   "outputs": [],
   "source": [
    "def concatenator(string1, string2):\n",
    "    \"\"\" combines two strings, separated with a space \n",
    "    \n",
    "    Args:\n",
    "        string1 (srt): string to put before space\n",
    "        string2 (str): string to put after space\n",
    "    Returns:\n",
    "        str: string1 and string2 separated by a space\n",
    "    \"\"\"\n",
    "    return string1 + \" \" + string2"
   ]
  },
  {
   "cell_type": "markdown",
   "id": "8ca25d78",
   "metadata": {},
   "source": [
    "## Demo definig a function"
   ]
  },
  {
   "cell_type": "code",
   "execution_count": 329,
   "id": "a52a86aa",
   "metadata": {},
   "outputs": [],
   "source": [
    "item_ratings = [[ '5 star', '1 star', '3 stars'],\n",
    "    ['5 stars', '4 stars'],\n",
    "    ['4 stars', '2 stars'],\n",
    "    ['1 star']]"
   ]
  },
  {
   "cell_type": "code",
   "execution_count": 332,
   "id": "c366b023",
   "metadata": {},
   "outputs": [
    {
     "name": "stdout",
     "output_type": "stream",
     "text": [
      "5\n"
     ]
    }
   ],
   "source": [
    "def rating_cleaner(rating):\n",
    "    numeric_rating = int(rating[0])\n",
    "    return numeric_rating\n",
    "\n",
    "print(rating_cleaner('5 stars'))"
   ]
  },
  {
   "cell_type": "code",
   "execution_count": 337,
   "id": "12cd1692",
   "metadata": {},
   "outputs": [
    {
     "name": "stdout",
     "output_type": "stream",
     "text": [
      "5\n",
      "1\n",
      "3\n",
      "5\n",
      "4\n",
      "4\n",
      "2\n",
      "1\n"
     ]
    }
   ],
   "source": [
    "for item in item_ratings:\n",
    "    for rating in item:\n",
    "        print(rating_cleaner(rating))"
   ]
  },
  {
   "cell_type": "code",
   "execution_count": 338,
   "id": "1042729d",
   "metadata": {},
   "outputs": [],
   "source": [
    "rating_cleaner?"
   ]
  },
  {
   "cell_type": "markdown",
   "id": "c997cb14",
   "metadata": {},
   "source": [
    "# Arguments Types"
   ]
  },
  {
   "cell_type": "code",
   "execution_count": 340,
   "id": "f3d56bde",
   "metadata": {},
   "outputs": [],
   "source": [
    "#Positional"
   ]
  },
  {
   "cell_type": "code",
   "execution_count": 341,
   "id": "4ca10b55",
   "metadata": {},
   "outputs": [
    {
     "data": {
      "text/plain": [
       "'Hello  World'"
      ]
     },
     "execution_count": 341,
     "metadata": {},
     "output_type": "execute_result"
    }
   ],
   "source": [
    "def concatenator(string1, string2):\n",
    "    return string1 + ' ' + string2\n",
    "concatenator('Hello', ' World')"
   ]
  },
  {
   "cell_type": "code",
   "execution_count": 342,
   "id": "c129b397",
   "metadata": {},
   "outputs": [],
   "source": [
    "#Keyword"
   ]
  },
  {
   "cell_type": "code",
   "execution_count": 348,
   "id": "4a8eb1a8",
   "metadata": {},
   "outputs": [],
   "source": [
    "def concatenator(string1, string2):\n",
    "    return string1 + ' ' + string2\n"
   ]
  },
  {
   "cell_type": "code",
   "execution_count": 349,
   "id": "28fb05da",
   "metadata": {},
   "outputs": [
    {
     "data": {
      "text/plain": [
       "'Hello World!'"
      ]
     },
     "execution_count": 349,
     "metadata": {},
     "output_type": "execute_result"
    }
   ],
   "source": [
    "concatenator(string2 = 'World!', string1 = 'Hello')"
   ]
  },
  {
   "cell_type": "code",
   "execution_count": 350,
   "id": "ff2e3a67",
   "metadata": {},
   "outputs": [
    {
     "data": {
      "text/plain": [
       "'Hello World!'"
      ]
     },
     "execution_count": 350,
     "metadata": {},
     "output_type": "execute_result"
    }
   ],
   "source": [
    "concatenator('Hello', 'World!')"
   ]
  },
  {
   "cell_type": "code",
   "execution_count": 351,
   "id": "baae2e1a",
   "metadata": {},
   "outputs": [],
   "source": [
    "#Default"
   ]
  },
  {
   "cell_type": "code",
   "execution_count": 354,
   "id": "6f204840",
   "metadata": {},
   "outputs": [],
   "source": [
    "def concatenator(string1, string2='World'):\n",
    "    return string1 + ' ' + string2"
   ]
  },
  {
   "cell_type": "code",
   "execution_count": 357,
   "id": "b2510afa",
   "metadata": {},
   "outputs": [
    {
     "name": "stdout",
     "output_type": "stream",
     "text": [
      "Hola World\n"
     ]
    }
   ],
   "source": [
    "print(concatenator('Hola'))"
   ]
  },
  {
   "cell_type": "code",
   "execution_count": 358,
   "id": "43d0bfd2",
   "metadata": {},
   "outputs": [
    {
     "name": "stdout",
     "output_type": "stream",
     "text": [
      "Hola Mundo!\n"
     ]
    }
   ],
   "source": [
    " print(concatenator('Hola', 'Mundo!'))"
   ]
  },
  {
   "cell_type": "code",
   "execution_count": 359,
   "id": "94cd1b6b",
   "metadata": {},
   "outputs": [],
   "source": [
    "#*args"
   ]
  },
  {
   "cell_type": "code",
   "execution_count": 361,
   "id": "781ebc9c",
   "metadata": {},
   "outputs": [
    {
     "data": {
      "text/plain": [
       "'Hello world! How are  you?'"
      ]
     },
     "execution_count": 361,
     "metadata": {},
     "output_type": "execute_result"
    }
   ],
   "source": [
    "def concatenator(*args):\n",
    "    new_string = ''\n",
    "    for arg in args:\n",
    "        new_string += (arg + ' ')\n",
    "    return new_string.rstrip()\n",
    "concatenator('Hello', 'world!', 'How', 'are', ' you?')"
   ]
  },
  {
   "cell_type": "code",
   "execution_count": 362,
   "id": "2b369735",
   "metadata": {},
   "outputs": [],
   "source": [
    "#**kwargs"
   ]
  },
  {
   "cell_type": "code",
   "execution_count": 363,
   "id": "28e51574",
   "metadata": {},
   "outputs": [],
   "source": [
    "def concatenator(**words):\n",
    "    new_string = ''\n",
    "    for word in words.values():\n",
    "        new_string += (word + ' ')\n",
    "    return new_string.rstrip()\n"
   ]
  },
  {
   "cell_type": "code",
   "execution_count": 364,
   "id": "46b0a04b",
   "metadata": {},
   "outputs": [
    {
     "data": {
      "text/plain": [
       "'Hello world! Whats up?'"
      ]
     },
     "execution_count": 364,
     "metadata": {},
     "output_type": "execute_result"
    }
   ],
   "source": [
    "concatenator(a = 'Hello', b = 'world!', c = 'Whats', d = 'up?')"
   ]
  },
  {
   "cell_type": "code",
   "execution_count": 367,
   "id": "1ed8da2a",
   "metadata": {},
   "outputs": [],
   "source": [
    "def exponetiator(constant, base, exponent):\n",
    "    return constant * (base ** exponent)"
   ]
  },
  {
   "cell_type": "code",
   "execution_count": 368,
   "id": "91002f96",
   "metadata": {},
   "outputs": [
    {
     "data": {
      "text/plain": [
       "18"
      ]
     },
     "execution_count": 368,
     "metadata": {},
     "output_type": "execute_result"
    }
   ],
   "source": [
    "param_dict = {'constant': 2, 'base': 3, 'exponent': 2}\n",
    "exponetiator(**param_dict)"
   ]
  },
  {
   "cell_type": "markdown",
   "id": "77272f66",
   "metadata": {},
   "source": [
    "# Demo Argument functions"
   ]
  },
  {
   "cell_type": "code",
   "execution_count": 384,
   "id": "01fbe843",
   "metadata": {},
   "outputs": [],
   "source": [
    "website_ratings = ['5 stars', '1 star', '3 stars']\n",
    "forum_ratings = ['stars: 5', 'stars: 4', 'stars: 2']"
   ]
  },
  {
   "cell_type": "code",
   "execution_count": 414,
   "id": "9d3545c2",
   "metadata": {},
   "outputs": [],
   "source": [
    "def rating_cleaner(*ratings, index = 0):\n",
    "    for rating in ratings:\n",
    "        numeric_rating = int(rating[index])\n",
    "        print(numeric_rating)"
   ]
  },
  {
   "cell_type": "code",
   "execution_count": 392,
   "id": "405b7677",
   "metadata": {},
   "outputs": [
    {
     "name": "stdout",
     "output_type": "stream",
     "text": [
      "2\n"
     ]
    }
   ],
   "source": [
    "print(rating_cleaner('stars: 2', -1))"
   ]
  },
  {
   "cell_type": "code",
   "execution_count": 393,
   "id": "b5e15496",
   "metadata": {},
   "outputs": [
    {
     "name": "stdout",
     "output_type": "stream",
     "text": [
      "4\n"
     ]
    }
   ],
   "source": [
    "print(rating_cleaner(rating = 'stars: 4', index = -1))"
   ]
  },
  {
   "cell_type": "code",
   "execution_count": 399,
   "id": "035ea7f7",
   "metadata": {},
   "outputs": [
    {
     "name": "stdout",
     "output_type": "stream",
     "text": [
      "4\n"
     ]
    }
   ],
   "source": [
    "print(rating_cleaner(index =-1, rating ='stars: 4'))"
   ]
  },
  {
   "cell_type": "code",
   "execution_count": 416,
   "id": "62fa4999",
   "metadata": {},
   "outputs": [
    {
     "name": "stdout",
     "output_type": "stream",
     "text": [
      "5\n",
      "None\n"
     ]
    }
   ],
   "source": [
    "print(rating_cleaner('stars: 5', index =- 1))"
   ]
  },
  {
   "cell_type": "code",
   "execution_count": 415,
   "id": "c237d2d9",
   "metadata": {},
   "outputs": [
    {
     "name": "stdout",
     "output_type": "stream",
     "text": [
      "5\n",
      "4\n",
      "2\n",
      "None\n"
     ]
    }
   ],
   "source": [
    "print(rating_cleaner(*forum_ratings, index=- 1))"
   ]
  },
  {
   "cell_type": "code",
   "execution_count": 417,
   "id": "5c7e2f84",
   "metadata": {},
   "outputs": [
    {
     "name": "stdout",
     "output_type": "stream",
     "text": [
      "5 stars 1 star 3 stars\n"
     ]
    }
   ],
   "source": [
    "print(*website_ratings)"
   ]
  },
  {
   "cell_type": "markdown",
   "id": "a25cf16a",
   "metadata": {},
   "source": [
    "# Return Values"
   ]
  },
  {
   "cell_type": "code",
   "execution_count": 420,
   "id": "ff371b0f",
   "metadata": {},
   "outputs": [],
   "source": [
    "def concatenator(*words):\n",
    "    sentence = ''\n",
    "    for word in words:\n",
    "        sentence += word + ' '\n",
    "    last_word = words[-1]\n",
    "    return sentence.rstrip(), last_word"
   ]
  },
  {
   "cell_type": "code",
   "execution_count": 422,
   "id": "e36d5127",
   "metadata": {},
   "outputs": [
    {
     "name": "stdout",
     "output_type": "stream",
     "text": [
      "hello, world how are you?\n",
      "you?\n"
     ]
    }
   ],
   "source": [
    "sentence, last_world = concatenator('hello,', 'world', 'how', 'are', 'you?')\n",
    "print(sentence)\n",
    "print(last_world)"
   ]
  },
  {
   "cell_type": "code",
   "execution_count": 423,
   "id": "68b2c517",
   "metadata": {},
   "outputs": [],
   "source": [
    "def concatenator(*words):\n",
    "    sentence = ''\n",
    "    for word in words:\n",
    "        sentence += word + ' '\n",
    "    last_word = words[-1]\n",
    "    return[sentence.rstrip(), last_word]"
   ]
  },
  {
   "cell_type": "code",
   "execution_count": 425,
   "id": "405049bd",
   "metadata": {},
   "outputs": [
    {
     "data": {
      "text/plain": [
       "['Hello world! How are you?', 'you?']"
      ]
     },
     "execution_count": 425,
     "metadata": {},
     "output_type": "execute_result"
    }
   ],
   "source": [
    "concatenator('Hello', 'world!', 'How', 'are', 'you?')"
   ]
  },
  {
   "cell_type": "code",
   "execution_count": 426,
   "id": "67c81e41",
   "metadata": {},
   "outputs": [
    {
     "data": {
      "text/plain": [
       "{'Hello world! How are you?': '?'}"
      ]
     },
     "execution_count": 426,
     "metadata": {},
     "output_type": "execute_result"
    }
   ],
   "source": [
    "def concatenator(*words):\n",
    "    sentence = ''\n",
    "    for word in words:\n",
    "        sentence += word + ' '\n",
    "    last_word = word [-1]\n",
    "    return{sentence.rstrip(): last_word}\n",
    "concatenator('Hello', 'world!', 'How', 'are', 'you?')"
   ]
  },
  {
   "cell_type": "markdown",
   "id": "d05a4866",
   "metadata": {},
   "source": [
    "# return_values_demo"
   ]
  },
  {
   "cell_type": "code",
   "execution_count": 431,
   "id": "d0b5e2d2",
   "metadata": {},
   "outputs": [],
   "source": [
    "website_ratings = ['5 stars', '4 stars', '3 stars']"
   ]
  },
  {
   "cell_type": "code",
   "execution_count": 438,
   "id": "c3d20538",
   "metadata": {},
   "outputs": [],
   "source": [
    "def rating_cleaner(rating):\n",
    "    numeric_rating = int(rating[0])\n",
    "    return rating, numeric_rating"
   ]
  },
  {
   "cell_type": "code",
   "execution_count": 440,
   "id": "da1d4163",
   "metadata": {},
   "outputs": [],
   "source": [
    "rating, numeric_rating = rating_cleaner(website_ratings[0])"
   ]
  },
  {
   "cell_type": "code",
   "execution_count": 441,
   "id": "0b4f404a",
   "metadata": {},
   "outputs": [
    {
     "name": "stdout",
     "output_type": "stream",
     "text": [
      "5 stars\n"
     ]
    }
   ],
   "source": [
    "print(rating)"
   ]
  },
  {
   "cell_type": "code",
   "execution_count": 442,
   "id": "ba9519ae",
   "metadata": {},
   "outputs": [
    {
     "name": "stdout",
     "output_type": "stream",
     "text": [
      "5\n"
     ]
    }
   ],
   "source": [
    "print(numeric_rating)"
   ]
  },
  {
   "cell_type": "markdown",
   "id": "f33bef13",
   "metadata": {},
   "source": [
    "# Variable_scope"
   ]
  },
  {
   "cell_type": "code",
   "execution_count": 444,
   "id": "548f1b51",
   "metadata": {},
   "outputs": [
    {
     "name": "stdout",
     "output_type": "stream",
     "text": [
      "Hello world How are you? \n"
     ]
    }
   ],
   "source": [
    "def concatenator(*words):\n",
    "    global sentence\n",
    "    sentence = ''\n",
    "    for word in words:\n",
    "        sentence += word + ' '\n",
    "    last_word = words[-1]\n",
    "    return sentence.rstrip(), last_word\n",
    "concatenator('Hello', 'world', 'How', 'are', 'you?')\n",
    "print(sentence)"
   ]
  },
  {
   "cell_type": "markdown",
   "id": "7e4e7e40",
   "metadata": {},
   "source": [
    "## Variable_scope_demo"
   ]
  },
  {
   "cell_type": "code",
   "execution_count": 445,
   "id": "ff6fcc1b",
   "metadata": {},
   "outputs": [],
   "source": [
    "website_rating = ['5 stars', '4 stars', '3 stras']"
   ]
  },
  {
   "cell_type": "code",
   "execution_count": 446,
   "id": "9d902d93",
   "metadata": {},
   "outputs": [],
   "source": [
    "def rating_cleaner(rating):\n",
    "    numeric_rating = int(rating[0])\n",
    "    return numeric_rating"
   ]
  },
  {
   "cell_type": "code",
   "execution_count": 452,
   "id": "76997e68",
   "metadata": {},
   "outputs": [
    {
     "name": "stdout",
     "output_type": "stream",
     "text": [
      "5\n"
     ]
    }
   ],
   "source": [
    "numeric_rating = rating_cleaner(website_ratings[0]))"
   ]
  },
  {
   "cell_type": "code",
   "execution_count": 453,
   "id": "d1a0851a",
   "metadata": {},
   "outputs": [
    {
     "name": "stdout",
     "output_type": "stream",
     "text": [
      "5\n"
     ]
    }
   ],
   "source": [
    "print(numeric_rating)"
   ]
  },
  {
   "cell_type": "markdown",
   "id": "48e58553",
   "metadata": {},
   "source": [
    "# Creating modules"
   ]
  },
  {
   "cell_type": "code",
   "execution_count": 479,
   "id": "688efeda",
   "metadata": {},
   "outputs": [
    {
     "name": "stdout",
     "output_type": "stream",
     "text": [
      "Writing saved_functions\n"
     ]
    }
   ],
   "source": [
    "%%writefile saved_functions\n",
    "\n",
    "def concatenator(*words):\n",
    "    sentence = ''\n",
    "    for word in words:\n",
    "        sentence += word + ' '\n",
    "    last_word = words[-1]\n",
    "    return sentence.rstrip(), last_word"
   ]
  },
  {
   "cell_type": "code",
   "execution_count": 480,
   "id": "26ff8795",
   "metadata": {},
   "outputs": [
    {
     "name": "stdout",
     "output_type": "stream",
     "text": [
      "Overwriting saved_functions\n"
     ]
    }
   ],
   "source": [
    "%%writefile saved_functions\n",
    "\n",
    "def concatenator(*words):\n",
    "    sentence = ''\n",
    "    for word in words:\n",
    "        sentence += word + ' '\n",
    "    last_word = words[-1]\n",
    "    return sentence.rstrip(), last_word\n",
    "\n",
    "def multiplier(num1, num2):\n",
    "    return num1 * num2"
   ]
  },
  {
   "cell_type": "markdown",
   "id": "62c68d40",
   "metadata": {},
   "source": [
    "# Importing Modules"
   ]
  },
  {
   "cell_type": "code",
   "execution_count": 1,
   "id": "2681fd86",
   "metadata": {},
   "outputs": [
    {
     "data": {
      "text/plain": [
       "('Hello world!', 'world!')"
      ]
     },
     "execution_count": 1,
     "metadata": {},
     "output_type": "execute_result"
    }
   ],
   "source": [
    "import saved_functions\n",
    "saved_functions.concatenator('Hello', 'world!')"
   ]
  },
  {
   "cell_type": "code",
   "execution_count": 483,
   "id": "a09cd84f",
   "metadata": {},
   "outputs": [
    {
     "data": {
      "text/plain": [
       "50"
      ]
     },
     "execution_count": 483,
     "metadata": {},
     "output_type": "execute_result"
    }
   ],
   "source": [
    "saved_functions.multiplier(5, 10)"
   ]
  },
  {
   "cell_type": "code",
   "execution_count": 2,
   "id": "90cae148",
   "metadata": {},
   "outputs": [
    {
     "data": {
      "text/plain": [
       "('Hello  world!', ' world!')"
      ]
     },
     "execution_count": 2,
     "metadata": {},
     "output_type": "execute_result"
    }
   ],
   "source": [
    "from saved_functions import concatenator, multiplier\n",
    "concatenator('Hello', ' world!')\n"
   ]
  },
  {
   "cell_type": "code",
   "execution_count": 3,
   "id": "883c495e",
   "metadata": {},
   "outputs": [
    {
     "name": "stdout",
     "output_type": "stream",
     "text": [
      "50\n"
     ]
    }
   ],
   "source": [
    "print(multiplier(5, 10))"
   ]
  },
  {
   "cell_type": "markdown",
   "id": "1eb2aae5",
   "metadata": {},
   "source": [
    "# Demo_modules"
   ]
  },
  {
   "cell_type": "code",
   "execution_count": 12,
   "id": "c0660199",
   "metadata": {},
   "outputs": [],
   "source": [
    "from rating_cleaner import rating_list_cleaner"
   ]
  },
  {
   "cell_type": "code",
   "execution_count": 1,
   "id": "0a7c557c",
   "metadata": {},
   "outputs": [],
   "source": [
    "website_ratings = ['5 stars', '4 stars', '3 stars']"
   ]
  },
  {
   "cell_type": "code",
   "execution_count": 10,
   "id": "e723d7c2",
   "metadata": {},
   "outputs": [
    {
     "name": "stdout",
     "output_type": "stream",
     "text": [
      "5\n"
     ]
    }
   ],
   "source": [
    "print(r.rating_cleaner(website_ratings [0]))"
   ]
  },
  {
   "cell_type": "code",
   "execution_count": 14,
   "id": "5eb80870",
   "metadata": {},
   "outputs": [
    {
     "name": "stdout",
     "output_type": "stream",
     "text": [
      "[5, 4, 3]\n"
     ]
    }
   ],
   "source": [
    "print(rating_list_cleaner(website_ratings))"
   ]
  },
  {
   "cell_type": "markdown",
   "id": "ca36ef9d",
   "metadata": {},
   "source": [
    "# importing_external_functions"
   ]
  },
  {
   "cell_type": "code",
   "execution_count": 16,
   "id": "2e4ff07b",
   "metadata": {},
   "outputs": [],
   "source": [
    "#example"
   ]
  },
  {
   "cell_type": "code",
   "execution_count": 17,
   "id": "5bb81f5b",
   "metadata": {},
   "outputs": [
    {
     "data": {
      "text/plain": [
       "['__doc__',\n",
       " '__file__',\n",
       " '__loader__',\n",
       " '__name__',\n",
       " '__package__',\n",
       " '__spec__',\n",
       " 'acos',\n",
       " 'acosh',\n",
       " 'asin',\n",
       " 'asinh',\n",
       " 'atan',\n",
       " 'atan2',\n",
       " 'atanh',\n",
       " 'cbrt',\n",
       " 'ceil',\n",
       " 'comb',\n",
       " 'copysign',\n",
       " 'cos',\n",
       " 'cosh',\n",
       " 'degrees',\n",
       " 'dist',\n",
       " 'e',\n",
       " 'erf',\n",
       " 'erfc',\n",
       " 'exp',\n",
       " 'exp2',\n",
       " 'expm1',\n",
       " 'fabs',\n",
       " 'factorial',\n",
       " 'floor',\n",
       " 'fmod',\n",
       " 'frexp',\n",
       " 'fsum',\n",
       " 'gamma',\n",
       " 'gcd',\n",
       " 'hypot',\n",
       " 'inf',\n",
       " 'isclose',\n",
       " 'isfinite',\n",
       " 'isinf',\n",
       " 'isnan',\n",
       " 'isqrt',\n",
       " 'lcm',\n",
       " 'ldexp',\n",
       " 'lgamma',\n",
       " 'log',\n",
       " 'log10',\n",
       " 'log1p',\n",
       " 'log2',\n",
       " 'modf',\n",
       " 'nan',\n",
       " 'nextafter',\n",
       " 'perm',\n",
       " 'pi',\n",
       " 'pow',\n",
       " 'prod',\n",
       " 'radians',\n",
       " 'remainder',\n",
       " 'sin',\n",
       " 'sinh',\n",
       " 'sqrt',\n",
       " 'tan',\n",
       " 'tanh',\n",
       " 'tau',\n",
       " 'trunc',\n",
       " 'ulp']"
      ]
     },
     "execution_count": 17,
     "metadata": {},
     "output_type": "execute_result"
    }
   ],
   "source": [
    "import math\n",
    "dir(math)"
   ]
  },
  {
   "cell_type": "code",
   "execution_count": 18,
   "id": "7a0d06cd",
   "metadata": {},
   "outputs": [
    {
     "data": {
      "text/plain": [
       "9.0"
      ]
     },
     "execution_count": 18,
     "metadata": {},
     "output_type": "execute_result"
    }
   ],
   "source": [
    "math.sqrt(81)"
   ]
  },
  {
   "cell_type": "markdown",
   "id": "78d6d731",
   "metadata": {},
   "source": [
    "# importing_external_functions"
   ]
  },
  {
   "cell_type": "code",
   "execution_count": 4,
   "id": "85f4be81",
   "metadata": {},
   "outputs": [
    {
     "data": {
      "text/plain": [
       "['__builtins__',\n",
       " '__cached__',\n",
       " '__doc__',\n",
       " '__file__',\n",
       " '__loader__',\n",
       " '__name__',\n",
       " '__package__',\n",
       " '__spec__',\n",
       " 'concatenator',\n",
       " 'multiplier']"
      ]
     },
     "execution_count": 4,
     "metadata": {},
     "output_type": "execute_result"
    }
   ],
   "source": [
    "import saved_functions\n",
    "dir(saved_functions)"
   ]
  },
  {
   "cell_type": "code",
   "execution_count": 2,
   "id": "da6da15f",
   "metadata": {},
   "outputs": [
    {
     "data": {
      "text/plain": [
       "['__doc__',\n",
       " '__file__',\n",
       " '__loader__',\n",
       " '__name__',\n",
       " '__package__',\n",
       " '__spec__',\n",
       " 'acos',\n",
       " 'acosh',\n",
       " 'asin',\n",
       " 'asinh',\n",
       " 'atan',\n",
       " 'atan2',\n",
       " 'atanh',\n",
       " 'cbrt',\n",
       " 'ceil',\n",
       " 'comb',\n",
       " 'copysign',\n",
       " 'cos',\n",
       " 'cosh',\n",
       " 'degrees',\n",
       " 'dist',\n",
       " 'e',\n",
       " 'erf',\n",
       " 'erfc',\n",
       " 'exp',\n",
       " 'exp2',\n",
       " 'expm1',\n",
       " 'fabs',\n",
       " 'factorial',\n",
       " 'floor',\n",
       " 'fmod',\n",
       " 'frexp',\n",
       " 'fsum',\n",
       " 'gamma',\n",
       " 'gcd',\n",
       " 'hypot',\n",
       " 'inf',\n",
       " 'isclose',\n",
       " 'isfinite',\n",
       " 'isinf',\n",
       " 'isnan',\n",
       " 'isqrt',\n",
       " 'lcm',\n",
       " 'ldexp',\n",
       " 'lgamma',\n",
       " 'log',\n",
       " 'log10',\n",
       " 'log1p',\n",
       " 'log2',\n",
       " 'modf',\n",
       " 'nan',\n",
       " 'nextafter',\n",
       " 'perm',\n",
       " 'pi',\n",
       " 'pow',\n",
       " 'prod',\n",
       " 'radians',\n",
       " 'remainder',\n",
       " 'sin',\n",
       " 'sinh',\n",
       " 'sqrt',\n",
       " 'tan',\n",
       " 'tanh',\n",
       " 'tau',\n",
       " 'trunc',\n",
       " 'ulp']"
      ]
     },
     "execution_count": 2,
     "metadata": {},
     "output_type": "execute_result"
    }
   ],
   "source": [
    "import math\n",
    "dir(math)"
   ]
  },
  {
   "cell_type": "markdown",
   "id": "d3ec126b",
   "metadata": {},
   "source": [
    "## Pro Tip: Naming Conflicts"
   ]
  },
  {
   "cell_type": "code",
   "execution_count": 5,
   "id": "9fec3ec1",
   "metadata": {},
   "outputs": [
    {
     "data": {
      "text/plain": [
       "'the square root of 10 is its square root.'"
      ]
     },
     "execution_count": 5,
     "metadata": {},
     "output_type": "execute_result"
    }
   ],
   "source": [
    "def sqrt(number):\n",
    "    return f'the square root of {number} is its square root.'\n",
    "sqrt(10)\n"
   ]
  },
  {
   "cell_type": "code",
   "execution_count": 6,
   "id": "c875507c",
   "metadata": {},
   "outputs": [
    {
     "data": {
      "text/plain": [
       "3.1622776601683795"
      ]
     },
     "execution_count": 6,
     "metadata": {},
     "output_type": "execute_result"
    }
   ],
   "source": [
    "from math import sqrt\n",
    "sqrt(10)"
   ]
  },
  {
   "cell_type": "code",
   "execution_count": 7,
   "id": "4d6f52c6",
   "metadata": {},
   "outputs": [],
   "source": [
    "def sqrt(number):\n",
    "    return f'The square root of {number} is its square root.'"
   ]
  },
  {
   "cell_type": "code",
   "execution_count": 8,
   "id": "8aca0e6f",
   "metadata": {},
   "outputs": [
    {
     "name": "stdout",
     "output_type": "stream",
     "text": [
      "3.1622776601683795\n",
      "The square root of 10 is its square root.\n"
     ]
    }
   ],
   "source": [
    "import math as m\n",
    "\n",
    "print(m.sqrt(10))\n",
    "print(sqrt(10))"
   ]
  },
  {
   "cell_type": "markdown",
   "id": "33ef8261",
   "metadata": {},
   "source": [
    "## Installing packages"
   ]
  },
  {
   "cell_type": "code",
   "execution_count": 9,
   "id": "db3ec2b6",
   "metadata": {},
   "outputs": [
    {
     "name": "stdout",
     "output_type": "stream",
     "text": [
      "Collecting package metadata (current_repodata.json): done\n",
      "Solving environment: unsuccessful initial attempt using frozen solve. Retrying with flexible solve.\n",
      "Solving environment: - ^C\n",
      "unsuccessful attempt using repodata from current_repodata.json, retrying with next repodata source.\n",
      "\n",
      "CondaError: KeyboardInterrupt\n",
      "\n"
     ]
    }
   ],
   "source": [
    "!conda install openpyxl"
   ]
  },
  {
   "cell_type": "code",
   "execution_count": 10,
   "id": "602363e1",
   "metadata": {},
   "outputs": [
    {
     "name": "stdout",
     "output_type": "stream",
     "text": [
      "# packages in environment at /Users/abra/anaconda3:\r\n",
      "#\r\n",
      "# Name                    Version                   Build  Channel\r\n",
      "_anaconda_depends         2023.07                 py311_0  \r\n",
      "abseil-cpp                20211102.0           he9d5cce_0  \r\n",
      "aiobotocore               2.4.2           py311hecd8cb5_0  \r\n",
      "aiofiles                  22.1.0          py311hecd8cb5_0  \r\n",
      "aiohttp                   3.8.3           py311h6c40b1e_0  \r\n",
      "aioitertools              0.7.1              pyhd3eb1b0_0  \r\n",
      "aiosignal                 1.2.0              pyhd3eb1b0_0  \r\n",
      "aiosqlite                 0.18.0          py311hecd8cb5_0  \r\n",
      "alabaster                 0.7.12             pyhd3eb1b0_0  \r\n",
      "anaconda-catalogs         0.2.0           py311hecd8cb5_0  \r\n",
      "anaconda-client           1.11.3          py311hecd8cb5_0  \r\n",
      "anaconda-navigator        2.4.2           py311hecd8cb5_0  \r\n",
      "anaconda-project          0.11.1          py311hecd8cb5_0  \r\n",
      "anyio                     3.5.0           py311hecd8cb5_0  \r\n",
      "appdirs                   1.4.4              pyhd3eb1b0_0  \r\n",
      "applaunchservices         0.3.0           py311hecd8cb5_0  \r\n",
      "appnope                   0.1.2           py311hecd8cb5_1001  \r\n",
      "appscript                 1.1.2           py311h6c40b1e_0  \r\n",
      "argon2-cffi               21.3.0             pyhd3eb1b0_0  \r\n",
      "argon2-cffi-bindings      21.2.0          py311h6c40b1e_0  \r\n",
      "arrow                     1.2.3           py311hecd8cb5_1  \r\n",
      "arrow-cpp                 11.0.0          py311hb8cef1d_0  \r\n",
      "astroid                   2.14.2          py311hecd8cb5_0  \r\n",
      "astropy                   5.1             py311hb9e55a9_0  \r\n",
      "asttokens                 2.0.5              pyhd3eb1b0_0  \r\n",
      "async-timeout             4.0.2           py311hecd8cb5_0  \r\n",
      "atomicwrites              1.4.0                      py_0  \r\n",
      "attrs                     22.1.0          py311hecd8cb5_0  \r\n",
      "automat                   20.2.0                     py_0  \r\n",
      "autopep8                  1.6.0              pyhd3eb1b0_1  \r\n",
      "aws-c-common              0.4.57               hb1e8313_1  \r\n",
      "aws-c-event-stream        0.1.6                h23ab428_5  \r\n",
      "aws-checksums             0.1.9                hb1e8313_0  \r\n",
      "aws-sdk-cpp               1.8.185              he271ece_0  \r\n",
      "babel                     2.11.0          py311hecd8cb5_0  \r\n",
      "backcall                  0.2.0              pyhd3eb1b0_0  \r\n",
      "backports                 1.1                pyhd3eb1b0_0  \r\n",
      "backports.functools_lru_cache 1.6.4              pyhd3eb1b0_0  \r\n",
      "backports.tempfile        1.0                pyhd3eb1b0_1  \r\n",
      "backports.weakref         1.0.post1                  py_1  \r\n",
      "bcrypt                    3.2.0           py311h6c40b1e_1  \r\n",
      "beautifulsoup4            4.12.2          py311hecd8cb5_0  \r\n",
      "binaryornot               0.4.4              pyhd3eb1b0_1  \r\n",
      "black                     23.3.0          py311hecd8cb5_0  \r\n",
      "blas                      1.0                    openblas  \r\n",
      "bleach                    4.1.0              pyhd3eb1b0_0  \r\n",
      "blosc                     1.21.3               hcec6c5f_0  \r\n",
      "bokeh                     3.1.1           py311h85bffb1_0  \r\n",
      "boltons                   23.0.0          py311hecd8cb5_0  \r\n",
      "boost-cpp                 1.73.0              hca72f7f_12  \r\n",
      "boto3                     1.24.28         py311hecd8cb5_0  \r\n",
      "botocore                  1.27.59         py311hecd8cb5_0  \r\n",
      "bottleneck                1.3.5           py311hb9e55a9_0  \r\n",
      "brotli                    1.0.9                hca72f7f_7  \r\n",
      "brotli-bin                1.0.9                hca72f7f_7  \r\n",
      "brotlipy                  0.7.0           py311h6c40b1e_1002  \r\n",
      "brunsli                   0.1                  h23ab428_0  \r\n",
      "bzip2                     1.0.8                h1de35cc_0  \r\n",
      "c-ares                    1.19.0               h6c40b1e_0  \r\n",
      "c-blosc2                  2.8.0                hcec6c5f_0  \r\n",
      "ca-certificates           2023.05.30           hecd8cb5_0  \r\n",
      "cctools                   949.0.1             h9abeeb2_25  \r\n",
      "cctools_osx-64            949.0.1             hc7db93f_25  \r\n",
      "certifi                   2023.5.7        py311hecd8cb5_0  \r\n",
      "cffi                      1.15.1          py311h6c40b1e_3  \r\n",
      "cfitsio                   3.470                hbd21bf8_7  \r\n",
      "chardet                   4.0.0           py311hecd8cb5_1003  \r\n",
      "charls                    2.2.0                h23ab428_0  \r\n",
      "charset-normalizer        2.0.4              pyhd3eb1b0_0  \r\n",
      "click                     8.0.4           py311hecd8cb5_0  \r\n",
      "cloudpickle               2.2.1           py311hecd8cb5_0  \r\n",
      "clyent                    1.2.2           py311hecd8cb5_1  \r\n",
      "colorama                  0.4.6           py311hecd8cb5_0  \r\n",
      "colorcet                  3.0.1           py311hecd8cb5_0  \r\n",
      "comm                      0.1.2           py311hecd8cb5_0  \r\n",
      "conda                     23.5.2          py311hecd8cb5_0  \r\n",
      "conda-build               3.25.0          py311hecd8cb5_0  \r\n",
      "conda-content-trust       0.1.3           py311hecd8cb5_0  \r\n",
      "conda-index               0.2.3           py311hecd8cb5_0  \r\n",
      "conda-libmamba-solver     23.5.0          py311hecd8cb5_0  \r\n",
      "conda-pack                0.6.0              pyhd3eb1b0_0  \r\n",
      "conda-package-handling    2.1.0           py311hecd8cb5_0  \r\n",
      "conda-package-streaming   0.8.0           py311hecd8cb5_0  \r\n",
      "conda-repo-cli            1.0.41          py311hecd8cb5_0  \r\n",
      "conda-token               0.4.0              pyhd3eb1b0_0  \r\n",
      "conda-verify              3.4.2                      py_1  \r\n",
      "constantly                15.1.0          py311hecd8cb5_0  \r\n",
      "contourpy                 1.0.5           py311ha357a0b_0  \r\n",
      "cookiecutter              1.7.3              pyhd3eb1b0_0  \r\n",
      "cryptography              39.0.1          py311hf6deb26_0  \r\n",
      "cssselect                 1.1.0              pyhd3eb1b0_0  \r\n",
      "curl                      8.1.1                h6c40b1e_0  \r\n",
      "cycler                    0.11.0             pyhd3eb1b0_0  \r\n",
      "cytoolz                   0.12.0          py311h6c40b1e_0  \r\n",
      "dask                      2023.6.0        py311hecd8cb5_0  \r\n",
      "dask-core                 2023.6.0        py311hecd8cb5_0  \r\n",
      "datashader                0.15.0          py311hecd8cb5_0  \r\n",
      "datashape                 0.5.4           py311hecd8cb5_1  \r\n",
      "debugpy                   1.5.1           py311hcec6c5f_0  \r\n",
      "decorator                 5.1.1              pyhd3eb1b0_0  \r\n",
      "defusedxml                0.7.1              pyhd3eb1b0_0  \r\n",
      "diff-match-patch          20200713           pyhd3eb1b0_0  \r\n",
      "dill                      0.3.6           py311hecd8cb5_0  \r\n",
      "distributed               2023.6.0        py311hecd8cb5_0  \r\n",
      "docstring-to-markdown     0.11            py311hecd8cb5_0  \r\n",
      "docutils                  0.18.1          py311hecd8cb5_3  \r\n",
      "entrypoints               0.4             py311hecd8cb5_0  \r\n",
      "et_xmlfile                1.1.0           py311hecd8cb5_0  \r\n",
      "executing                 0.8.3              pyhd3eb1b0_0  \r\n",
      "filelock                  3.9.0           py311hecd8cb5_0  \r\n",
      "flake8                    6.0.0           py311hecd8cb5_0  \r\n",
      "flask                     2.2.2           py311hecd8cb5_0  \r\n",
      "fmt                       9.1.0                ha357a0b_0  \r\n",
      "fonttools                 4.25.0             pyhd3eb1b0_0  \r\n",
      "freetype                  2.12.1               hd8bbffd_0  \r\n",
      "frozenlist                1.3.3           py311h6c40b1e_0  \r\n",
      "fsspec                    2023.3.0        py311hecd8cb5_0  \r\n",
      "future                    0.18.3          py311hecd8cb5_0  \r\n",
      "gensim                    4.3.0           py311hc5848a5_0  \r\n",
      "gettext                   0.21.0               he85b6c0_1  \r\n",
      "gflags                    2.2.2                h0a44026_0  \r\n",
      "giflib                    5.2.1                h6c40b1e_3  \r\n",
      "glib                      2.69.1               hfff2838_2  \r\n",
      "glob2                     0.7                pyhd3eb1b0_0  \r\n",
      "glog                      0.5.0                h23ab428_0  \r\n",
      "gmp                       6.2.1                he9d5cce_3  \r\n",
      "gmpy2                     2.1.2           py311h1c2e9e1_0  \r\n",
      "greenlet                  2.0.1           py311hcec6c5f_0  \r\n",
      "grpc-cpp                  1.46.1               h64d96ca_1  \r\n",
      "gst-plugins-base          1.14.1               hcec6c5f_1  \r\n",
      "gstreamer                 1.14.1               h6c40b1e_1  \r\n",
      "h5py                      3.7.0           py311h4bbaca6_0  \r\n",
      "hdf5                      1.10.6               h10fe05b_1  \r\n",
      "heapdict                  1.0.1              pyhd3eb1b0_0  \r\n",
      "holoviews                 1.16.2          py311hecd8cb5_0  \r\n",
      "hvplot                    0.8.4           py311hecd8cb5_0  \r\n",
      "hyperlink                 21.0.0             pyhd3eb1b0_0  \r\n",
      "icu                       58.2                 h0a44026_3  \r\n",
      "idna                      3.4             py311hecd8cb5_0  \r\n",
      "imagecodecs               2021.8.26       py311he097ab5_2  \r\n",
      "imageio                   2.31.1          py311hecd8cb5_0  \r\n",
      "imagesize                 1.4.1           py311hecd8cb5_0  \r\n",
      "imbalanced-learn          0.10.1          py311hecd8cb5_1  \r\n",
      "importlib-metadata        6.0.0           py311hecd8cb5_0  \r\n",
      "importlib_metadata        6.0.0                hd3eb1b0_0  \r\n",
      "incremental               21.3.0             pyhd3eb1b0_0  \r\n",
      "inflection                0.5.1           py311hecd8cb5_0  \r\n",
      "iniconfig                 1.1.1              pyhd3eb1b0_0  \r\n",
      "intake                    0.6.8           py311hecd8cb5_0  \r\n",
      "intervaltree              3.1.0              pyhd3eb1b0_0  \r\n",
      "ipykernel                 6.19.2          py311h4975b63_0  \r\n",
      "ipython                   8.12.0          py311hecd8cb5_0  \r\n",
      "ipython_genutils          0.2.0              pyhd3eb1b0_1  \r\n",
      "ipywidgets                8.0.4           py311hecd8cb5_0  \r\n",
      "isort                     5.9.3              pyhd3eb1b0_0  \r\n",
      "itemadapter               0.3.0              pyhd3eb1b0_0  \r\n",
      "itemloaders               1.0.4              pyhd3eb1b0_1  \r\n",
      "itsdangerous              2.0.1              pyhd3eb1b0_0  \r\n",
      "jaraco.classes            3.2.1              pyhd3eb1b0_0  \r\n",
      "jedi                      0.18.1          py311hecd8cb5_1  \r\n",
      "jellyfish                 0.9.0           py311h6c40b1e_0  \r\n",
      "jinja2                    3.1.2           py311hecd8cb5_0  \r\n",
      "jinja2-time               0.2.0              pyhd3eb1b0_3  \r\n",
      "jmespath                  0.10.0             pyhd3eb1b0_0  \r\n",
      "joblib                    1.2.0           py311hecd8cb5_0  \r\n",
      "jpeg                      9e                   h6c40b1e_1  \r\n",
      "jq                        1.6               h9ed2024_1000  \r\n",
      "json5                     0.9.6              pyhd3eb1b0_0  \r\n",
      "jsonpatch                 1.32               pyhd3eb1b0_0  \r\n",
      "jsonpointer               2.1                pyhd3eb1b0_0  \r\n",
      "jsonschema                4.17.3          py311hecd8cb5_0  \r\n",
      "jupyter                   1.0.0           py311hecd8cb5_8  \r\n",
      "jupyter_client            8.1.0           py311hecd8cb5_0  \r\n",
      "jupyter_console           6.6.3           py311hecd8cb5_0  \r\n",
      "jupyter_core              5.3.0           py311hecd8cb5_0  \r\n",
      "jupyter_events            0.6.3           py311hecd8cb5_0  \r\n",
      "jupyter_server            2.5.0           py311hecd8cb5_0  \r\n",
      "jupyter_server_fileid     0.9.0           py311hecd8cb5_0  \r\n",
      "jupyter_server_terminals  0.4.4           py311hecd8cb5_1  \r\n",
      "jupyter_server_ydoc       0.8.0           py311hecd8cb5_1  \r\n",
      "jupyter_ydoc              0.2.4           py311hecd8cb5_0  \r\n",
      "jupyterlab                3.6.3           py311hecd8cb5_0  \r\n",
      "jupyterlab_pygments       0.1.2                      py_0  \r\n",
      "jupyterlab_server         2.22.0          py311hecd8cb5_0  \r\n",
      "jupyterlab_widgets        3.0.5           py311hecd8cb5_0  \r\n",
      "jxrlib                    1.1                  haf1e3a3_2  \r\n",
      "keyring                   23.13.1         py311hecd8cb5_0  \r\n",
      "kiwisolver                1.4.4           py311hcec6c5f_0  \r\n",
      "krb5                      1.19.4               hdba6334_0  \r\n",
      "lazy-object-proxy         1.6.0           py311h6c40b1e_0  \r\n",
      "lazy_loader               0.2             py311hecd8cb5_0  \r\n",
      "lcms2                     2.12                 hf1fd2bf_0  \r\n",
      "ld64                      530                 h20443b4_25  \r\n",
      "ld64_osx-64               530                 h70f3046_25  \r\n",
      "ldid                      2.1.5                hc58f1be_3  \r\n",
      "lerc                      3.0                  he9d5cce_0  \r\n",
      "libaec                    1.0.4                hb1e8313_1  \r\n",
      "libarchive                3.6.2                had00e1f_1  \r\n",
      "libboost                  1.73.0              h3fa6bed_12  \r\n",
      "libbrotlicommon           1.0.9                hca72f7f_7  \r\n",
      "libbrotlidec              1.0.9                hca72f7f_7  \r\n",
      "libbrotlienc              1.0.9                hca72f7f_7  \r\n",
      "libclang                  14.0.6          default_hd95374b_1  \r\n",
      "libclang13                14.0.6          default_habbcc1a_1  \r\n",
      "libcurl                   8.1.1                ha585b31_0  \r\n",
      "libcxx                    14.0.6               h9765a3e_0  \r\n",
      "libdeflate                1.17                 hb664fd8_0  \r\n",
      "libedit                   3.1.20221030         h6c40b1e_0  \r\n",
      "libev                     4.33                 h9ed2024_1  \r\n",
      "libevent                  2.1.12               h0a4fc7d_0  \r\n",
      "libffi                    3.4.4                hecd8cb5_0  \r\n",
      "libgfortran               5.0.0           11_3_0_hecd8cb5_28  \r\n",
      "libgfortran5              11.3.0              h9dfd629_28  \r\n",
      "libiconv                  1.16                 hca72f7f_2  \r\n",
      "liblief                   0.12.3               hcec6c5f_0  \r\n",
      "libllvm14                 14.0.6               h91fad77_3  \r\n",
      "libmamba                  1.4.1                ha357a0b_0  \r\n",
      "libmambapy                1.4.1           py311ha357a0b_0  \r\n",
      "libnghttp2                1.52.0               h1c88b7d_1  \r\n",
      "libopenblas               0.3.21               h54e7dc3_0  \r\n",
      "libpng                    1.6.39               h6c40b1e_0  \r\n",
      "libpq                     12.9                 h1c9f633_3  \r\n",
      "libprotobuf               3.20.3               hfff2838_0  \r\n",
      "libsodium                 1.0.18               h1de35cc_0  \r\n",
      "libsolv                   0.7.22               h8346a28_0  \r\n",
      "libspatialindex           1.9.3                h23ab428_0  \r\n",
      "libssh2                   1.10.0               hdb2fb19_2  \r\n",
      "libthrift                 0.15.0               h48f73ad_2  \r\n",
      "libtiff                   4.5.0                hcec6c5f_2  \r\n",
      "libwebp                   1.2.4                hf6ce154_1  \r\n",
      "libwebp-base              1.2.4                h6c40b1e_1  \r\n",
      "libxml2                   2.10.3               h930c0e2_0  \r\n",
      "libxslt                   1.1.37               h6d1eb0e_0  \r\n",
      "libzopfli                 1.0.3                hb1e8313_0  \r\n",
      "linkify-it-py             2.0.0           py311hecd8cb5_0  \r\n",
      "llvm-openmp               14.0.6               h0dcd299_0  \r\n",
      "llvmlite                  0.40.0          py311hfff2838_0  \r\n",
      "locket                    1.0.0           py311hecd8cb5_0  \r\n",
      "lxml                      4.9.2           py311h6c40b1e_0  \r\n",
      "lz4                       4.3.2           py311h6c40b1e_0  \r\n",
      "lz4-c                     1.9.4                hcec6c5f_0  \r\n",
      "lzo                       2.10                 haf1e3a3_2  \r\n",
      "markdown                  3.4.1           py311hecd8cb5_0  \r\n",
      "markdown-it-py            2.2.0           py311hecd8cb5_1  \r\n",
      "markupsafe                2.1.1           py311h6c40b1e_0  \r\n",
      "matplotlib                3.7.1           py311hecd8cb5_1  \r\n",
      "matplotlib-base           3.7.1           py311h11e8b89_1  \r\n",
      "matplotlib-inline         0.1.6           py311hecd8cb5_0  \r\n",
      "mccabe                    0.7.0              pyhd3eb1b0_0  \r\n",
      "mdit-py-plugins           0.3.0           py311hecd8cb5_0  \r\n",
      "mdurl                     0.1.0           py311hecd8cb5_0  \r\n",
      "mistune                   0.8.4           py311h6c40b1e_1000  \r\n",
      "more-itertools            8.12.0             pyhd3eb1b0_0  \r\n",
      "mpc                       1.1.0                h6ef4df4_1  \r\n",
      "mpfr                      4.0.2                h9066e36_1  \r\n",
      "mpmath                    1.2.1           py311hecd8cb5_0  \r\n",
      "msgpack-python            1.0.3           py311ha357a0b_0  \r\n",
      "multidict                 6.0.2           py311h6c40b1e_0  \r\n",
      "multipledispatch          0.6.0           py311hecd8cb5_0  \r\n",
      "munkres                   1.1.4                      py_0  \r\n",
      "mypy_extensions           0.4.3           py311hecd8cb5_1  \r\n",
      "navigator-updater         0.4.0           py311hecd8cb5_0  \r\n",
      "nbclassic                 0.5.5           py311hecd8cb5_0  \r\n",
      "nbclient                  0.5.13          py311hecd8cb5_0  \r\n",
      "nbconvert                 6.5.4           py311hecd8cb5_0  \r\n",
      "nbformat                  5.7.0           py311hecd8cb5_0  \r\n",
      "ncurses                   6.4                  hcec6c5f_0  \r\n",
      "nest-asyncio              1.5.6           py311hecd8cb5_0  \r\n",
      "networkx                  2.8.4           py311hecd8cb5_1  \r\n",
      "nltk                      3.7                pyhd3eb1b0_0  \r\n",
      "notebook                  6.5.4           py311hecd8cb5_0  \r\n",
      "notebook-shim             0.2.2           py311hecd8cb5_0  \r\n",
      "nspr                      4.35                 hcec6c5f_0  \r\n",
      "nss                       3.89.1               hcec6c5f_0  \r\n",
      "numba                     0.57.0          py311hdb55bb0_0  \r\n",
      "numexpr                   2.8.4           py311hd0e4f0d_1  \r\n",
      "numpy                     1.24.3          py311hd0e4f0d_0  \r\n",
      "numpy-base                1.24.3          py311h947b413_0  \r\n",
      "numpydoc                  1.5.0           py311hecd8cb5_0  \r\n",
      "oniguruma                 6.9.7.1              h9ed2024_0  \r\n",
      "openjpeg                  2.4.0                h66ea3da_0  \r\n",
      "openpyxl                  3.0.10          py311h6c40b1e_0  \r\n",
      "openssl                   1.1.1u               hca72f7f_0  \r\n",
      "orc                       1.7.4                h995b336_1  \r\n",
      "packaging                 23.0            py311hecd8cb5_0  \r\n",
      "pandas                    1.5.3           py311hc5848a5_0  \r\n",
      "pandocfilters             1.5.0              pyhd3eb1b0_0  \r\n",
      "panel                     1.1.0           py311hecd8cb5_0  \r\n",
      "param                     1.13.0          py311hecd8cb5_0  \r\n",
      "parsel                    1.6.0           py311hecd8cb5_0  \r\n",
      "parso                     0.8.3              pyhd3eb1b0_0  \r\n",
      "partd                     1.2.0              pyhd3eb1b0_1  \r\n",
      "patch                     2.7.6             h1de35cc_1001  \r\n",
      "pathlib                   1.0.1              pyhd3eb1b0_1  \r\n",
      "pathspec                  0.10.3          py311hecd8cb5_0  \r\n",
      "patsy                     0.5.3           py311hecd8cb5_0  \r\n",
      "pcre                      8.45                 h23ab428_0  \r\n",
      "pcre2                     10.37                he7042d7_1  \r\n",
      "pep8                      1.7.1           py311hecd8cb5_1  \r\n",
      "pexpect                   4.8.0              pyhd3eb1b0_3  \r\n",
      "pickleshare               0.7.5           pyhd3eb1b0_1003  \r\n",
      "pillow                    9.4.0           py311hcec6c5f_0  \r\n",
      "pip                       23.1.2          py311hecd8cb5_0  \r\n",
      "pkginfo                   1.9.6           py311hecd8cb5_0  \r\n",
      "platformdirs              2.5.2           py311hecd8cb5_0  \r\n",
      "plotly                    5.9.0           py311hecd8cb5_0  \r\n",
      "pluggy                    1.0.0           py311hecd8cb5_1  \r\n",
      "ply                       3.11            py311hecd8cb5_0  \r\n",
      "pooch                     1.4.0              pyhd3eb1b0_0  \r\n",
      "poyo                      0.5.0              pyhd3eb1b0_0  \r\n",
      "prometheus_client         0.14.1          py311hecd8cb5_0  \r\n",
      "prompt-toolkit            3.0.36          py311hecd8cb5_0  \r\n",
      "prompt_toolkit            3.0.36               hd3eb1b0_0  \r\n",
      "protego                   0.1.16                     py_0  \r\n",
      "psutil                    5.9.0           py311h6c40b1e_0  \r\n",
      "ptyprocess                0.7.0              pyhd3eb1b0_2  \r\n",
      "pure_eval                 0.2.2              pyhd3eb1b0_0  \r\n",
      "py-cpuinfo                8.0.0              pyhd3eb1b0_1  \r\n",
      "py-lief                   0.12.3          py311hcec6c5f_0  \r\n",
      "pyarrow                   11.0.0          py311hf41f4e6_0  \r\n",
      "pyasn1                    0.4.8              pyhd3eb1b0_0  \r\n",
      "pyasn1-modules            0.2.8                      py_0  \r\n",
      "pybind11-abi              4                    hd3eb1b0_1  \r\n",
      "pycodestyle               2.10.0          py311hecd8cb5_0  \r\n",
      "pycosat                   0.6.4           py311h6c40b1e_0  \r\n",
      "pycparser                 2.21               pyhd3eb1b0_0  \r\n",
      "pyct                      0.5.0           py311hecd8cb5_0  \r\n",
      "pycurl                    7.45.2          py311hdb2fb19_0  \r\n",
      "pydispatcher              2.0.5           py311hecd8cb5_2  \r\n",
      "pydocstyle                6.3.0           py311hecd8cb5_0  \r\n",
      "pyerfa                    2.0.0           py311h6c40b1e_0  \r\n",
      "pyflakes                  3.0.1           py311hecd8cb5_0  \r\n",
      "pygments                  2.15.1          py311hecd8cb5_1  \r\n",
      "pyjwt                     2.4.0           py311hecd8cb5_0  \r\n",
      "pylint                    2.16.2          py311hecd8cb5_0  \r\n",
      "pylint-venv               2.3.0           py311hecd8cb5_0  \r\n",
      "pyls-spyder               0.4.0              pyhd3eb1b0_0  \r\n",
      "pyobjc-core               9.0             py311h9205ec4_1  \r\n",
      "pyobjc-framework-cocoa    9.0             py311h9205ec4_0  \r\n",
      "pyobjc-framework-coreservices 9.0             py311h46256e1_0  \r\n",
      "pyobjc-framework-fsevents 9.0             py311hecd8cb5_0  \r\n",
      "pyodbc                    4.0.34          py311hcec6c5f_0  \r\n",
      "pyopenssl                 23.0.0          py311hecd8cb5_0  \r\n",
      "pyparsing                 3.0.9           py311hecd8cb5_0  \r\n",
      "pyqt                      5.15.7          py311hcec6c5f_0  \r\n",
      "pyqt5-sip                 12.11.0         py311hcec6c5f_0  \r\n",
      "pyqtwebengine             5.15.7          py311hcec6c5f_0  \r\n",
      "pyrsistent                0.18.0          py311h6c40b1e_0  \r\n",
      "pysocks                   1.7.1           py311hecd8cb5_0  \r\n",
      "pytables                  3.8.0           py311hbdc8ef1_2  \r\n",
      "pytest                    7.3.1           py311hecd8cb5_0  \r\n",
      "python                    3.11.3               h1fd4e5f_0  \r\n",
      "python-dateutil           2.8.2              pyhd3eb1b0_0  \r\n",
      "python-fastjsonschema     2.16.2          py311hecd8cb5_0  \r\n",
      "python-json-logger        2.0.7           py311hecd8cb5_0  \r\n",
      "python-libarchive-c       2.9                pyhd3eb1b0_1  \r\n",
      "python-lmdb               1.4.1           py311hcec6c5f_0  \r\n",
      "python-lsp-black          1.2.1           py311hecd8cb5_0  \r\n",
      "python-lsp-jsonrpc        1.0.0              pyhd3eb1b0_0  \r\n",
      "python-lsp-server         1.7.2           py311hecd8cb5_0  \r\n",
      "python-slugify            5.0.2              pyhd3eb1b0_0  \r\n",
      "python-snappy             0.6.1           py311hcec6c5f_0  \r\n",
      "python.app                3               py311h6c40b1e_0  \r\n",
      "pytoolconfig              1.2.5           py311hecd8cb5_1  \r\n",
      "pytz                      2022.7          py311hecd8cb5_0  \r\n",
      "pyviz_comms               2.3.0           py311hecd8cb5_0  \r\n",
      "pywavelets                1.4.1           py311h6c40b1e_0  \r\n",
      "pyyaml                    6.0             py311h6c40b1e_1  \r\n",
      "pyzmq                     25.1.0          py311hcec6c5f_0  \r\n",
      "qdarkstyle                3.0.2              pyhd3eb1b0_0  \r\n",
      "qstylizer                 0.2.2           py311hecd8cb5_0  \r\n",
      "qt-main                   5.15.2               h51e0635_8  \r\n",
      "qt-webengine              5.15.9               h90a370e_4  \r\n",
      "qtawesome                 1.2.2           py311hecd8cb5_0  \r\n",
      "qtconsole                 5.4.2           py311hecd8cb5_0  \r\n",
      "qtpy                      2.2.0           py311hecd8cb5_0  \r\n",
      "qtwebkit                  5.212                hbfab81c_5  \r\n",
      "queuelib                  1.5.0           py311hecd8cb5_0  \r\n",
      "re2                       2022.04.01           he9d5cce_0  \r\n",
      "readline                  8.2                  hca72f7f_0  \r\n",
      "regex                     2022.7.9        py311h6c40b1e_0  \r\n",
      "reproc                    14.2.4               he9d5cce_1  \r\n",
      "reproc-cpp                14.2.4               he9d5cce_1  \r\n",
      "requests                  2.29.0          py311hecd8cb5_0  \r\n",
      "requests-file             1.5.1              pyhd3eb1b0_0  \r\n",
      "requests-toolbelt         0.9.1              pyhd3eb1b0_0  \r\n",
      "rfc3339-validator         0.1.4           py311hecd8cb5_0  \r\n",
      "rfc3986-validator         0.1.1           py311hecd8cb5_0  \r\n",
      "rope                      1.7.0           py311hecd8cb5_0  \r\n",
      "rtree                     1.0.1           py311hecd8cb5_0  \r\n",
      "ruamel.yaml               0.17.21         py311h6c40b1e_0  \r\n",
      "ruamel_yaml               0.17.21         py311h6c40b1e_0  \r\n",
      "s3fs                      2023.3.0        py311hecd8cb5_0  \r\n",
      "s3transfer                0.6.0           py311hecd8cb5_0  \r\n",
      "sacremoses                0.0.43             pyhd3eb1b0_0  \r\n",
      "scikit-image              0.20.0          py311hcec6c5f_0  \r\n",
      "scikit-learn              1.2.2           py311hcec6c5f_1  \r\n",
      "scipy                     1.10.1          py311h7695dc5_1  \r\n",
      "scrapy                    2.8.0           py311hecd8cb5_0  \r\n",
      "seaborn                   0.12.2          py311hecd8cb5_0  \r\n",
      "send2trash                1.8.0              pyhd3eb1b0_1  \r\n",
      "service_identity          18.1.0             pyhd3eb1b0_1  \r\n",
      "setuptools                67.8.0          py311hecd8cb5_0  \r\n",
      "sip                       6.6.2           py311hcec6c5f_0  \r\n",
      "six                       1.16.0             pyhd3eb1b0_1  \r\n",
      "smart_open                5.2.1           py311hecd8cb5_0  \r\n",
      "snappy                    1.1.9                he9d5cce_0  \r\n",
      "sniffio                   1.2.0           py311hecd8cb5_1  \r\n",
      "snowballstemmer           2.2.0              pyhd3eb1b0_0  \r\n",
      "sortedcontainers          2.4.0              pyhd3eb1b0_0  \r\n",
      "soupsieve                 2.4             py311hecd8cb5_0  \r\n",
      "sphinx                    5.0.2           py311hecd8cb5_0  \r\n",
      "sphinxcontrib-applehelp   1.0.2              pyhd3eb1b0_0  \r\n",
      "sphinxcontrib-devhelp     1.0.2              pyhd3eb1b0_0  \r\n",
      "sphinxcontrib-htmlhelp    2.0.0              pyhd3eb1b0_0  \r\n",
      "sphinxcontrib-jsmath      1.0.1              pyhd3eb1b0_0  \r\n",
      "sphinxcontrib-qthelp      1.0.3              pyhd3eb1b0_0  \r\n",
      "sphinxcontrib-serializinghtml 1.1.5              pyhd3eb1b0_0  \r\n",
      "spyder                    5.4.3           py311hecd8cb5_1  \r\n",
      "spyder-kernels            2.4.3           py311hecd8cb5_0  \r\n",
      "sqlalchemy                1.4.39          py311h6c40b1e_0  \r\n",
      "sqlite                    3.41.2               h6c40b1e_0  \r\n",
      "stack_data                0.2.0              pyhd3eb1b0_0  \r\n",
      "statsmodels               0.13.5          py311h6c40b1e_1  \r\n",
      "sympy                     1.11.1          py311hecd8cb5_0  \r\n",
      "tabulate                  0.8.10          py311hecd8cb5_0  \r\n",
      "tapi                      1000.10.8            ha1b3eb9_0  \r\n",
      "tbb                       2021.8.0             ha357a0b_0  \r\n",
      "tbb4py                    2021.8.0        py311ha357a0b_0  \r\n",
      "tblib                     1.7.0              pyhd3eb1b0_0  \r\n",
      "tenacity                  8.2.2           py311hecd8cb5_0  \r\n",
      "terminado                 0.17.1          py311hecd8cb5_0  \r\n",
      "text-unidecode            1.3                pyhd3eb1b0_0  \r\n",
      "textdistance              4.2.1              pyhd3eb1b0_0  \r\n",
      "threadpoolctl             2.2.0              pyh0d69192_0  \r\n",
      "three-merge               0.1.1              pyhd3eb1b0_0  \r\n",
      "tifffile                  2021.7.2           pyhd3eb1b0_2  \r\n",
      "tinycss2                  1.2.1           py311hecd8cb5_0  \r\n",
      "tk                        8.6.12               h5d9f67b_0  \r\n",
      "tldextract                3.2.0              pyhd3eb1b0_0  \r\n",
      "toml                      0.10.2             pyhd3eb1b0_0  \r\n",
      "tomli                     2.0.1           py311hecd8cb5_0  \r\n",
      "tomlkit                   0.11.1          py311hecd8cb5_0  \r\n",
      "toolz                     0.12.0          py311hecd8cb5_0  \r\n",
      "tornado                   6.2             py311h6c40b1e_0  \r\n",
      "tqdm                      4.65.0          py311h85bffb1_0  \r\n",
      "traitlets                 5.7.1           py311hecd8cb5_0  \r\n",
      "transformers              2.1.1              pyhd3eb1b0_0  \r\n",
      "twisted                   22.10.0         py311h6c40b1e_0  \r\n",
      "typing-extensions         4.6.3           py311hecd8cb5_0  \r\n",
      "typing_extensions         4.6.3           py311hecd8cb5_0  \r\n",
      "tzdata                    2023c                h04d1e81_0  \r\n",
      "uc-micro-py               1.0.1           py311hecd8cb5_0  \r\n",
      "ujson                     5.4.0           py311hcec6c5f_0  \r\n",
      "unidecode                 1.2.0              pyhd3eb1b0_0  \r\n",
      "unixodbc                  2.3.11               hb456775_0  \r\n",
      "urllib3                   1.26.16         py311hecd8cb5_0  \r\n",
      "utf8proc                  2.6.1                h9ed2024_0  \r\n",
      "w3lib                     1.21.0             pyhd3eb1b0_0  \r\n",
      "watchdog                  2.1.6           py311h3333b6a_0  \r\n",
      "wcwidth                   0.2.5              pyhd3eb1b0_0  \r\n",
      "webencodings              0.5.1           py311hecd8cb5_1  \r\n",
      "websocket-client          0.58.0          py311hecd8cb5_4  \r\n",
      "werkzeug                  2.2.3           py311hecd8cb5_0  \r\n",
      "whatthepatch              1.0.2           py311hecd8cb5_0  \r\n",
      "wheel                     0.38.4          py311hecd8cb5_0  \r\n",
      "widgetsnbextension        4.0.5           py311hecd8cb5_0  \r\n",
      "wrapt                     1.14.1          py311h6c40b1e_0  \r\n",
      "wurlitzer                 3.0.2           py311hecd8cb5_0  \r\n",
      "xarray                    2022.11.0       py311hecd8cb5_0  \r\n",
      "xlwings                   0.29.1          py311hecd8cb5_0  \r\n",
      "xyzservices               2022.9.0        py311hecd8cb5_1  \r\n",
      "xz                        5.4.2                h6c40b1e_0  \r\n",
      "y-py                      0.5.9           py311h7242b5c_0  \r\n",
      "yaml                      0.2.5                haf1e3a3_0  \r\n",
      "yaml-cpp                  0.7.0                he9d5cce_1  \r\n",
      "yapf                      0.31.0             pyhd3eb1b0_0  \r\n",
      "yarl                      1.8.1           py311h6c40b1e_0  \r\n",
      "ypy-websocket             0.8.2           py311hecd8cb5_0  \r\n",
      "zeromq                    4.3.4                h23ab428_0  \r\n",
      "zfp                       0.5.5                he9d5cce_6  \r\n",
      "zict                      2.2.0           py311hecd8cb5_0  \r\n",
      "zipp                      3.11.0          py311hecd8cb5_0  \r\n",
      "zlib                      1.2.13               h4dc903c_0  \r\n",
      "zlib-ng                   2.0.7                h6c40b1e_0  \r\n",
      "zope                      1.0             py311hecd8cb5_1  \r\n",
      "zope.interface            5.4.0           py311h6c40b1e_0  \r\n",
      "zstandard                 0.19.0          py311h6c40b1e_0  \r\n",
      "zstd                      1.5.5                hc035e20_0  \r\n"
     ]
    }
   ],
   "source": [
    "!conda list\n"
   ]
  },
  {
   "cell_type": "code",
   "execution_count": null,
   "id": "3786241f",
   "metadata": {},
   "outputs": [],
   "source": []
  }
 ],
 "metadata": {
  "kernelspec": {
   "display_name": "Python 3 (ipykernel)",
   "language": "python",
   "name": "python3"
  },
  "language_info": {
   "codemirror_mode": {
    "name": "ipython",
    "version": 3
   },
   "file_extension": ".py",
   "mimetype": "text/x-python",
   "name": "python",
   "nbconvert_exporter": "python",
   "pygments_lexer": "ipython3",
   "version": "3.11.3"
  }
 },
 "nbformat": 4,
 "nbformat_minor": 5
}
