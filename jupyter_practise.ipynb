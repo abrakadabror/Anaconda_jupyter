{
 "cells": [
  {
   "cell_type": "code",
   "execution_count": 7,
   "id": "b038a492",
   "metadata": {},
   "outputs": [
    {
     "name": "stdout",
     "output_type": "stream",
     "text": [
      "[5.27, 5.17, 9.87, 29.03]\n"
     ]
    }
   ],
   "source": [
    "exch_rate = 0.88\n",
    "usd_list = [5.99, 5.88, 11.22, 32.99]\n",
    "\n",
    "af_currency = []\n",
    "for list in usd_list:\n",
    "    af_currency.append(round(list * exch_rate,2))\n",
    "print(af_currency)"
   ]
  },
  {
   "cell_type": "code",
   "execution_count": 12,
   "id": "2647da52",
   "metadata": {},
   "outputs": [
    {
     "name": "stdout",
     "output_type": "stream",
     "text": [
      "5.88\n"
     ]
    }
   ],
   "source": [
    "usd_list = [5.99, 5.88, 11.22, 32.99]\n",
    "\n",
    "for usd in usd_list:\n",
    "    usd = usd_list[1] #@drukujemy drugi index w tym przypadku 5.88\n",
    "print(usd)"
   ]
  },
  {
   "cell_type": "code",
   "execution_count": 47,
   "id": "0f206c3a",
   "metadata": {},
   "outputs": [
    {
     "name": "stdout",
     "output_type": "stream",
     "text": [
      "M\n",
      "a\n",
      "v\n",
      "e\n",
      "n\n",
      "Good\n"
     ]
    }
   ],
   "source": [
    "iterable = 'Maven'\n",
    "for item in iterable:\n",
    "    print(item)\n",
    "if item == 'n':\n",
    "    print('Good')"
   ]
  },
  {
   "cell_type": "code",
   "execution_count": 51,
   "id": "7253079f",
   "metadata": {},
   "outputs": [
    {
     "name": "stdout",
     "output_type": "stream",
     "text": [
      "3\n"
     ]
    }
   ],
   "source": [
    "customer_ratings = [ '3 stars', '4 stars', '5 stars', '3 stars', '1 star', '5 stars', '4 stars']\n",
    "\n",
    "rating = int(customer_ratings[0][0])\n",
    "print(rating)"
   ]
  },
  {
   "cell_type": "code",
   "execution_count": 62,
   "id": "d2f9ec2a",
   "metadata": {},
   "outputs": [
    {
     "name": "stdout",
     "output_type": "stream",
     "text": [
      "3.5714285714285716\n",
      "[3, 4, 5, 3, 1, 5, 4]\n"
     ]
    }
   ],
   "source": [
    "empty_list = [] #tworzymy pusta liste aby zapisac dane do niej\n",
    "for rating in customer_ratings:\n",
    "    empty_list.append(int(rating[0])) #wybieramy pierwszy znak w wybranym elemencie listy\n",
    "    avg = (sum(empty_list)/ len(empty_list) )\n",
    "print(avg)\n",
    "print(empty_list)"
   ]
  },
  {
   "cell_type": "code",
   "execution_count": 65,
   "id": "c6d05dc1",
   "metadata": {},
   "outputs": [
    {
     "name": "stdout",
     "output_type": "stream",
     "text": [
      "[5.27, 5.17, 9.87, 29.03]\n"
     ]
    }
   ],
   "source": [
    "exchange_rate = 0.88\n",
    "usd_list = [5.99, 5.88, 11.22, 32.99]\n",
    "euro_list = []\n",
    "\n",
    "for i in range(len(usd_list)):\n",
    "    euro_list.append(round(usd_list[i] * exchange_rate, 2))\n",
    "print(euro_list)"
   ]
  },
  {
   "cell_type": "code",
   "execution_count": 71,
   "id": "eb05edd4",
   "metadata": {},
   "outputs": [
    {
     "name": "stdout",
     "output_type": "stream",
     "text": [
      " The snowboard costs 5.27 euros.\n",
      " The  boots costs 5.17 euros.\n",
      " The helmet costs 9.87 euros.\n",
      " The google costs 29.03 euros.\n"
     ]
    }
   ],
   "source": [
    "usd_list = [5.99, 5.88, 11.22, 32.99]\n",
    "item_list =  ['Snowboard', ' Boots', 'Helmet', 'Google', 'Bindings']\n",
    "\n",
    "for i in range(len(euro_list)):\n",
    "    print(f' The {item_list[i].lower()} costs {euro_list[i]} euros.')\n",
    "    "
   ]
  },
  {
   "cell_type": "code",
   "execution_count": null,
   "id": "4eddee97",
   "metadata": {},
   "outputs": [],
   "source": []
  }
 ],
 "metadata": {
  "kernelspec": {
   "display_name": "Python 3 (ipykernel)",
   "language": "python",
   "name": "python3"
  },
  "language_info": {
   "codemirror_mode": {
    "name": "ipython",
    "version": 3
   },
   "file_extension": ".py",
   "mimetype": "text/x-python",
   "name": "python",
   "nbconvert_exporter": "python",
   "pygments_lexer": "ipython3",
   "version": "3.11.3"
  }
 },
 "nbformat": 4,
 "nbformat_minor": 5
}
