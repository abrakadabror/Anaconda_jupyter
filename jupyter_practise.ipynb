{
 "cells": [
  {
   "cell_type": "code",
   "execution_count": null,
   "id": "b038a492",
   "metadata": {},
   "outputs": [],
   "source": [
    "exch_rate = 0.88\n",
    "usd_list = [5.99, 5.88, 11.22, 32.99]\n",
    "\n",
    "af_currency = []\n",
    "for list in usd_list:\n",
    "    af_currency.append(round(list * exch_rate,2))\n",
    "print(af_currency)"
   ]
  },
  {
   "cell_type": "code",
   "execution_count": null,
   "id": "2647da52",
   "metadata": {},
   "outputs": [],
   "source": [
    "usd_list = [5.99, 5.88, 11.22, 32.99]\n",
    "\n",
    "for usd in usd_list:\n",
    "    usd = usd_list[1] #@drukujemy drugi index w tym przypadku 5.88\n",
    "print(usd)"
   ]
  },
  {
   "cell_type": "code",
   "execution_count": null,
   "id": "0f206c3a",
   "metadata": {},
   "outputs": [],
   "source": [
    "iterable = 'Maven'\n",
    "for item in iterable:\n",
    "    print(item)\n",
    "if item == 'n':\n",
    "    print('Good')"
   ]
  },
  {
   "cell_type": "code",
   "execution_count": null,
   "id": "7253079f",
   "metadata": {},
   "outputs": [],
   "source": [
    "customer_ratings = [ '3 stars', '4 stars', '5 stars', '3 stars', '1 star', '5 stars', '4 stars']\n",
    "\n",
    "rating = int(customer_ratings[0][0])\n",
    "print(rating)"
   ]
  },
  {
   "cell_type": "code",
   "execution_count": null,
   "id": "d2f9ec2a",
   "metadata": {},
   "outputs": [],
   "source": [
    "empty_list = [] #tworzymy pusta liste aby zapisac dane do niej\n",
    "for rating in customer_ratings:\n",
    "    empty_list.append(int(rating[0])) #wybieramy pierwszy znak w wybranym elemencie listy\n",
    "    avg = (sum(empty_list)/ len(empty_list) )\n",
    "print(avg)\n",
    "print(empty_list)"
   ]
  },
  {
   "cell_type": "code",
   "execution_count": null,
   "id": "c6d05dc1",
   "metadata": {},
   "outputs": [],
   "source": [
    "exchange_rate = 0.88\n",
    "usd_list = [5.99, 5.88, 11.22, 32.99]\n",
    "euro_list = []\n",
    "\n",
    "for i in range(len(usd_list)):\n",
    "    euro_list.append(round(usd_list[i] * exchange_rate, 2))\n",
    "print(euro_list)"
   ]
  },
  {
   "cell_type": "code",
   "execution_count": null,
   "id": "eb05edd4",
   "metadata": {},
   "outputs": [],
   "source": [
    "usd_list = [5.99, 5.88, 11.22, 32.99]\n",
    "item_list =  ['Snowboard', ' Boots', 'Helmet', 'Google', 'Bindings']\n",
    "\n",
    "for i in range(len(usd_list)):\n",
    "    print(f' The {item_list[i].lower()} costs {usd_list[i]} euros.')\n",
    "    "
   ]
  },
  {
   "cell_type": "code",
   "execution_count": null,
   "id": "4eddee97",
   "metadata": {},
   "outputs": [],
   "source": [
    "inventory = [10, 15, 10, 15 , 8 , 27]\n",
    "prices = [2.99, 99.99, 219.99, 89.99, 29.99, 9.99]\n",
    "\n",
    "for i in range(len(inventory)):\n",
    "    print (f' Some kind of word {prices[i]} and another word {inventory[i]}')\n",
    "\n",
    "for index, item in enumerate(inventory):\n",
    "    price = prices[index]\n",
    "    print(f' item {index + 1}: Inventory - {item}, Price - ${price}')"
   ]
  },
  {
   "cell_type": "code",
   "execution_count": null,
   "id": "cafc034b",
   "metadata": {},
   "outputs": [],
   "source": [
    "inventory = [10, 15, 10, 15 , 8 , 27]\n",
    "prices = [2.99, 99.99, 219.99, 89.99, 29.99, 9.99]\n",
    "\n",
    "for i in range(len(inventory)):\n",
    "    print(i)\n",
    "\n"
   ]
  },
  {
   "cell_type": "code",
   "execution_count": null,
   "id": "dee41cd6",
   "metadata": {},
   "outputs": [],
   "source": [
    "inventory = [10, 15, 10, 15 , 8 , 27]\n",
    "prices = [2.99, 99.99, 219.99, 89.99, 29.99, 9.99]\n",
    "\n",
    "for i in range(len(inventory)):\n",
    "    print(round(inventory[i] * prices[i], 2))"
   ]
  },
  {
   "cell_type": "code",
   "execution_count": null,
   "id": "c88c771e",
   "metadata": {},
   "outputs": [],
   "source": [
    "product_values = [] #pusta lista \n",
    "for i in range(len(inventory)): #iterujemy po indeksach liscie inventory, ktora z poleceniem len zwraca calkowita liczbe elementow listy\n",
    "    product_values.append(round(inventory[i] * prices[i], 2)) #dodajemy do pustej listy stworzonej wyzej\n",
    "print(product_values) #drukujemy wynik"
   ]
  },
  {
   "cell_type": "code",
   "execution_count": null,
   "id": "013f22ba",
   "metadata": {},
   "outputs": [],
   "source": [
    "sum(product_values) #zliaczamy sume"
   ]
  },
  {
   "cell_type": "code",
   "execution_count": null,
   "id": "1641c8c4",
   "metadata": {},
   "outputs": [],
   "source": [
    "euro_list = [5.99, 5.88, 11.22, 32.99, 99.99]\n",
    "item_list =  ['Snowboard', ' Boots', 'Helmet', 'Google', 'Bindings']\n",
    "\n",
    "for index, element in enumerate(euro_list):\n",
    "    print(index, element)"
   ]
  },
  {
   "cell_type": "code",
   "execution_count": null,
   "id": "b376db5e",
   "metadata": {},
   "outputs": [],
   "source": [
    "item_names = [ 'Keychain', 'Helmet', 'Snowboard', 'Ski Poles', 'Sweatshit', 'Boots']\n",
    "inventories = [10, 14, 10, 15, 8 , 27]\n",
    "prices = [2.99, 99.99, 219.99, 89.99, 29.99, 9.99]\n",
    "\n",
    "product_values = []\n",
    "\n",
    "for i in range(len(inventories)):\n",
    "    product_values.append(round(inventories[i] * prices[i], 2))\n",
    "print(product_values)\n",
    "\n",
    "sum(product_values)"
   ]
  },
  {
   "cell_type": "code",
   "execution_count": null,
   "id": "d88ce9ab",
   "metadata": {},
   "outputs": [],
   "source": [
    "#enumerate\n",
    "\n",
    "item_names = [ 'Keychain', 'Helmet', 'Snowboard', 'Ski Poles', 'Sweatshit', 'Boots']\n",
    "inventories = [10, 14, 10, 15, 8 , 27]\n",
    "prices = [2.99, 99.99, 219.99, 89.99, 29.99, 9.99]\n",
    "\n",
    "product_values = []\n",
    "\n",
    "for i, inventory in enumerate(inventories):\n",
    "    product_value = round(inventory * prices[i], 2)\n",
    "    product_values.append(product_value) #nie potrzebujemy indexu [i] gdyz jest on zawarty w funkcji enumerate\n",
    "    print(f' We have ${product_value} wort of {item_names[i]}')\n",
    "print(product_values)\n",
    "\n",
    "sum(product_values)"
   ]
  },
  {
   "cell_type": "code",
   "execution_count": null,
   "id": "14b2ae60",
   "metadata": {
    "scrolled": true
   },
   "outputs": [],
   "source": [
    "counter = 0 \n",
    "while counter < 10:\n",
    "    counter += 1\n",
    "    print(counter)"
   ]
  },
  {
   "cell_type": "markdown",
   "id": "82ea6e0b",
   "metadata": {},
   "source": [
    "# Example number 1"
   ]
  },
  {
   "cell_type": "code",
   "execution_count": null,
   "id": "5f55f176",
   "metadata": {
    "scrolled": true
   },
   "outputs": [],
   "source": [
    "#starting portfolio balance is 800000\n",
    "stock_portfolio = 800000\n",
    "year_counter = 0\n",
    "\n",
    "while stock_portfolio < 1000000: #calculate annual investment income\n",
    "    investment_income = stock_portfolio * .05  # 5% interest rate\n",
    "    stock_portfolio += investment_income # add income to end of year portfolio balance\n",
    "    year_counter += 1 #add one each year\n",
    "    print(f' At the end of year {year_counter}:' + f' My balance is $ {round(stock_portfolio, 2)}')"
   ]
  },
  {
   "cell_type": "markdown",
   "id": "4f1efd2a",
   "metadata": {},
   "source": [
    "# Example number 2"
   ]
  },
  {
   "cell_type": "code",
   "execution_count": null,
   "id": "9df187b7",
   "metadata": {},
   "outputs": [],
   "source": [
    "#calculating bank balance until we're out of money\n",
    "bank_balance = 5000\n",
    "month_counter = 0 \n",
    "while bank_balance > 0:\n",
    "    spending = 1000\n",
    "    bank_balance -= spending\n",
    "    month_counter += 1\n",
    "    print(f' At the end of month {month_counter}: ' + f' My balance is ${round(bank_balance, 2)}')"
   ]
  },
  {
   "cell_type": "markdown",
   "id": "4f20b236",
   "metadata": {},
   "source": [
    "# while_loop_demo\n"
   ]
  },
  {
   "cell_type": "code",
   "execution_count": null,
   "id": "716b5484",
   "metadata": {},
   "outputs": [],
   "source": [
    "customer_ratings = [\n",
    "    '5 stars', '3 stars', '1 star', '4 stars', '7 stars', '4 stars', '5 stars','4 stars', '3 stars', '7 stars','5 stars', '1 star']\n"
   ]
  },
  {
   "cell_type": "code",
   "execution_count": null,
   "id": "b7f3bfec",
   "metadata": {
    "scrolled": true
   },
   "outputs": [],
   "source": [
    "onestar_counter = 0 \n",
    "\n",
    "while '1 star' in customer_ratings:\n",
    "    customer_ratings.remove('1 star')\n",
    "    onestar_counter += 1\n",
    "    print(onestar_counter)\n",
    "print(customer_ratings)\n",
    "    "
   ]
  },
  {
   "cell_type": "markdown",
   "id": "010af49f",
   "metadata": {},
   "source": [
    "# Demo Nested Loops"
   ]
  },
  {
   "cell_type": "code",
   "execution_count": null,
   "id": "c30b1be1",
   "metadata": {},
   "outputs": [],
   "source": [
    "items = ['skis', 'snowboards', 'googles', 'boots']\n",
    "\n",
    "item_reviews = [['5 stars', '3 stars', '1 star'],\n",
    "['5 stars', '2 stars'],\n",
    "['3 stars', '1 star'],\n",
    "['1 star']]\n",
    "\n"
   ]
  },
  {
   "cell_type": "code",
   "execution_count": null,
   "id": "4bcefa55",
   "metadata": {},
   "outputs": [],
   "source": [
    "item_reviews_numeric = []\n",
    "for item in item_reviews:\n",
    "    integer_ratings = []\n",
    "    for review in item:\n",
    "        integer_rating = int(review[0])\n",
    "        integer_ratings.append(integer_rating)\n",
    "    item_reviews_numeric.append(integer_ratings)\n",
    "print(item_reviews_numeric)"
   ]
  },
  {
   "cell_type": "code",
   "execution_count": null,
   "id": "0c6a41e3",
   "metadata": {
    "scrolled": true
   },
   "outputs": [],
   "source": [
    "for item in item_reviews_numeric:\n",
    "    print(sum(item)/len(item))\n",
    "    "
   ]
  },
  {
   "cell_type": "markdown",
   "id": "87ba4e6b",
   "metadata": {},
   "source": [
    "# Loop Control"
   ]
  },
  {
   "cell_type": "code",
   "execution_count": null,
   "id": "0fc75b42",
   "metadata": {},
   "outputs": [],
   "source": [
    "#break\n",
    "subtotals = [ 15.99, 899.99, 799.98, 117.98, 5.98, 599.99, 1799.95, 99.99]\n",
    "revenue = 0\n",
    "\n",
    "for subtotal in subtotals:\n",
    "    revenue += subtotal\n",
    "    print(round(revenue, 2))\n",
    "    if revenue > 2000:\n",
    "        break"
   ]
  },
  {
   "cell_type": "code",
   "execution_count": null,
   "id": "ecf7e55f",
   "metadata": {},
   "outputs": [],
   "source": [
    "#break statement\n",
    "\n",
    "stock_portfolio = 100\n",
    "year_counter = 0 \n",
    "\n",
    "while stock_portfolio < 1000000:\n",
    "    investment_income = stock_portfolio *.05\n",
    "    stock_portfolio += investment_income\n",
    "    year_counter += 1\n",
    "    print(f' My balacne is ${round(stock_portfolio)} in year {year_counter}')\n",
    "    if year_counter >= 30:\n",
    "        print(' Guess i need to save more')\n",
    "        break"
   ]
  },
  {
   "cell_type": "code",
   "execution_count": null,
   "id": "971939a0",
   "metadata": {},
   "outputs": [],
   "source": [
    "#continue statement\n",
    "\n",
    "item_list = ['ski-keychain', 'Helmet', 'Snowboard', 'Ski-Poles', 'Sweatshit', 'ski-Boots' ]\n",
    "snowboards = []\n",
    "for item in item_list:\n",
    "    if 'ski' in item:\n",
    "        continue\n",
    "    snowboards.append(item)\n",
    "print(snowboards)"
   ]
  },
  {
   "cell_type": "code",
   "execution_count": null,
   "id": "65d11844",
   "metadata": {},
   "outputs": [],
   "source": [
    "#pass statement\n",
    "item_list = ['ski-keychain', 'Helmet', 'Snowboard', 'Ski-Poles', 'Sweatshit', 'ski-Boots' ]\n",
    "snowboards = []\n",
    "for item in item_list:\n",
    "    if 'ski' in item:\n",
    "        pass\n",
    "    snowboards.append(item)\n",
    "print(snowboards)"
   ]
  },
  {
   "cell_type": "markdown",
   "id": "32b4d517",
   "metadata": {},
   "source": [
    "# Try and except"
   ]
  },
  {
   "cell_type": "code",
   "execution_count": null,
   "id": "23cde7b8",
   "metadata": {},
   "outputs": [],
   "source": [
    "price_list = [5.99, 5.88, None, 0, 11.22, '32.99', 99.99]\n",
    "for price in price_list:\n",
    "    try:\n",
    "        affordable_quantity = 50// price \n",
    "        print(f' i can buy {affordable_quantity} of these.')\n",
    "    except ZeroDivisionError:\n",
    "        print(\"You can't divded by zero\")\n",
    "    except:\n",
    "        print('The price seems to be missing')\n",
    "    "
   ]
  },
  {
   "cell_type": "markdown",
   "id": "59f8ca33",
   "metadata": {},
   "source": [
    "# loop_control_demo"
   ]
  },
  {
   "cell_type": "code",
   "execution_count": null,
   "id": "3843b0e8",
   "metadata": {},
   "outputs": [],
   "source": [
    "word = 'Maven'\n",
    "new_word=''\n",
    "\n",
    "for letter in word:\n",
    "    if letter in 'v':\n",
    "        break\n",
    "    new_word += letter\n",
    "print(new_word)"
   ]
  },
  {
   "cell_type": "code",
   "execution_count": null,
   "id": "c22f17f3",
   "metadata": {
    "scrolled": true
   },
   "outputs": [],
   "source": [
    "ratings = [ '1 star', '5 star',  'star 3', '4 star']\n",
    "for rating in ratings:\n",
    "    try:\n",
    "        print(int(rating[0]))\n",
    "    except ValueError:\n",
    "        print(\"wrong value\")"
   ]
  },
  {
   "cell_type": "markdown",
   "id": "fd78077b",
   "metadata": {},
   "source": [
    "# List Limitations"
   ]
  },
  {
   "cell_type": "code",
   "execution_count": null,
   "id": "770a1aca",
   "metadata": {},
   "outputs": [],
   "source": [
    "inventory_status = [['skis', 'in stock'], ['snowboard', 'sold out'],['googgles', 'sold out'],['boots', 'in stock']]\n",
    "item_looking_for = 'googgles'\n",
    "for item in inventory_status:\n",
    "    if item[0] == item_looking_for:\n",
    "        print(item[1])"
   ]
  },
  {
   "cell_type": "markdown",
   "id": "a6a42b5d",
   "metadata": {},
   "source": [
    "# Dictonary basic"
   ]
  },
  {
   "cell_type": "code",
   "execution_count": null,
   "id": "51058923",
   "metadata": {},
   "outputs": [],
   "source": [
    "inventory_status = {'skis': 'in stock',\n",
    "                   'snowboard': 'sold out',\n",
    "                   'goggles': 'sold out', 'boots': 'in stock'}\n",
    "inventory_status['skis']"
   ]
  },
  {
   "cell_type": "code",
   "execution_count": null,
   "id": "dced6efe",
   "metadata": {},
   "outputs": [],
   "source": [
    "inventory_details = {'skis': [244.99, 10, 'in stock'],\n",
    "                   'snowboard': [432.12, 12, 'sold out'],\n",
    "                   'goggles': [542.45, 45, 'sold out'], 'boots': [678.98, 32, 'in stock']}\n",
    "inventory_details['skis']"
   ]
  },
  {
   "cell_type": "code",
   "execution_count": null,
   "id": "e70fbcb1",
   "metadata": {},
   "outputs": [],
   "source": [
    "inventory_details['skis'][1]"
   ]
  },
  {
   "cell_type": "markdown",
   "id": "fb43bcff",
   "metadata": {},
   "source": [
    "# Modyfying dictionaries"
   ]
  },
  {
   "cell_type": "code",
   "execution_count": null,
   "id": "cb2e38b7",
   "metadata": {},
   "outputs": [],
   "source": [
    "item_details = {'skis': [244.99, 10, 'in stock'],\n",
    "                   'snowboard': [432.12, 12, 'sold out'],\n",
    "                   'goggles': [542.45, 45, 'sold out'], 'boots': [678.98, 32, 'in stock']}"
   ]
  },
  {
   "cell_type": "code",
   "execution_count": null,
   "id": "797904b5",
   "metadata": {},
   "outputs": [],
   "source": [
    "item_details['bindings'] = [149.99, 4, 'in stock']\n",
    "print(item_details)"
   ]
  },
  {
   "cell_type": "code",
   "execution_count": null,
   "id": "b447d8ea",
   "metadata": {},
   "outputs": [],
   "source": [
    "item_details['bindings'] = [139.99, 0, 'out of stock']\n",
    "item_details"
   ]
  },
  {
   "cell_type": "code",
   "execution_count": null,
   "id": "8a1bb77c",
   "metadata": {},
   "outputs": [],
   "source": [
    "del item_details['boots']\n",
    "print(item_details)"
   ]
  },
  {
   "cell_type": "markdown",
   "id": "2f83fec1",
   "metadata": {},
   "source": [
    "# dictionary_operations_demo"
   ]
  },
  {
   "cell_type": "code",
   "execution_count": null,
   "id": "d40801d8",
   "metadata": {},
   "outputs": [],
   "source": [
    "item_prices = {\n",
    "    'skis': 249.99,\n",
    "    'snowboard': 219.99,\n",
    "    'goggles': 99.99,\n",
    "    'boots': [79.99, 89.99]\n",
    "}"
   ]
  },
  {
   "cell_type": "code",
   "execution_count": null,
   "id": "6cc2f178",
   "metadata": {},
   "outputs": [],
   "source": [
    "print(item_prices)"
   ]
  },
  {
   "cell_type": "code",
   "execution_count": null,
   "id": "43d59da2",
   "metadata": {},
   "outputs": [],
   "source": [
    "print(item_prices['skis'])"
   ]
  },
  {
   "cell_type": "code",
   "execution_count": null,
   "id": "fe24f871",
   "metadata": {},
   "outputs": [],
   "source": [
    "print(item_prices['boots'][1])"
   ]
  },
  {
   "cell_type": "code",
   "execution_count": null,
   "id": "9dedb700",
   "metadata": {},
   "outputs": [],
   "source": [
    "print(item_prices['hat'])"
   ]
  },
  {
   "cell_type": "code",
   "execution_count": null,
   "id": "04e59b51",
   "metadata": {},
   "outputs": [],
   "source": [
    "print(item_prices[1])"
   ]
  },
  {
   "cell_type": "code",
   "execution_count": null,
   "id": "ac9a85df",
   "metadata": {},
   "outputs": [],
   "source": [
    "'skis' in item_prices"
   ]
  },
  {
   "cell_type": "code",
   "execution_count": null,
   "id": "2f8099c0",
   "metadata": {},
   "outputs": [],
   "source": [
    "for item in item_prices:\n",
    "    print(item)"
   ]
  },
  {
   "cell_type": "code",
   "execution_count": null,
   "id": "5238e6b3",
   "metadata": {},
   "outputs": [],
   "source": [
    "item_prices['skis'] = round(item_prices['skis'] * 1.1, 2)\n",
    "print(item_prices)"
   ]
  },
  {
   "cell_type": "code",
   "execution_count": null,
   "id": "8e18e757",
   "metadata": {},
   "outputs": [],
   "source": [
    "item_prices['hat'] = 14.99"
   ]
  },
  {
   "cell_type": "code",
   "execution_count": null,
   "id": "60654006",
   "metadata": {},
   "outputs": [],
   "source": [
    "print(item_prices)"
   ]
  },
  {
   "cell_type": "code",
   "execution_count": null,
   "id": "33421c43",
   "metadata": {},
   "outputs": [],
   "source": [
    "new_items = ['coffee', 'helmet']\n",
    "new_prices = [5.99, 99.99]"
   ]
  },
  {
   "cell_type": "code",
   "execution_count": null,
   "id": "65a6518a",
   "metadata": {},
   "outputs": [],
   "source": [
    "for i, item in enumerate(new_items):\n",
    "    item_prices[item] = new_prices[i]\n",
    "print(item_prices)"
   ]
  },
  {
   "cell_type": "code",
   "execution_count": null,
   "id": "704c2023",
   "metadata": {},
   "outputs": [],
   "source": [
    "del item_prices['coffee']"
   ]
  },
  {
   "cell_type": "code",
   "execution_count": null,
   "id": "d61b2acd",
   "metadata": {},
   "outputs": [],
   "source": [
    "print(item_prices)"
   ]
  },
  {
   "cell_type": "code",
   "execution_count": null,
   "id": "576f4c14",
   "metadata": {},
   "outputs": [],
   "source": [
    "del item_prices['boots'][1]"
   ]
  },
  {
   "cell_type": "code",
   "execution_count": null,
   "id": "d528734b",
   "metadata": {},
   "outputs": [],
   "source": [
    "print(item_prices)"
   ]
  },
  {
   "cell_type": "code",
   "execution_count": null,
   "id": "ca098c8d",
   "metadata": {},
   "outputs": [],
   "source": [
    "item_prices['boots'][0] = 79.99"
   ]
  },
  {
   "cell_type": "code",
   "execution_count": null,
   "id": "6d2616eb",
   "metadata": {},
   "outputs": [],
   "source": [
    "print(item_prices)\n"
   ]
  },
  {
   "cell_type": "code",
   "execution_count": null,
   "id": "226c769f",
   "metadata": {},
   "outputs": [],
   "source": [
    "item_prices['boots'][0] = 89.99"
   ]
  },
  {
   "cell_type": "code",
   "execution_count": null,
   "id": "792ddcca",
   "metadata": {},
   "outputs": [],
   "source": [
    "print(item_prices)\n",
    "\n"
   ]
  },
  {
   "cell_type": "markdown",
   "id": "be54beff",
   "metadata": {},
   "source": [
    "# Keys & Values Methods"
   ]
  },
  {
   "cell_type": "code",
   "execution_count": null,
   "id": "a630593f",
   "metadata": {},
   "outputs": [],
   "source": [
    "#.keys()\n",
    "item_details = {'skis': [244.99, 10, 'in stock'],\n",
    "                   'snowboard': [432.12, 12, 'sold out'],\n",
    "                   'goggles': [542.45, 45, 'sold out'], 'boots': [678.98, 32, 'in stock']}\n",
    "print(item_details.keys())"
   ]
  },
  {
   "cell_type": "code",
   "execution_count": null,
   "id": "e4fd6fc8",
   "metadata": {},
   "outputs": [],
   "source": [
    "for item in item_details.keys():\n",
    "    print(item)"
   ]
  },
  {
   "cell_type": "code",
   "execution_count": null,
   "id": "c9ebb15c",
   "metadata": {},
   "outputs": [],
   "source": [
    "key_list = list(item_details.keys())\n",
    "print(key_list)"
   ]
  },
  {
   "cell_type": "code",
   "execution_count": null,
   "id": "9d68a920",
   "metadata": {},
   "outputs": [],
   "source": [
    "#.values()\n",
    "item_details = {'skis': [244.99, 10, 'in stock'],\n",
    "                   'snowboard': [432.12, 12, 'sold out'],\n",
    "                   'goggles': [542.45, 45, 'sold out'], 'boots': [678.98, 32, 'in stock']}\n",
    "print(item_details.values())"
   ]
  },
  {
   "cell_type": "code",
   "execution_count": null,
   "id": "c0f3c5c0",
   "metadata": {},
   "outputs": [],
   "source": [
    "price_list = []\n",
    "for attribute in item_details.values():\n",
    "    price_list.append(attribute[0])\n",
    "print(price_list)"
   ]
  },
  {
   "cell_type": "code",
   "execution_count": null,
   "id": "9a3c2e48",
   "metadata": {},
   "outputs": [],
   "source": [
    "#.items()\n",
    "item_details = {'skis': [244.99, 10,],\n",
    "                   'snowboard': [432.12, 12],\n",
    "                   'goggles': [542.45, 45], 'boots': [678.98, 32]}\n",
    "print(item_details.items())"
   ]
  },
  {
   "cell_type": "code",
   "execution_count": null,
   "id": "3cb18492",
   "metadata": {},
   "outputs": [],
   "source": [
    "for key, value in item_details.items():\n",
    "    print(f' The {key} costs {value[0]}.')"
   ]
  },
  {
   "cell_type": "code",
   "execution_count": null,
   "id": "473d589e",
   "metadata": {},
   "outputs": [],
   "source": [
    "#.get()\n",
    "item_details = {'skis': [244.99, 10, 'in stock'],\n",
    "                   'snowboard': [432.12, 12, 'sold out'],\n",
    "                   'goggles': [542.45, 45, 'sold out'], 'boots': [678.98, 32, 'in stock']}\n",
    "print(item_details.get('boots'))"
   ]
  },
  {
   "cell_type": "code",
   "execution_count": null,
   "id": "bfba92fd",
   "metadata": {},
   "outputs": [],
   "source": [
    "print(item_details.get('bindings', \"Sorry we don't carry that item.\"))"
   ]
  },
  {
   "cell_type": "code",
   "execution_count": null,
   "id": "6c738821",
   "metadata": {},
   "outputs": [],
   "source": [
    "#.update()\n",
    "item_details = {'skis': [244.99, 10, 'in stock'],\n",
    "                   'snowboard': [432.12, 12, 'sold out'],\n",
    "                   'goggles': [542.45, 45, 'sold out'], 'boots': [678.98, 32, 'in stock']}\n",
    "item_details.update({'bindings':[234.23, 11, 'out of stock']})\n",
    "print(item_details)"
   ]
  },
  {
   "cell_type": "code",
   "execution_count": null,
   "id": "e00564f3",
   "metadata": {},
   "outputs": [],
   "source": [
    "new_items = {'scarf': [19.99, 100, 'in stock'], 'snowpants': 'N/A'}\n",
    "item_details.update(new_items)\n",
    "print(item_details)"
   ]
  },
  {
   "cell_type": "markdown",
   "id": "3d42f7b3",
   "metadata": {},
   "source": [
    "# dictionary_methods_demo"
   ]
  },
  {
   "cell_type": "code",
   "execution_count": null,
   "id": "e2227a88",
   "metadata": {},
   "outputs": [],
   "source": [
    "customer_sales = {\n",
    "    'C00001': [224.22, 89.99],\n",
    "    'C00004': [34.77],\n",
    "    'C00014': [44.99, 89.99, 67.99],\n",
    "    'C00015': [34.99, 19.99, 47.99]\n",
    "    \n",
    "}"
   ]
  },
  {
   "cell_type": "code",
   "execution_count": null,
   "id": "ef5cc319",
   "metadata": {},
   "outputs": [],
   "source": [
    "print(customer_sales)"
   ]
  },
  {
   "cell_type": "code",
   "execution_count": null,
   "id": "5811245f",
   "metadata": {},
   "outputs": [],
   "source": [
    "print(customer_sales.keys())"
   ]
  },
  {
   "cell_type": "code",
   "execution_count": null,
   "id": "be058446",
   "metadata": {},
   "outputs": [],
   "source": [
    "customer_ids = list(customer_sales.keys())"
   ]
  },
  {
   "cell_type": "code",
   "execution_count": null,
   "id": "3a576d3f",
   "metadata": {},
   "outputs": [],
   "source": [
    "print(customer_ids)"
   ]
  },
  {
   "cell_type": "code",
   "execution_count": null,
   "id": "635c7938",
   "metadata": {},
   "outputs": [],
   "source": [
    "print(list(customer_sales.values()))"
   ]
  },
  {
   "cell_type": "code",
   "execution_count": null,
   "id": "528826da",
   "metadata": {},
   "outputs": [],
   "source": [
    "for sales in customer_sales.values():\n",
    "    print(sales)"
   ]
  },
  {
   "cell_type": "code",
   "execution_count": null,
   "id": "459dfac6",
   "metadata": {},
   "outputs": [],
   "source": [
    "total_sales = {}\n",
    "for customer_id, sales in customer_sales.items():\n",
    "    total_sales[customer_id] = (sales)\n",
    "print(total_sales)"
   ]
  },
  {
   "cell_type": "code",
   "execution_count": null,
   "id": "9633a525",
   "metadata": {},
   "outputs": [],
   "source": [
    "vip_customers = ['C00001', 'C00003', 'C00014' ]\n",
    "for customer in vip_customers:\n",
    "    print(customer_sales.get(customer, 'No longer VIP'))"
   ]
  },
  {
   "cell_type": "code",
   "execution_count": null,
   "id": "ab58accc",
   "metadata": {},
   "outputs": [],
   "source": [
    "new_customers = {'C00005': [105.44], 'C00022': [28.99] }\n",
    "customer_sales.update(new_customers)\n",
    "\n",
    "print(customer_sales)"
   ]
  },
  {
   "cell_type": "markdown",
   "id": "06f5d3ab",
   "metadata": {},
   "source": [
    "# exercises repeat"
   ]
  },
  {
   "cell_type": "code",
   "execution_count": null,
   "id": "6875dd25",
   "metadata": {},
   "outputs": [],
   "source": [
    "item_dict = {\n",
    "    10001: ('Coffee', 5.99, 'beverage', ['250mL']),\n",
    "    10002: ('Beanie', 9.99, 'clothing', ['Child', 'Adult']),\n",
    "    10003: ('Gloves', 19.99, 'clothing', ['Child', 'Adult']),\n",
    "    10004: ('Sweatshirt', 24.99, 'clothing', ['XS', 'S', 'M', 'L', 'XL', 'XXL']),\n",
    "    10005: ('Helmet', 99.99, 'safety', ['Child', 'Adult']),\n",
    "    10006: ('Snow Pants', 79.99, 'clothing', ['XS', 'S', 'M', 'L', 'XL', 'XXL']),\n",
    "    10007: ('Coat', 119.99, 'clothing', ['S', 'M', 'L']),\n",
    "    10008: ('Ski Poles', 99.99, 'hardware', ['S', 'M', 'L']),\n",
    "    10009: ('Ski Boots', 199.99, 'hardware', [5, 6, 7, 8, 9, 10, 11])\n",
    "}"
   ]
  },
  {
   "cell_type": "code",
   "execution_count": null,
   "id": "f0eccd3b",
   "metadata": {},
   "outputs": [],
   "source": [
    "size_counts = {}\n",
    "\n",
    "for key, value in item_dict.items():\n",
    "    size_counts[key] = len(value[3])\n",
    "print(size_counts)"
   ]
  },
  {
   "cell_type": "code",
   "execution_count": null,
   "id": "bd20ef54",
   "metadata": {},
   "outputs": [],
   "source": [
    "\n",
    "new_item_dict = {'11111': 399, '11234': 8, '10033': [898]}\n",
    "item_dict.update(new_item_dict)\n",
    "print(item_dict)\n",
    "\n"
   ]
  },
  {
   "cell_type": "code",
   "execution_count": null,
   "id": "7790b394",
   "metadata": {},
   "outputs": [],
   "source": [
    "exchange_rate = .88 #definujemy zmienna o podanej wartosci\n",
    "euro_prices = [] #definujemy pusta liste\n",
    "for value in item_dict.values(): #rozpoczynamy petle for, ktora iteruje przez wartosc slownika item_dict.\n",
    "    euro_prices.append(round(value[1] * exchange_rate, 2)) #w wewntarz petli dla kazdej wartosci z item_dict obliczamy cene w euro\n",
    "print(euro_prices) #wypisujemy liste zawierajaca zaktualizowane ceny o kurs wymiany euro\n",
    "    \n"
   ]
  },
  {
   "cell_type": "markdown",
   "id": "2b812c89",
   "metadata": {},
   "source": [
    "# Zip function"
   ]
  },
  {
   "cell_type": "code",
   "execution_count": null,
   "id": "72d7fb2b",
   "metadata": {},
   "outputs": [],
   "source": [
    "item_list = ['skis', 'snowboard', 'goggles', 'boots']\n",
    "price_list = [249.99, 219.99, 99.99, 79.99]\n",
    "inventory = [10, 0, 0, 7]\n",
    "zip(price_list, inventory)"
   ]
  },
  {
   "cell_type": "code",
   "execution_count": null,
   "id": "07c80acd",
   "metadata": {},
   "outputs": [],
   "source": [
    "item_attributes = list(zip(price_list, inventory))\n",
    "\n",
    "print(item_attributes)"
   ]
  },
  {
   "cell_type": "code",
   "execution_count": null,
   "id": "0c604c8e",
   "metadata": {},
   "outputs": [],
   "source": [
    "list(zip(item_list, price_list, inventory))"
   ]
  },
  {
   "cell_type": "code",
   "execution_count": null,
   "id": "ca4d8f18",
   "metadata": {},
   "outputs": [],
   "source": [
    "item_details = [[249.99, 10, 'in stock'],\n",
    "               [222.99, 0, 'sold out'],\n",
    "               [99.99, 0, 'sold out'],\n",
    "               [79.99, 7, ' in stock']]\n",
    "item_names = ['skis', 'snowboard', 'goggles', 'boots']\n",
    "item_dict = dict(zip(item_names, item_details))\n",
    "print(item_dict)\n"
   ]
  },
  {
   "cell_type": "code",
   "execution_count": null,
   "id": "05c54941",
   "metadata": {},
   "outputs": [],
   "source": [
    "dict(zip(item_list, price_list, inventory)) #mozemy dodac jedynie dwa argumenty do zip function kiedy tworzymy dictionary"
   ]
  },
  {
   "cell_type": "code",
   "execution_count": null,
   "id": "4879cd85",
   "metadata": {},
   "outputs": [],
   "source": [
    "item_dict = dict(zip(item_list, zip(price_list, inventory)))\n",
    "print(item_dict)"
   ]
  },
  {
   "cell_type": "markdown",
   "id": "3829f9f6",
   "metadata": {},
   "source": [
    "# nested dictionaries"
   ]
  },
  {
   "cell_type": "code",
   "execution_count": null,
   "id": "1fcf830e",
   "metadata": {},
   "outputs": [],
   "source": [
    "item_history = { \n",
    "2019: {'skis': [249.99, 10 , 'in stock'], 'snowboard': [219.99, 0, 'sold out']},\n",
    "2020: {'skis': [259.99, 10 , 'in stock'], 'snowboard': [229.99, 0, 'sold out']},\n",
    "2021: {'skis': [289.99, 10 , 'in stock'], 'snowboard': [239.99, 0, 'sold out']},}\n",
    "\n",
    "print(item_history)"
   ]
  },
  {
   "cell_type": "code",
   "execution_count": null,
   "id": "07ace76e",
   "metadata": {},
   "outputs": [],
   "source": [
    "print(item_history[2020])"
   ]
  },
  {
   "cell_type": "code",
   "execution_count": null,
   "id": "7a5bd12c",
   "metadata": {},
   "outputs": [],
   "source": [
    "print(item_history[2020]['skis'])\n"
   ]
  },
  {
   "cell_type": "markdown",
   "id": "b9093218",
   "metadata": {},
   "source": [
    "# nested dicttionaries_demo"
   ]
  },
  {
   "cell_type": "code",
   "execution_count": null,
   "id": "2d8d957f",
   "metadata": {},
   "outputs": [],
   "source": [
    "economic_data = {\n",
    "    'India': {\n",
    "        'Delhi': {'population': 241, 'gdp': 220},\n",
    "        'Rajasthan': {'population': 200, 'gdp': 130},\n",
    "    },\n",
    "    'China': {\n",
    "        'India': {\n",
    "            'Peking': {'population': 126, 'gdp': 1960},\n",
    "            'Beijing': {'population': 42, 'gdp': 757},\n",
    "        },\n",
    "    }\n",
    "}\n"
   ]
  },
  {
   "cell_type": "code",
   "execution_count": null,
   "id": "b7db689a",
   "metadata": {},
   "outputs": [],
   "source": [
    "print(economic_data['India'])\n"
   ]
  },
  {
   "cell_type": "code",
   "execution_count": null,
   "id": "e8621e50",
   "metadata": {},
   "outputs": [],
   "source": [
    "print(economic_data['India']['Delhi']['population'])"
   ]
  },
  {
   "cell_type": "code",
   "execution_count": null,
   "id": "5a11a27b",
   "metadata": {},
   "outputs": [],
   "source": [
    "population = []\n",
    "for state in economic_data['India'].values():\n",
    "    population.append(state['population'])\n",
    "print(population)"
   ]
  },
  {
   "cell_type": "markdown",
   "id": "8ec18663",
   "metadata": {},
   "source": [
    "# SET"
   ]
  },
  {
   "cell_type": "code",
   "execution_count": null,
   "id": "295718e0",
   "metadata": {},
   "outputs": [],
   "source": [
    "my_set = {'snowboard','snowboard', 'skis', 'snowboard', 'sled'}\n",
    "print(my_set)\n"
   ]
  },
  {
   "cell_type": "code",
   "execution_count": null,
   "id": "1afa5fb7",
   "metadata": {},
   "outputs": [],
   "source": [
    "my_set = set(['snowboard','snowboard', 'skis', 'snowboard', 'sled'])\n",
    "print(my_set)\n"
   ]
  },
  {
   "cell_type": "code",
   "execution_count": null,
   "id": "20837ed7",
   "metadata": {},
   "outputs": [],
   "source": [
    "print(my_set)"
   ]
  },
  {
   "cell_type": "code",
   "execution_count": null,
   "id": "cf23c91d",
   "metadata": {},
   "outputs": [],
   "source": [
    "'snowboard' in my_set"
   ]
  },
  {
   "cell_type": "code",
   "execution_count": null,
   "id": "30bd92d4",
   "metadata": {},
   "outputs": [],
   "source": [
    "for value in my_set:\n",
    "    print(value)"
   ]
  },
  {
   "cell_type": "markdown",
   "id": "09e1b56e",
   "metadata": {},
   "source": [
    "# Sets_demo"
   ]
  },
  {
   "cell_type": "code",
   "execution_count": null,
   "id": "ed17cbd0",
   "metadata": {},
   "outputs": [],
   "source": [
    "transactions1 = ['snowboard', ' helmet', 'boots', 'hat', 'sweater', 'sweater']\n",
    "transactions2 = ['snowboard', ' skis', 'boots', 'hat', 'coffee', 'sweater']\n",
    "transactions3 = [' helmet', 'snowboard', 'boots',  'sweater', 'ski poles']\n",
    "a_new_list = [transactions1 + transactions2 + transactions3]\n",
    "print(a_new_list)\n"
   ]
  },
  {
   "cell_type": "code",
   "execution_count": null,
   "id": "3e4e7930",
   "metadata": {},
   "outputs": [],
   "source": [
    "set(transactions1)"
   ]
  },
  {
   "cell_type": "code",
   "execution_count": null,
   "id": "972bcb07",
   "metadata": {},
   "outputs": [],
   "source": [
    "value = 'sweater' in transactions1\n",
    "print(value)"
   ]
  },
  {
   "cell_type": "code",
   "execution_count": null,
   "id": "84b721b1",
   "metadata": {},
   "outputs": [],
   "source": [
    "transactions1.count('sweater') #sprawdzamy ile danych wartosci jest w secie"
   ]
  },
  {
   "cell_type": "code",
   "execution_count": null,
   "id": "398c7eda",
   "metadata": {},
   "outputs": [],
   "source": [
    "len(set(transactions1))"
   ]
  },
  {
   "cell_type": "code",
   "execution_count": null,
   "id": "487b0220",
   "metadata": {},
   "outputs": [],
   "source": [
    "'boots' in set(transactions1)"
   ]
  },
  {
   "cell_type": "code",
   "execution_count": null,
   "id": "90f59db2",
   "metadata": {},
   "outputs": [],
   "source": [
    "len(set(transactions1 + transactions2 + transactions3))\n"
   ]
  },
  {
   "cell_type": "markdown",
   "id": "f366acf8",
   "metadata": {},
   "source": [
    "## Set operations"
   ]
  },
  {
   "cell_type": "code",
   "execution_count": null,
   "id": "0ddd9cd2",
   "metadata": {},
   "outputs": [],
   "source": [
    "#Union"
   ]
  },
  {
   "cell_type": "code",
   "execution_count": null,
   "id": "97683f3c",
   "metadata": {},
   "outputs": [],
   "source": [
    "friday_items = {'snowboard', ' helmet', 'boots', 'hat', 'sweater', 'sweater'}\n",
    "saturday_items = {'snowboard', ' skis', 'boots', 'hat', 'coffee', 'sweater'}\n",
    "\n",
    "friday_items.union(saturday_items)"
   ]
  },
  {
   "cell_type": "code",
   "execution_count": null,
   "id": "2e973fb0",
   "metadata": {},
   "outputs": [],
   "source": [
    "sunday_items = {'coffee'}\n",
    "friday_items.union(saturday_items).union(sunday_items)"
   ]
  },
  {
   "cell_type": "code",
   "execution_count": null,
   "id": "a882521e",
   "metadata": {},
   "outputs": [],
   "source": [
    "#intersection"
   ]
  },
  {
   "cell_type": "code",
   "execution_count": null,
   "id": "ba247104",
   "metadata": {},
   "outputs": [],
   "source": [
    "friday_items = {'snowboard', ' helmet', 'boots', 'hat', 'sweater', 'sweater'}\n",
    "saturday_items = {'snowboard', ' skis', 'boots', 'hat', 'coffee', 'sweater'}\n",
    "friday_items.intersection(saturday_items)"
   ]
  },
  {
   "cell_type": "code",
   "execution_count": null,
   "id": "e9e1acf4",
   "metadata": {},
   "outputs": [],
   "source": [
    "sunday_items = {'coffee'}\n",
    "friday_items.intersection(saturday_items).intersection(sunday_items)\n"
   ]
  },
  {
   "cell_type": "code",
   "execution_count": null,
   "id": "6086e25f",
   "metadata": {},
   "outputs": [],
   "source": [
    "#difference"
   ]
  },
  {
   "cell_type": "code",
   "execution_count": null,
   "id": "36e2fd61",
   "metadata": {},
   "outputs": [],
   "source": [
    "friday_items = {'snowboard', ' helmet', 'boots', 'hat', 'sweater', 'sweater'}\n",
    "saturday_items = {'snowboard', ' skis', 'boots', 'hat', 'coffee', 'sweater'}\n",
    "friday_items.difference(saturday_items)"
   ]
  },
  {
   "cell_type": "code",
   "execution_count": null,
   "id": "d3590426",
   "metadata": {},
   "outputs": [],
   "source": [
    "saturday_items - friday_items\n",
    "{'goggles', 'helmet'}"
   ]
  },
  {
   "cell_type": "code",
   "execution_count": null,
   "id": "a6c81933",
   "metadata": {},
   "outputs": [],
   "source": [
    "#symmetric_difference"
   ]
  },
  {
   "cell_type": "code",
   "execution_count": null,
   "id": "5715f971",
   "metadata": {
    "scrolled": true
   },
   "outputs": [],
   "source": [
    "friday_items = {'snowboard', ' helmet', 'boots', 'hat', 'sweater', 'sweater'}\n",
    "saturday_items = {'snowboard', ' skis', 'boots', 'hat', 'coffee', 'sweater'}\n",
    "\n",
    "friday_items.symmetric_difference(saturday_items)"
   ]
  },
  {
   "cell_type": "code",
   "execution_count": null,
   "id": "5add48b4",
   "metadata": {},
   "outputs": [],
   "source": [
    "time_list = list(range(1000000))\n",
    "time_set = set(range(1000000))\n",
    "\n"
   ]
  },
  {
   "cell_type": "code",
   "execution_count": null,
   "id": "8657c373",
   "metadata": {},
   "outputs": [],
   "source": [
    "%%time\n",
    "1000000 in time_list\n"
   ]
  },
  {
   "cell_type": "code",
   "execution_count": null,
   "id": "7eabdea4",
   "metadata": {},
   "outputs": [],
   "source": [
    "%%time\n",
    "1000000 in time_set"
   ]
  },
  {
   "cell_type": "code",
   "execution_count": null,
   "id": "42becd4f",
   "metadata": {},
   "outputs": [],
   "source": [
    "shipment_today = ['snowboard', 'helmet', 'boots', 'hat', 'sweater', 'sweater']\n",
    "shipment_yesterday = ['snowboard', 'googles', 'boots', 'hat', 'sweater']\n",
    "\n",
    "unique_today = []\n",
    "for item_t in shipment_today:\n",
    "    if item_t  not in shipment_yesterday:\n",
    "        if item_t not in unique_today:\n",
    "            unique_today.append(item_t)\n",
    "print(unique_today)\n"
   ]
  },
  {
   "cell_type": "code",
   "execution_count": null,
   "id": "65b4746a",
   "metadata": {},
   "outputs": [],
   "source": [
    "%%time\n",
    "list(set(shipment_today))"
   ]
  },
  {
   "cell_type": "code",
   "execution_count": null,
   "id": "5ee8e40c",
   "metadata": {},
   "outputs": [],
   "source": [
    "%%time\n",
    "unique_items = []\n",
    "for item in shipment_today:\n",
    "    if item not in unique_items:\n",
    "        unique_items.append(item)\n",
    "print(unique_items)"
   ]
  },
  {
   "cell_type": "code",
   "execution_count": null,
   "id": "759cc85c",
   "metadata": {},
   "outputs": [],
   "source": [
    "set(shipment_today).difference(set(shipment_yesterday))"
   ]
  },
  {
   "cell_type": "markdown",
   "id": "78a4f08d",
   "metadata": {},
   "source": [
    "# sets_operation_demo"
   ]
  },
  {
   "cell_type": "code",
   "execution_count": null,
   "id": "441d4bb9",
   "metadata": {},
   "outputs": [],
   "source": [
    "transaction1 = {'snowboard', ' helmet', 'boots', 'hat', 'sweater', 'sweater'}\n",
    "transaction2 = {'helmet', ' skis', 'boots', 'hat', 'coffee', 'sweater'}\n",
    "transaction3 = {'snowboard', ' skis', 'boots', 'hat', 'coffee', 'skis poles '}"
   ]
  },
  {
   "cell_type": "code",
   "execution_count": null,
   "id": "edbe5975",
   "metadata": {},
   "outputs": [],
   "source": [
    "transaction1_set = set(transaction1)\n",
    "transaction2_set = set(transaction2)\n",
    "transaction3_set = set(transaction3)"
   ]
  },
  {
   "cell_type": "code",
   "execution_count": null,
   "id": "cbf68db4",
   "metadata": {},
   "outputs": [],
   "source": [
    "non_sale_set = transaction1_set.union(transaction3_set)\n",
    "print(non_sale_set)"
   ]
  },
  {
   "cell_type": "code",
   "execution_count": null,
   "id": "4c9cd98a",
   "metadata": {},
   "outputs": [],
   "source": [
    "transaction2_set.intersection(non_sale_set)"
   ]
  },
  {
   "cell_type": "code",
   "execution_count": null,
   "id": "efeddfe7",
   "metadata": {},
   "outputs": [],
   "source": [
    "transaction2_set.difference(non_sale_set)"
   ]
  },
  {
   "cell_type": "code",
   "execution_count": null,
   "id": "3d8bd850",
   "metadata": {},
   "outputs": [],
   "source": [
    "transaction2_set - non_sale_set"
   ]
  },
  {
   "cell_type": "code",
   "execution_count": null,
   "id": "7d5faa3e",
   "metadata": {},
   "outputs": [],
   "source": [
    "non_sale_set.symmetric_difference(transaction2_set)"
   ]
  },
  {
   "cell_type": "markdown",
   "id": "e055d673",
   "metadata": {},
   "source": [
    "# ASSIGNMENT: Set Operations"
   ]
  },
  {
   "cell_type": "code",
   "execution_count": null,
   "id": "a9499fa3",
   "metadata": {},
   "outputs": [],
   "source": [
    "vaule_01 = 'ASSIGNMENT: Set Operations'\n",
    "print(vaule_01.lower().replace(' ', '').replace(':','_'))"
   ]
  },
  {
   "cell_type": "markdown",
   "id": "f3ccea70",
   "metadata": {},
   "source": [
    "# # The anatomy of max"
   ]
  },
  {
   "cell_type": "code",
   "execution_count": null,
   "id": "c3c88176",
   "metadata": {},
   "outputs": [],
   "source": [
    "price_list = [5.99, 19.99, 24.99, 0, 74.99, 99.99]\n",
    "max(price_list)"
   ]
  },
  {
   "cell_type": "markdown",
   "id": "b8356ff3",
   "metadata": {},
   "source": [
    "## Defining a function"
   ]
  },
  {
   "cell_type": "code",
   "execution_count": null,
   "id": "d9e02f39",
   "metadata": {},
   "outputs": [],
   "source": [
    "def concatenator(string1, string2):\n",
    "    combined_string = string1 + ' ' + string2\n",
    "    return combined_string\n",
    "concatenator('Hello', 'world!')"
   ]
  },
  {
   "cell_type": "code",
   "execution_count": null,
   "id": "e88aaf46",
   "metadata": {},
   "outputs": [],
   "source": [
    "def concatenator(string1, string2):\n",
    "    combined_string = string1 + ' ' + string2"
   ]
  },
  {
   "cell_type": "markdown",
   "id": "76bb5948",
   "metadata": {},
   "source": [
    " ## The docstring"
   ]
  },
  {
   "cell_type": "code",
   "execution_count": null,
   "id": "bb7e0557",
   "metadata": {},
   "outputs": [],
   "source": [
    "def concatenator(string1, string2):\n",
    "    \"\"\" combines two strings, separated with a space \n",
    "    \n",
    "    Args:\n",
    "        string1 (srt): string to put before space\n",
    "        string2 (str): string to put after space\n",
    "    Returns:\n",
    "        str: string1 and string2 separated by a space\n",
    "    \"\"\"\n",
    "    return string1 + \" \" + string2"
   ]
  },
  {
   "cell_type": "markdown",
   "id": "8ca25d78",
   "metadata": {},
   "source": [
    "## Demo definig a function"
   ]
  },
  {
   "cell_type": "code",
   "execution_count": null,
   "id": "a52a86aa",
   "metadata": {},
   "outputs": [],
   "source": [
    "item_ratings = [[ '5 star', '1 star', '3 stars'],\n",
    "    ['5 stars', '4 stars'],\n",
    "    ['4 stars', '2 stars'],\n",
    "    ['1 star']]"
   ]
  },
  {
   "cell_type": "code",
   "execution_count": null,
   "id": "c366b023",
   "metadata": {},
   "outputs": [],
   "source": [
    "def rating_cleaner(rating):\n",
    "    numeric_rating = int(rating[0])\n",
    "    return numeric_rating\n",
    "\n",
    "print(rating_cleaner('5 stars'))"
   ]
  },
  {
   "cell_type": "code",
   "execution_count": null,
   "id": "12cd1692",
   "metadata": {},
   "outputs": [],
   "source": [
    "for item in item_ratings:\n",
    "    for rating in item:\n",
    "        print(rating_cleaner(rating))"
   ]
  },
  {
   "cell_type": "code",
   "execution_count": null,
   "id": "1042729d",
   "metadata": {},
   "outputs": [],
   "source": [
    "rating_cleaner?"
   ]
  },
  {
   "cell_type": "markdown",
   "id": "c997cb14",
   "metadata": {},
   "source": [
    "# Arguments Types"
   ]
  },
  {
   "cell_type": "code",
   "execution_count": null,
   "id": "f3d56bde",
   "metadata": {},
   "outputs": [],
   "source": [
    "#Positional"
   ]
  },
  {
   "cell_type": "code",
   "execution_count": null,
   "id": "4ca10b55",
   "metadata": {},
   "outputs": [],
   "source": [
    "def concatenator(string1, string2):\n",
    "    return string1 + ' ' + string2\n",
    "concatenator('Hello', ' World')"
   ]
  },
  {
   "cell_type": "code",
   "execution_count": null,
   "id": "c129b397",
   "metadata": {},
   "outputs": [],
   "source": [
    "#Keyword"
   ]
  },
  {
   "cell_type": "code",
   "execution_count": null,
   "id": "4a8eb1a8",
   "metadata": {},
   "outputs": [],
   "source": [
    "def concatenator(string1, string2):\n",
    "    return string1 + ' ' + string2\n"
   ]
  },
  {
   "cell_type": "code",
   "execution_count": null,
   "id": "28fb05da",
   "metadata": {},
   "outputs": [],
   "source": [
    "concatenator(string2 = 'World!', string1 = 'Hello')"
   ]
  },
  {
   "cell_type": "code",
   "execution_count": null,
   "id": "ff2e3a67",
   "metadata": {},
   "outputs": [],
   "source": [
    "concatenator('Hello', 'World!')"
   ]
  },
  {
   "cell_type": "code",
   "execution_count": null,
   "id": "baae2e1a",
   "metadata": {},
   "outputs": [],
   "source": [
    "#Default"
   ]
  },
  {
   "cell_type": "code",
   "execution_count": null,
   "id": "6f204840",
   "metadata": {},
   "outputs": [],
   "source": [
    "def concatenator(string1, string2='World'):\n",
    "    return string1 + ' ' + string2"
   ]
  },
  {
   "cell_type": "code",
   "execution_count": null,
   "id": "b2510afa",
   "metadata": {},
   "outputs": [],
   "source": [
    "print(concatenator('Hola'))"
   ]
  },
  {
   "cell_type": "code",
   "execution_count": null,
   "id": "43d0bfd2",
   "metadata": {},
   "outputs": [],
   "source": [
    " print(concatenator('Hola', 'Mundo!'))"
   ]
  },
  {
   "cell_type": "code",
   "execution_count": null,
   "id": "94cd1b6b",
   "metadata": {},
   "outputs": [],
   "source": [
    "#*args"
   ]
  },
  {
   "cell_type": "code",
   "execution_count": null,
   "id": "781ebc9c",
   "metadata": {},
   "outputs": [],
   "source": [
    "def concatenator(*args):\n",
    "    new_string = ''\n",
    "    for arg in args:\n",
    "        new_string += (arg + ' ')\n",
    "    return new_string.rstrip()\n",
    "concatenator('Hello', 'world!', 'How', 'are', ' you?')"
   ]
  },
  {
   "cell_type": "code",
   "execution_count": null,
   "id": "2b369735",
   "metadata": {},
   "outputs": [],
   "source": [
    "#**kwargs"
   ]
  },
  {
   "cell_type": "code",
   "execution_count": null,
   "id": "28e51574",
   "metadata": {},
   "outputs": [],
   "source": [
    "def concatenator(**words):\n",
    "    new_string = ''\n",
    "    for word in words.values():\n",
    "        new_string += (word + ' ')\n",
    "    return new_string.rstrip()\n"
   ]
  },
  {
   "cell_type": "code",
   "execution_count": null,
   "id": "46b0a04b",
   "metadata": {},
   "outputs": [],
   "source": [
    "concatenator(a = 'Hello', b = 'world!', c = 'Whats', d = 'up?')"
   ]
  },
  {
   "cell_type": "code",
   "execution_count": null,
   "id": "1ed8da2a",
   "metadata": {},
   "outputs": [],
   "source": [
    "def exponetiator(constant, base, exponent):\n",
    "    return constant * (base ** exponent)"
   ]
  },
  {
   "cell_type": "code",
   "execution_count": null,
   "id": "91002f96",
   "metadata": {},
   "outputs": [],
   "source": [
    "param_dict = {'constant': 2, 'base': 3, 'exponent': 2}\n",
    "exponetiator(**param_dict)"
   ]
  },
  {
   "cell_type": "markdown",
   "id": "77272f66",
   "metadata": {},
   "source": [
    "# Demo Argument functions"
   ]
  },
  {
   "cell_type": "code",
   "execution_count": null,
   "id": "01fbe843",
   "metadata": {},
   "outputs": [],
   "source": [
    "website_ratings = ['5 stars', '1 star', '3 stars']\n",
    "forum_ratings = ['stars: 5', 'stars: 4', 'stars: 2']"
   ]
  },
  {
   "cell_type": "code",
   "execution_count": null,
   "id": "9d3545c2",
   "metadata": {},
   "outputs": [],
   "source": [
    "def rating_cleaner(*ratings, index = 0):\n",
    "    for rating in ratings:\n",
    "        numeric_rating = int(rating[index])\n",
    "        print(numeric_rating)"
   ]
  },
  {
   "cell_type": "code",
   "execution_count": null,
   "id": "405b7677",
   "metadata": {},
   "outputs": [],
   "source": [
    "print(rating_cleaner('stars: 2', -1))"
   ]
  },
  {
   "cell_type": "code",
   "execution_count": null,
   "id": "b5e15496",
   "metadata": {},
   "outputs": [],
   "source": [
    "print(rating_cleaner(rating = 'stars: 4', index = -1))"
   ]
  },
  {
   "cell_type": "code",
   "execution_count": null,
   "id": "035ea7f7",
   "metadata": {},
   "outputs": [],
   "source": [
    "print(rating_cleaner(index =-1, rating ='stars: 4'))"
   ]
  },
  {
   "cell_type": "code",
   "execution_count": null,
   "id": "62fa4999",
   "metadata": {},
   "outputs": [],
   "source": [
    "print(rating_cleaner('stars: 5', index =- 1))"
   ]
  },
  {
   "cell_type": "code",
   "execution_count": null,
   "id": "c237d2d9",
   "metadata": {},
   "outputs": [],
   "source": [
    "print(rating_cleaner(*forum_ratings, index=- 1))"
   ]
  },
  {
   "cell_type": "code",
   "execution_count": null,
   "id": "5c7e2f84",
   "metadata": {},
   "outputs": [],
   "source": [
    "print(*website_ratings)"
   ]
  },
  {
   "cell_type": "markdown",
   "id": "a25cf16a",
   "metadata": {},
   "source": [
    "# Return Values"
   ]
  },
  {
   "cell_type": "code",
   "execution_count": null,
   "id": "ff371b0f",
   "metadata": {},
   "outputs": [],
   "source": [
    "def concatenator(*words):\n",
    "    sentence = ''\n",
    "    for word in words:\n",
    "        sentence += word + ' '\n",
    "    last_word = words[-1]\n",
    "    return sentence.rstrip(), last_word"
   ]
  },
  {
   "cell_type": "code",
   "execution_count": null,
   "id": "e36d5127",
   "metadata": {},
   "outputs": [],
   "source": [
    "sentence, last_world = concatenator('hello,', 'world', 'how', 'are', 'you?')\n",
    "print(sentence)\n",
    "print(last_world)"
   ]
  },
  {
   "cell_type": "code",
   "execution_count": null,
   "id": "68b2c517",
   "metadata": {},
   "outputs": [],
   "source": [
    "def concatenator(*words):\n",
    "    sentence = ''\n",
    "    for word in words:\n",
    "        sentence += word + ' '\n",
    "    last_word = words[-1]\n",
    "    return[sentence.rstrip(), last_word]"
   ]
  },
  {
   "cell_type": "code",
   "execution_count": null,
   "id": "405049bd",
   "metadata": {},
   "outputs": [],
   "source": [
    "concatenator('Hello', 'world!', 'How', 'are', 'you?')"
   ]
  },
  {
   "cell_type": "code",
   "execution_count": null,
   "id": "67c81e41",
   "metadata": {},
   "outputs": [],
   "source": [
    "def concatenator(*words):\n",
    "    sentence = ''\n",
    "    for word in words:\n",
    "        sentence += word + ' '\n",
    "    last_word = word [-1]\n",
    "    return{sentence.rstrip(): last_word}\n",
    "concatenator('Hello', 'world!', 'How', 'are', 'you?')"
   ]
  },
  {
   "cell_type": "markdown",
   "id": "d05a4866",
   "metadata": {},
   "source": [
    "# return_values_demo"
   ]
  },
  {
   "cell_type": "code",
   "execution_count": null,
   "id": "d0b5e2d2",
   "metadata": {},
   "outputs": [],
   "source": [
    "website_ratings = ['5 stars', '4 stars', '3 stars']"
   ]
  },
  {
   "cell_type": "code",
   "execution_count": null,
   "id": "c3d20538",
   "metadata": {},
   "outputs": [],
   "source": [
    "def rating_cleaner(rating):\n",
    "    numeric_rating = int(rating[0])\n",
    "    return rating, numeric_rating"
   ]
  },
  {
   "cell_type": "code",
   "execution_count": null,
   "id": "da1d4163",
   "metadata": {},
   "outputs": [],
   "source": [
    "rating, numeric_rating = rating_cleaner(website_ratings[0])"
   ]
  },
  {
   "cell_type": "code",
   "execution_count": null,
   "id": "0b4f404a",
   "metadata": {},
   "outputs": [],
   "source": [
    "print(rating)"
   ]
  },
  {
   "cell_type": "code",
   "execution_count": null,
   "id": "ba9519ae",
   "metadata": {},
   "outputs": [],
   "source": [
    "print(numeric_rating)"
   ]
  },
  {
   "cell_type": "markdown",
   "id": "f33bef13",
   "metadata": {},
   "source": [
    "# Variable_scope"
   ]
  },
  {
   "cell_type": "code",
   "execution_count": null,
   "id": "548f1b51",
   "metadata": {},
   "outputs": [],
   "source": [
    "def concatenator(*words):\n",
    "    global sentence\n",
    "    sentence = ''\n",
    "    for word in words:\n",
    "        sentence += word + ' '\n",
    "    last_word = words[-1]\n",
    "    return sentence.rstrip(), last_word\n",
    "concatenator('Hello', 'world', 'How', 'are', 'you?')\n",
    "print(sentence)"
   ]
  },
  {
   "cell_type": "markdown",
   "id": "7e4e7e40",
   "metadata": {},
   "source": [
    "## Variable_scope_demo"
   ]
  },
  {
   "cell_type": "code",
   "execution_count": null,
   "id": "ff6fcc1b",
   "metadata": {},
   "outputs": [],
   "source": [
    "website_rating = ['5 stars', '4 stars', '3 stras']"
   ]
  },
  {
   "cell_type": "code",
   "execution_count": null,
   "id": "9d902d93",
   "metadata": {},
   "outputs": [],
   "source": [
    "def rating_cleaner(rating):\n",
    "    numeric_rating = int(rating[0])\n",
    "    return numeric_rating"
   ]
  },
  {
   "cell_type": "code",
   "execution_count": null,
   "id": "76997e68",
   "metadata": {},
   "outputs": [],
   "source": [
    "numeric_rating = rating_cleaner(website_ratings[0]))"
   ]
  },
  {
   "cell_type": "code",
   "execution_count": null,
   "id": "d1a0851a",
   "metadata": {},
   "outputs": [],
   "source": [
    "print(numeric_rating)"
   ]
  },
  {
   "cell_type": "markdown",
   "id": "48e58553",
   "metadata": {},
   "source": [
    "# Creating modules"
   ]
  },
  {
   "cell_type": "code",
   "execution_count": null,
   "id": "688efeda",
   "metadata": {},
   "outputs": [],
   "source": [
    "%%writefile saved_functions\n",
    "\n",
    "def concatenator(*words):\n",
    "    sentence = ''\n",
    "    for word in words:\n",
    "        sentence += word + ' '\n",
    "    last_word = words[-1]\n",
    "    return sentence.rstrip(), last_word"
   ]
  },
  {
   "cell_type": "code",
   "execution_count": null,
   "id": "26ff8795",
   "metadata": {},
   "outputs": [],
   "source": [
    "%%writefile saved_functions\n",
    "\n",
    "def concatenator(*words):\n",
    "    sentence = ''\n",
    "    for word in words:\n",
    "        sentence += word + ' '\n",
    "    last_word = words[-1]\n",
    "    return sentence.rstrip(), last_word\n",
    "\n",
    "def multiplier(num1, num2):\n",
    "    return num1 * num2"
   ]
  },
  {
   "cell_type": "markdown",
   "id": "62c68d40",
   "metadata": {},
   "source": [
    "# Importing Modules"
   ]
  },
  {
   "cell_type": "code",
   "execution_count": null,
   "id": "2681fd86",
   "metadata": {},
   "outputs": [],
   "source": [
    "import saved_functions\n",
    "saved_functions.concatenator('Hello', 'world!')"
   ]
  },
  {
   "cell_type": "code",
   "execution_count": null,
   "id": "a09cd84f",
   "metadata": {},
   "outputs": [],
   "source": [
    "saved_functions.multiplier(5, 10)"
   ]
  },
  {
   "cell_type": "code",
   "execution_count": null,
   "id": "90cae148",
   "metadata": {},
   "outputs": [],
   "source": [
    "from saved_functions import concatenator, multiplier\n",
    "concatenator('Hello', ' world!')\n"
   ]
  },
  {
   "cell_type": "code",
   "execution_count": null,
   "id": "883c495e",
   "metadata": {},
   "outputs": [],
   "source": [
    "print(multiplier(5, 10))"
   ]
  },
  {
   "cell_type": "markdown",
   "id": "1eb2aae5",
   "metadata": {},
   "source": [
    "# Demo_modules"
   ]
  },
  {
   "cell_type": "code",
   "execution_count": null,
   "id": "c0660199",
   "metadata": {},
   "outputs": [],
   "source": [
    "from rating_cleaner import rating_list_cleaner"
   ]
  },
  {
   "cell_type": "code",
   "execution_count": null,
   "id": "0a7c557c",
   "metadata": {},
   "outputs": [],
   "source": [
    "website_ratings = ['5 stars', '4 stars', '3 stars']"
   ]
  },
  {
   "cell_type": "code",
   "execution_count": null,
   "id": "e723d7c2",
   "metadata": {},
   "outputs": [],
   "source": [
    "print(r.rating_cleaner(website_ratings [0]))"
   ]
  },
  {
   "cell_type": "code",
   "execution_count": null,
   "id": "5eb80870",
   "metadata": {},
   "outputs": [],
   "source": [
    "print(rating_list_cleaner(website_ratings))"
   ]
  },
  {
   "cell_type": "markdown",
   "id": "ca36ef9d",
   "metadata": {},
   "source": [
    "# importing_external_functions"
   ]
  },
  {
   "cell_type": "code",
   "execution_count": null,
   "id": "2e4ff07b",
   "metadata": {},
   "outputs": [],
   "source": [
    "#example"
   ]
  },
  {
   "cell_type": "code",
   "execution_count": null,
   "id": "5bb81f5b",
   "metadata": {},
   "outputs": [],
   "source": [
    "import math\n",
    "dir(math)"
   ]
  },
  {
   "cell_type": "code",
   "execution_count": null,
   "id": "7a0d06cd",
   "metadata": {},
   "outputs": [],
   "source": [
    "math.sqrt(81)"
   ]
  },
  {
   "cell_type": "markdown",
   "id": "78d6d731",
   "metadata": {},
   "source": [
    "# importing_external_functions"
   ]
  },
  {
   "cell_type": "code",
   "execution_count": null,
   "id": "85f4be81",
   "metadata": {},
   "outputs": [],
   "source": [
    "import saved_functions\n",
    "dir(saved_functions)"
   ]
  },
  {
   "cell_type": "code",
   "execution_count": null,
   "id": "da6da15f",
   "metadata": {},
   "outputs": [],
   "source": [
    "import math\n",
    "dir(math)"
   ]
  },
  {
   "cell_type": "markdown",
   "id": "d3ec126b",
   "metadata": {},
   "source": [
    "## Pro Tip: Naming Conflicts"
   ]
  },
  {
   "cell_type": "code",
   "execution_count": null,
   "id": "9fec3ec1",
   "metadata": {},
   "outputs": [],
   "source": [
    "def sqrt(number):\n",
    "    return f'the square root of {number} is its square root.'\n",
    "sqrt(10)\n"
   ]
  },
  {
   "cell_type": "code",
   "execution_count": null,
   "id": "c875507c",
   "metadata": {},
   "outputs": [],
   "source": [
    "from math import sqrt\n",
    "sqrt(10)"
   ]
  },
  {
   "cell_type": "code",
   "execution_count": null,
   "id": "4d6f52c6",
   "metadata": {},
   "outputs": [],
   "source": [
    "def sqrt(number):\n",
    "    return f'The square root of {number} is its square root.'"
   ]
  },
  {
   "cell_type": "code",
   "execution_count": null,
   "id": "8aca0e6f",
   "metadata": {},
   "outputs": [],
   "source": [
    "import math as m\n",
    "\n",
    "print(m.sqrt(10))\n",
    "print(sqrt(10))"
   ]
  },
  {
   "cell_type": "markdown",
   "id": "33ef8261",
   "metadata": {},
   "source": [
    "## Installing packages"
   ]
  },
  {
   "cell_type": "code",
   "execution_count": null,
   "id": "db3ec2b6",
   "metadata": {},
   "outputs": [],
   "source": [
    "!conda install openpyxl"
   ]
  },
  {
   "cell_type": "code",
   "execution_count": null,
   "id": "602363e1",
   "metadata": {},
   "outputs": [],
   "source": [
    "!conda list\n"
   ]
  },
  {
   "cell_type": "markdown",
   "id": "86ef3403",
   "metadata": {},
   "source": [
    "## Demo external_functions_and_packages_demo"
   ]
  },
  {
   "cell_type": "code",
   "execution_count": null,
   "id": "6c0db32b",
   "metadata": {},
   "outputs": [],
   "source": [
    "import numpy as np"
   ]
  },
  {
   "cell_type": "code",
   "execution_count": null,
   "id": "e81a80e5",
   "metadata": {},
   "outputs": [],
   "source": [
    "subtotals = [15.98, 899.97, 799.97, 117.96, 5.99]"
   ]
  },
  {
   "cell_type": "code",
   "execution_count": null,
   "id": "52b524c8",
   "metadata": {},
   "outputs": [],
   "source": [
    "np.mean(subtotals)"
   ]
  },
  {
   "cell_type": "code",
   "execution_count": null,
   "id": "8e715c2a",
   "metadata": {},
   "outputs": [],
   "source": [
    "import sys\n",
    "!conda install --yes -- prefix {sys.prefix} mathplotlib"
   ]
  },
  {
   "cell_type": "code",
   "execution_count": null,
   "id": "1b2e64dd",
   "metadata": {},
   "outputs": [],
   "source": [
    "import matplotlib.pyplot as plt"
   ]
  },
  {
   "cell_type": "code",
   "execution_count": null,
   "id": "6e8a4293",
   "metadata": {},
   "outputs": [],
   "source": [
    "plt.plot(subtotals)"
   ]
  },
  {
   "cell_type": "markdown",
   "id": "dea3aed0",
   "metadata": {},
   "source": [
    "## Map_function"
   ]
  },
  {
   "cell_type": "code",
   "execution_count": null,
   "id": "94c2e800",
   "metadata": {},
   "outputs": [],
   "source": [
    "def currency_formatter(number):\n",
    "    return '$' + str(number)"
   ]
  },
  {
   "cell_type": "code",
   "execution_count": null,
   "id": "47766bea",
   "metadata": {},
   "outputs": [],
   "source": [
    "price_list = [5.99, 19.99, 29.01, 40.99, 45.99]\n",
    "map(currency_formatter, price_list)"
   ]
  },
  {
   "cell_type": "code",
   "execution_count": null,
   "id": "99b61a80",
   "metadata": {},
   "outputs": [],
   "source": [
    "list(map(currency_formatter, price_list))"
   ]
  },
  {
   "cell_type": "markdown",
   "id": "b51fd80b",
   "metadata": {},
   "source": [
    "## Lambda function"
   ]
  },
  {
   "cell_type": "code",
   "execution_count": null,
   "id": "808737f0",
   "metadata": {},
   "outputs": [],
   "source": [
    "(lambda x: x**2) (3)"
   ]
  },
  {
   "cell_type": "code",
   "execution_count": null,
   "id": "9ef19b6e",
   "metadata": {},
   "outputs": [],
   "source": [
    "(lambda x, y: x * y if y >5 else x/y)(6, 5)"
   ]
  },
  {
   "cell_type": "code",
   "execution_count": null,
   "id": "88fabd0f",
   "metadata": {},
   "outputs": [],
   "source": [
    "price_list = [5.99, 19.99, 24.99, 0, 74.99, 99.99]\n",
    "exchange_rate = 0.88\n",
    "\n",
    "converted = map(lambda x: round(x * exchange_rate, 2), price_list)\n",
    "list(converted)"
   ]
  },
  {
   "cell_type": "markdown",
   "id": "d0a04a24",
   "metadata": {},
   "source": [
    "## Demo Lambda function"
   ]
  },
  {
   "cell_type": "code",
   "execution_count": null,
   "id": "2a8ff2cd",
   "metadata": {},
   "outputs": [],
   "source": [
    "#so lets take a look at lambda functions in action. Lambda fuction is super helpful for performing one off data manipulation or data clening tasks"
   ]
  },
  {
   "cell_type": "code",
   "execution_count": null,
   "id": "8790914a",
   "metadata": {},
   "outputs": [],
   "source": [
    "customer_ids = ['C00001', 'C00002', 'C00005', 'C11111']"
   ]
  },
  {
   "cell_type": "code",
   "execution_count": null,
   "id": "f1d20fa1",
   "metadata": {},
   "outputs": [],
   "source": [
    "list(map(lambda x: int(x[1:]), customer_ids))"
   ]
  },
  {
   "cell_type": "markdown",
   "id": "4ef26e1c",
   "metadata": {},
   "source": [
    "## list_comprehension_demo"
   ]
  },
  {
   "cell_type": "code",
   "execution_count": null,
   "id": "97e8ebb6",
   "metadata": {},
   "outputs": [],
   "source": [
    "import numpy as np "
   ]
  },
  {
   "cell_type": "code",
   "execution_count": null,
   "id": "b27f0858",
   "metadata": {},
   "outputs": [],
   "source": [
    "ratings = ['3 stars', '4 stars', '5 stars', '3 stars', '1 star', '5 stars', '4 stars']"
   ]
  },
  {
   "cell_type": "code",
   "execution_count": null,
   "id": "2e22cfa3",
   "metadata": {},
   "outputs": [],
   "source": [
    "numeric_ratings = [int(rating[0]) for rating in ratings if int(rating[0]) < 4]"
   ]
  },
  {
   "cell_type": "code",
   "execution_count": null,
   "id": "279f4595",
   "metadata": {},
   "outputs": [],
   "source": [
    "np.mean(numeric_ratings)"
   ]
  },
  {
   "cell_type": "markdown",
   "id": "c9191ad1",
   "metadata": {},
   "source": [
    "# Functions - repetition"
   ]
  },
  {
   "cell_type": "code",
   "execution_count": null,
   "id": "5c87caf3",
   "metadata": {},
   "outputs": [],
   "source": [
    "price_list = [5.99, 19.99, 24.99, 0, 74.99, 99.99, 2.22, 4.99, 2.22, 4.99]\n",
    "\n"
   ]
  },
  {
   "cell_type": "code",
   "execution_count": null,
   "id": "6beac121",
   "metadata": {},
   "outputs": [],
   "source": [
    "print(price_list)"
   ]
  },
  {
   "cell_type": "code",
   "execution_count": null,
   "id": "decaa90e",
   "metadata": {},
   "outputs": [],
   "source": [
    "price_list.count(2.22)"
   ]
  },
  {
   "cell_type": "code",
   "execution_count": null,
   "id": "73d4cadf",
   "metadata": {},
   "outputs": [],
   "source": [
    "price_list.remove(5.99)"
   ]
  },
  {
   "cell_type": "code",
   "execution_count": null,
   "id": "8272188a",
   "metadata": {},
   "outputs": [],
   "source": [
    "print(price_list)\n"
   ]
  },
  {
   "cell_type": "markdown",
   "id": "b14df393",
   "metadata": {},
   "source": [
    "# Defining a function - repetition"
   ]
  },
  {
   "cell_type": "code",
   "execution_count": null,
   "id": "49c50945",
   "metadata": {},
   "outputs": [],
   "source": [
    "def function_name(arguments):\n",
    "    do this #- condtions\n",
    "    return output"
   ]
  },
  {
   "cell_type": "code",
   "execution_count": null,
   "id": "a5dac7cc",
   "metadata": {},
   "outputs": [],
   "source": [
    "def concatenator(string1, string2):\n",
    "    combined_string = string1 + ' ' + string2\n",
    "    return combined_string"
   ]
  },
  {
   "cell_type": "code",
   "execution_count": null,
   "id": "16f24c2b",
   "metadata": {},
   "outputs": [],
   "source": [
    "print(concatenator('Hello', ' World!'))"
   ]
  },
  {
   "cell_type": "markdown",
   "id": "99fd8442",
   "metadata": {},
   "source": [
    "## The docstring - repetition"
   ]
  },
  {
   "cell_type": "code",
   "execution_count": null,
   "id": "27a5a0e3",
   "metadata": {},
   "outputs": [],
   "source": [
    "# is a string containing the documentation for our function"
   ]
  },
  {
   "cell_type": "code",
   "execution_count": null,
   "id": "e0dca634",
   "metadata": {},
   "outputs": [],
   "source": [
    "def concatenator(string1, string2):\n",
    "    #combines two strings, separated with a space\n",
    "    \n",
    "    #args:\n",
    "        #string1(str): string to put before space\n",
    "        #string2(str): string to put after space\n",
    "    #returns:\n",
    "        #str: string1 and string2 separated by a space\n",
    "         \n",
    "    return string1 + ' ' + string2"
   ]
  },
  {
   "cell_type": "markdown",
   "id": "5c72091d",
   "metadata": {},
   "source": [
    "## defining_functions_demo"
   ]
  },
  {
   "cell_type": "code",
   "execution_count": null,
   "id": "b346c73d",
   "metadata": {},
   "outputs": [],
   "source": [
    "item_ratings = [\n",
    "    ['5 star', '1 star', '3 stars'],\n",
    "    ['5 stars', '4 stars'],\n",
    "    ['4 stars', '2 stars'],\n",
    "    ['1 star']\n",
    "]"
   ]
  },
  {
   "cell_type": "code",
   "execution_count": null,
   "id": "e4ef5637",
   "metadata": {},
   "outputs": [],
   "source": [
    "def rating_cleaner(rating):\n",
    "    \"\"\" \n",
    "    ### gets numeric portion from web rating\n",
    "    ### args: rating(str): text rating form web\n",
    "    ### returns: int: integer protion of rating\n",
    "    \"\"\"\n",
    "    numeric_rating = int(rating[0])\n",
    "    return numeric_rating\n",
    "    "
   ]
  },
  {
   "cell_type": "code",
   "execution_count": null,
   "id": "8030c34e",
   "metadata": {},
   "outputs": [],
   "source": [
    "rating_cleaner('5 stars')"
   ]
  },
  {
   "cell_type": "code",
   "execution_count": null,
   "id": "39dd3d15",
   "metadata": {},
   "outputs": [],
   "source": [
    "for item in item_ratings:\n",
    "    for rating in item:\n",
    "        print(rating_cleaner(rating))"
   ]
  },
  {
   "cell_type": "code",
   "execution_count": null,
   "id": "903e8706",
   "metadata": {},
   "outputs": [],
   "source": [
    "rating_cleaner?"
   ]
  },
  {
   "cell_type": "markdown",
   "id": "e96865ce",
   "metadata": {},
   "source": [
    "## Arguments Types - repetition "
   ]
  },
  {
   "cell_type": "code",
   "execution_count": null,
   "id": "3812d349",
   "metadata": {},
   "outputs": [],
   "source": [
    "def concatenator(string1, string2):\n",
    "    return string1 + ' '+ string2"
   ]
  },
  {
   "cell_type": "code",
   "execution_count": null,
   "id": "c5d27ccc",
   "metadata": {},
   "outputs": [],
   "source": [
    "concatenator('Hello', 'World')"
   ]
  },
  {
   "cell_type": "code",
   "execution_count": null,
   "id": "0be244a7",
   "metadata": {},
   "outputs": [],
   "source": [
    "concatenator('World',' Hello')"
   ]
  },
  {
   "cell_type": "code",
   "execution_count": null,
   "id": "a3711d1b",
   "metadata": {},
   "outputs": [],
   "source": [
    "#keyword arguments"
   ]
  },
  {
   "cell_type": "code",
   "execution_count": null,
   "id": "14231820",
   "metadata": {},
   "outputs": [],
   "source": [
    "def concatenator(string1, string2):\n",
    "    return string1 + ' '+ string2"
   ]
  },
  {
   "cell_type": "code",
   "execution_count": null,
   "id": "ded39a3a",
   "metadata": {},
   "outputs": [],
   "source": [
    "concatenator(string2 = 'World!', string1='Hello')"
   ]
  },
  {
   "cell_type": "code",
   "execution_count": null,
   "id": "a755886c",
   "metadata": {},
   "outputs": [],
   "source": [
    "concatenator('Hello', string2='World!')"
   ]
  },
  {
   "cell_type": "code",
   "execution_count": null,
   "id": "79b9272e",
   "metadata": {},
   "outputs": [],
   "source": [
    "# Default arguments"
   ]
  },
  {
   "cell_type": "code",
   "execution_count": null,
   "id": "b18bf6d8",
   "metadata": {},
   "outputs": [],
   "source": [
    "def concatenator(string1, string2 = 'World'):\n",
    "    return string1 + ' '+ string2"
   ]
  },
  {
   "cell_type": "code",
   "execution_count": null,
   "id": "fbff2454",
   "metadata": {},
   "outputs": [],
   "source": [
    "concatenator ('Hola')"
   ]
  },
  {
   "cell_type": "code",
   "execution_count": null,
   "id": "3be3a1bd",
   "metadata": {},
   "outputs": [],
   "source": [
    "concatenator('Hola', 'Mundo!')"
   ]
  },
  {
   "cell_type": "code",
   "execution_count": null,
   "id": "2eec27b5",
   "metadata": {},
   "outputs": [],
   "source": [
    "# *args arguments"
   ]
  },
  {
   "cell_type": "code",
   "execution_count": null,
   "id": "7170256a",
   "metadata": {},
   "outputs": [],
   "source": [
    "def concatenator(*args):\n",
    "    new_string = ''\n",
    "    for arg in args:\n",
    "        new_string += (arg + ' ')\n",
    "    return new_string.rstrip()"
   ]
  },
  {
   "cell_type": "code",
   "execution_count": null,
   "id": "fd0e2c54",
   "metadata": {},
   "outputs": [],
   "source": [
    "concatenator('Hello', 'world', 'How', 'are', 'you?')"
   ]
  },
  {
   "cell_type": "code",
   "execution_count": null,
   "id": "36db2e15",
   "metadata": {},
   "outputs": [],
   "source": [
    "def concatenator(**words):\n",
    "    new_string = ''\n",
    "    for word in words.values():\n",
    "        new_string += (word + ' ')\n",
    "    return new_string.rstrip()"
   ]
  },
  {
   "cell_type": "code",
   "execution_count": null,
   "id": "6408083c",
   "metadata": {},
   "outputs": [],
   "source": [
    "concatenator(a = 'Hello', b = 'there!',\n",
    "            c = \"what's\", d= 'up?')"
   ]
  },
  {
   "cell_type": "code",
   "execution_count": null,
   "id": "a10d6576",
   "metadata": {},
   "outputs": [],
   "source": [
    "def exponetiator (constant, base, exponent):\n",
    "    return constant * (base**exponent)"
   ]
  },
  {
   "cell_type": "code",
   "execution_count": null,
   "id": "f8cda6d1",
   "metadata": {},
   "outputs": [],
   "source": [
    "param_dict = {'constant': 2, 'base': 3, 'exponent': 2}\n",
    "exponetiator(**param_dict)"
   ]
  },
  {
   "cell_type": "markdown",
   "id": "a2a65667",
   "metadata": {},
   "source": [
    "## demo mode argument_types_demo"
   ]
  },
  {
   "cell_type": "code",
   "execution_count": null,
   "id": "c683fc62",
   "metadata": {},
   "outputs": [],
   "source": [
    "website_ratings = ['5 stars', '1 star', '3 stras']\n",
    "forum_ratings = ['stars: 5', 'stars: 4', 'stars: 2']"
   ]
  },
  {
   "cell_type": "code",
   "execution_count": null,
   "id": "340c9413",
   "metadata": {},
   "outputs": [],
   "source": [
    "def rating_cleaner(rating, index = 0):\n",
    "    numeric_rating = int(rating[index])\n",
    "    return numeric_rating"
   ]
  },
  {
   "cell_type": "code",
   "execution_count": null,
   "id": "b643a119",
   "metadata": {},
   "outputs": [],
   "source": [
    "print(rating_cleaner('stars: 4', -1)) #lapiemy 5 z koncowki naszego stringa\n",
    "print(rating_cleaner('stars: 5', -1))\n",
    "print(rating_cleaner(rating = 'stars: 2', index = -1))\n",
    "print(rating_cleaner(index = -1 , rating = 'stars: 5'))\n"
   ]
  },
  {
   "cell_type": "code",
   "execution_count": null,
   "id": "e644d814",
   "metadata": {},
   "outputs": [],
   "source": [
    "print(rating_cleaner('5 stars', 0))\n",
    "print(rating_cleaner('1 stars', 0))\n",
    "print(rating_cleaner('3 stars', 0))"
   ]
  },
  {
   "cell_type": "code",
   "execution_count": null,
   "id": "13af2be3",
   "metadata": {},
   "outputs": [],
   "source": [
    "print(rating_cleaner('5 stars', )) #nie musimy podawac numeru indexu jesli zostanie on podany jako domysly w def"
   ]
  },
  {
   "cell_type": "code",
   "execution_count": null,
   "id": "6a6ed14f",
   "metadata": {},
   "outputs": [],
   "source": [
    "def rating_cleaner(*ratings, index = 0):\n",
    "    for rating in ratings:\n",
    "        numeric_rating = int(rating[index])\n",
    "        print(numeric_rating)"
   ]
  },
  {
   "cell_type": "code",
   "execution_count": null,
   "id": "26c8ec75",
   "metadata": {},
   "outputs": [],
   "source": [
    "print(rating_cleaner(*forum_ratings, index = -1))"
   ]
  },
  {
   "cell_type": "code",
   "execution_count": null,
   "id": "8ad57136",
   "metadata": {},
   "outputs": [],
   "source": [
    "print(rating_cleaner(*website_ratings, index = 0))"
   ]
  },
  {
   "cell_type": "markdown",
   "id": "d4c51586",
   "metadata": {},
   "source": [
    "## return_values"
   ]
  },
  {
   "cell_type": "code",
   "execution_count": null,
   "id": "87d41432",
   "metadata": {},
   "outputs": [],
   "source": [
    "def concatenator(*words):\n",
    "    sentence = ''\n",
    "    for word in words:\n",
    "        sentence += word + ' '\n",
    "    last_word = words[-1]\n",
    "    return sentence.rstrip(), last_word"
   ]
  },
  {
   "cell_type": "code",
   "execution_count": null,
   "id": "88214669",
   "metadata": {},
   "outputs": [],
   "source": [
    "print(concatenator('hello world', 'how are you today?'))"
   ]
  },
  {
   "cell_type": "code",
   "execution_count": null,
   "id": "2736a0e4",
   "metadata": {},
   "outputs": [],
   "source": [
    "sentence, last_word = concatenator('Hello', 'world', 'How', 'are', 'you')\n",
    "print(sentence)\n",
    "print(last_word)"
   ]
  },
  {
   "cell_type": "code",
   "execution_count": null,
   "id": "ba2267c2",
   "metadata": {},
   "outputs": [],
   "source": [
    "def concatenator(*words):\n",
    "    sentence = ''\n",
    "    for word in words:\n",
    "        sentence += word + ' '\n",
    "    last_word = words[-1]\n",
    "    return [sentence.rstrip(), last_word] #jesli dodamy zawiasy kwadrtowe(square brackets) to otrzymamy print jako liste"
   ]
  },
  {
   "cell_type": "code",
   "execution_count": null,
   "id": "05af369f",
   "metadata": {},
   "outputs": [],
   "source": [
    "print(concatenator('hello world', 'how are you today?'))"
   ]
  },
  {
   "cell_type": "code",
   "execution_count": null,
   "id": "1d2bfda1",
   "metadata": {},
   "outputs": [],
   "source": [
    "def concatenator(*words):\n",
    "    sentence = ''\n",
    "    for word in words:\n",
    "        sentence += word + ' '\n",
    "    last_word = words[-1]\n",
    "    return {sentence.rstrip(), last_word} #jesli dodamy zawiasy curly brackets to otrzymamy print jako dictonaries"
   ]
  },
  {
   "cell_type": "code",
   "execution_count": null,
   "id": "bf3878d7",
   "metadata": {},
   "outputs": [],
   "source": [
    "print(concatenator('hello world', 'how are you today?'))"
   ]
  },
  {
   "cell_type": "markdown",
   "id": "ea9a2f97",
   "metadata": {},
   "source": [
    "## demo_return_values"
   ]
  },
  {
   "cell_type": "code",
   "execution_count": null,
   "id": "53dd5a45",
   "metadata": {},
   "outputs": [],
   "source": [
    "website_ratings = ['5 stars', '1 star', '3 stras']\n"
   ]
  },
  {
   "cell_type": "code",
   "execution_count": null,
   "id": "52f2d79f",
   "metadata": {},
   "outputs": [],
   "source": [
    "def rating_cleaner(rating):\n",
    "    numeric_rating = int(rating[0])\n",
    "    return rating, numeric_rating #and then specify a key values pairs"
   ]
  },
  {
   "cell_type": "code",
   "execution_count": null,
   "id": "a5f50a3c",
   "metadata": {},
   "outputs": [],
   "source": [
    "print(rating_cleaner(website_ratings[0]))"
   ]
  },
  {
   "cell_type": "code",
   "execution_count": null,
   "id": "0f1586e8",
   "metadata": {},
   "outputs": [],
   "source": [
    "rating, numeric_rating = rating_cleaner(website_ratings[0])"
   ]
  },
  {
   "cell_type": "code",
   "execution_count": null,
   "id": "1d0c6500",
   "metadata": {},
   "outputs": [],
   "source": [
    "print(rating)"
   ]
  },
  {
   "cell_type": "code",
   "execution_count": null,
   "id": "69c912f0",
   "metadata": {},
   "outputs": [],
   "source": [
    "print(numeric_rating)"
   ]
  },
  {
   "cell_type": "markdown",
   "id": "7f344c7a",
   "metadata": {},
   "source": [
    "## variable scope"
   ]
  },
  {
   "cell_type": "code",
   "execution_count": null,
   "id": "8f1d2338",
   "metadata": {},
   "outputs": [],
   "source": [
    " def concatenator(*words):\n",
    "    global sentence #musi zostac zadeklaowane na samym poczatku \n",
    "    sentence = ''\n",
    "    for word in words:\n",
    "        sentence += word + ' '\n",
    "    last_word = words[-1]\n",
    "    return sentence.rstrip(), last_word\n"
   ]
  },
  {
   "cell_type": "code",
   "execution_count": null,
   "id": "414ec2c9",
   "metadata": {},
   "outputs": [],
   "source": [
    "print(concatenator('hello', 'world', 'how', 'are', 'you', 'today?'))\n",
    "print(sentence)"
   ]
  },
  {
   "cell_type": "markdown",
   "id": "8f81db4b",
   "metadata": {},
   "source": [
    "## demo_variable_scope"
   ]
  },
  {
   "cell_type": "code",
   "execution_count": null,
   "id": "7f79bb6b",
   "metadata": {},
   "outputs": [],
   "source": [
    "website_ratings = ['5 stars', '1 star', '3 stras']\n"
   ]
  },
  {
   "cell_type": "code",
   "execution_count": null,
   "id": "3e33bd3d",
   "metadata": {},
   "outputs": [],
   "source": [
    "def rating_cleaner(rating):\n",
    "    numeric_rating = int(rating[0])\n",
    "    return numeric_rating"
   ]
  },
  {
   "cell_type": "code",
   "execution_count": null,
   "id": "3de386e9",
   "metadata": {},
   "outputs": [],
   "source": [
    "numeric_rating = (rating_cleaner(website_ratings[0]))"
   ]
  },
  {
   "cell_type": "code",
   "execution_count": null,
   "id": "de2e6383",
   "metadata": {},
   "outputs": [],
   "source": [
    "print(numeric_rating)"
   ]
  },
  {
   "cell_type": "markdown",
   "id": "b96d5feb",
   "metadata": {},
   "source": [
    "## creating_modules"
   ]
  },
  {
   "cell_type": "code",
   "execution_count": null,
   "id": "d1da60b7",
   "metadata": {},
   "outputs": [],
   "source": [
    "%%writefile saved_function.py\n",
    "def concatenator(*words):\n",
    "    sentence = ''\n",
    "    for word in words:\n",
    "        sentence += word + ' '\n",
    "    last_word = words[-1]\n",
    "    return sentence.rstrip(), last_word\n",
    "\n",
    "def multiplier(num1 + num2):\n",
    "    return num1 * num2"
   ]
  },
  {
   "cell_type": "markdown",
   "id": "d304d45f",
   "metadata": {},
   "source": [
    "## importing modules"
   ]
  },
  {
   "cell_type": "code",
   "execution_count": null,
   "id": "c2c7e56f",
   "metadata": {},
   "outputs": [],
   "source": [
    "import saved_functions\n",
    "\n",
    "saved_functions.concatenator('Hello', 'world')"
   ]
  },
  {
   "cell_type": "code",
   "execution_count": null,
   "id": "0b5f5388",
   "metadata": {},
   "outputs": [],
   "source": [
    "saved_functions.multiplier(5, 10)"
   ]
  },
  {
   "cell_type": "code",
   "execution_count": null,
   "id": "c86e4e7e",
   "metadata": {},
   "outputs": [],
   "source": [
    "from saved_function import concatenator, multiplier\n",
    "\n",
    "concatenator('hello', 'world!')"
   ]
  },
  {
   "cell_type": "markdown",
   "id": "6c47e177",
   "metadata": {},
   "source": [
    "## modules_demo"
   ]
  },
  {
   "cell_type": "code",
   "execution_count": null,
   "id": "008ff52b",
   "metadata": {},
   "outputs": [],
   "source": [
    "%%writefile rating_cleaner_01.py\n",
    "def rating_cleaner(rating):\n",
    "    \"\"\"gets numeric portion from web rating\n",
    "    \n",
    "    Args:\n",
    "        rating(str): test rating form web\n",
    "    Returns:\n",
    "        int: integer portion of rating\n",
    "    \"\"\" \n",
    "    numeric_rating = int(rating[0])\n",
    "    return numeric_rating\n",
    "\n",
    "def rating_list_cleaner(rating_list):\n",
    "    \"\"\" cleans list of ratings and returns numeric\n",
    "    ratings lists\n",
    "    Args:\n",
    "        rating_list(list): list of text ratings\n",
    "    Returns:\n",
    "        list: list of integer ratings\n",
    "    \"\"\"\n",
    "    numeric_list = []\n",
    "    for rating in rating_list:\n",
    "        numeric_rating = rating_cleaner(rating)\n",
    "        numeric_list.append(numeric_rating)\n",
    "    return numeric_list"
   ]
  },
  {
   "cell_type": "code",
   "execution_count": 9,
   "id": "cb8761c3",
   "metadata": {},
   "outputs": [],
   "source": [
    "from rating_cleaner import rating_list_cleaner"
   ]
  },
  {
   "cell_type": "code",
   "execution_count": 10,
   "id": "6014b788",
   "metadata": {},
   "outputs": [],
   "source": [
    "website_ratings = ['5 stars', '4 stars', '3 stars']"
   ]
  },
  {
   "cell_type": "code",
   "execution_count": 13,
   "id": "79e3c8f3",
   "metadata": {},
   "outputs": [
    {
     "ename": "TypeError",
     "evalue": "'module' object is not callable",
     "output_type": "error",
     "traceback": [
      "\u001b[0;31m---------------------------------------------------------------------------\u001b[0m",
      "\u001b[0;31mTypeError\u001b[0m                                 Traceback (most recent call last)",
      "Cell \u001b[0;32mIn[13], line 1\u001b[0m\n\u001b[0;32m----> 1\u001b[0m rating_cleaner(website_ratings[\u001b[38;5;241m0\u001b[39m])\n",
      "\u001b[0;31mTypeError\u001b[0m: 'module' object is not callable"
     ]
    }
   ],
   "source": [
    "rating_cleaner(website_ratings[0])"
   ]
  },
  {
   "cell_type": "code",
   "execution_count": 12,
   "id": "24f8200f",
   "metadata": {},
   "outputs": [
    {
     "data": {
      "text/plain": [
       "[5, 4, 3]"
      ]
     },
     "execution_count": 12,
     "metadata": {},
     "output_type": "execute_result"
    }
   ],
   "source": [
    "rating_list_cleaner(website_ratings)"
   ]
  },
  {
   "cell_type": "code",
   "execution_count": null,
   "id": "fb07d583",
   "metadata": {},
   "outputs": [],
   "source": []
  }
 ],
 "metadata": {
  "kernelspec": {
   "display_name": "Python 3 (ipykernel)",
   "language": "python",
   "name": "python3"
  },
  "language_info": {
   "codemirror_mode": {
    "name": "ipython",
    "version": 3
   },
   "file_extension": ".py",
   "mimetype": "text/x-python",
   "name": "python",
   "nbconvert_exporter": "python",
   "pygments_lexer": "ipython3",
   "version": "3.11.3"
  }
 },
 "nbformat": 4,
 "nbformat_minor": 5
}
